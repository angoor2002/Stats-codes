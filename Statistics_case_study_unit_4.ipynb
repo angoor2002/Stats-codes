{
  "nbformat": 4,
  "nbformat_minor": 0,
  "metadata": {
    "colab": {
      "provenance": []
    },
    "kernelspec": {
      "name": "python3",
      "display_name": "Python 3"
    },
    "language_info": {
      "name": "python"
    }
  },
  "cells": [
    {
      "cell_type": "markdown",
      "source": [
        "## **GOODNESS OF FIT TEST**\n",
        "\n",
        "to check if there is any preference in country attacked during the year 2000 or not\n",
        "\n",
        "Ho: it is good fit\n",
        "\n",
        "\n",
        "H1: it is not a good fit"
      ],
      "metadata": {
        "id": "z-3Q9SvtInmV"
      }
    },
    {
      "cell_type": "code",
      "execution_count": null,
      "metadata": {
        "id": "OO7ZbfW7CoZm",
        "colab": {
          "base_uri": "https://localhost:8080/"
        },
        "outputId": "159e580b-c478-4a63-bbe1-68598c7c4eea"
      },
      "outputs": [
        {
          "output_type": "stream",
          "name": "stdout",
          "text": [
            "[['2000', 'Namibia', '0'], ['2000', 'Namibia', '0'], ['2000', 'India', '1'], ['2000', 'Kosovo', '0'], ['2000', 'Somalia', '6'], ['2000', 'Bangladesh', ''], ['2000', 'India', '0'], ['2000', 'Kosovo', '0'], ['2000', 'Turkey', '0'], ['2000', 'Spain', '0'], ['2000', 'Spain', '0'], ['2000', 'Bangladesh', ''], ['2000', 'Bangladesh', ''], ['2000', 'Bangladesh', ''], ['2000', 'Bangladesh', ''], ['2000', 'Bangladesh', '0'], ['2000', 'Bangladesh', ''], ['2000', 'Bangladesh', '0'], ['2000', 'Bangladesh', '0'], ['2000', 'Bangladesh', ''], ['2000', 'Bangladesh', '0'], ['2000', 'Bangladesh', ''], ['2000', 'Bangladesh', ''], ['2000', 'Bangladesh', ''], ['2000', 'Bangladesh', '0'], ['2000', 'Bangladesh', '0'], ['2000', 'United States', '0'], ['2000', 'Sri Lanka', '63'], ['2000', 'Germany', '0'], ['2000', 'Algeria', '5'], ['2000', 'Colombia', '0'], ['2000', 'Colombia', '0'], ['2000', 'Namibia', '3'], ['2000', 'Lebanon', '2'], ['2000', 'India', '18'], ['2000', 'Greece', '0'], ['2000', 'Algeria', ''], ['2000', 'Algeria', '6'], ['2000', 'United States', '0'], ['2000', 'United States', '0'], ['2000', 'United States', '0'], ['2000', 'Yemen', '0'], ['2000', 'Spain', '0'], ['2000', 'Armenia', '0'], ['2000', 'Greece', '0'], ['2000', 'Uganda', '0'], ['2000', 'Colombia', '0'], ['2000', 'Nigeria', '0'], ['2000', 'Spain', '0'], ['2000', 'Spain', '0'], ['2000', 'Sri Lanka', '1'], ['2000', 'Sri Lanka', '11'], ['2000', 'Spain', '0'], ['2000', 'Russia', '0'], ['2000', 'India', '0'], ['2000', 'India', '0'], ['2000', 'Slovak Republic', '0'], ['2000', 'United Kingdom', '0'], ['2000', 'Colombia', '0'], ['2000', 'Italy', '0'], ['2000', 'Spain', '0'], ['2000', 'Sudan', '2'], ['2000', 'Iraq', '1'], ['2000', 'Indonesia', '2'], ['2000', 'Yugoslavia', '0'], ['2000', 'Spain', '0'], ['2000', 'Iran', '3'], ['2000', 'Yugoslavia', '0'], ['2000', 'Indonesia', '1'], ['2000', 'Turkey', '0'], ['2000', 'Colombia', '0'], ['2000', 'Namibia', '2'], ['2000', 'Bosnia-Herzegovina', '0'], ['2000', 'United Kingdom', '1'], ['2000', 'Algeria', '1'], ['2000', 'Macedonia', '3'], ['2000', 'Uganda', '10'], ['2000', 'India', '2'], ['2000', 'Japan', '0'], ['2000', 'South Africa', '3'], ['2000', 'Colombia', ''], ['2000', 'Colombia', ''], ['2000', 'Colombia', ''], ['2000', 'India', '20'], ['2000', 'South Africa', '0'], ['2000', 'South Africa', '0'], ['2000', 'Zambia', '0'], ['2000', 'Zambia', '0'], ['2000', 'Zambia', '0'], ['2000', 'Zambia', '0'], ['2000', 'Zambia', '0'], ['2000', 'Zambia', '0'], ['2000', 'Zambia', '0'], ['2000', 'Zambia', '0'], ['2000', 'Lebanon', '1'], ['2000', 'Uganda', '0'], ['2000', 'South Africa', '0'], ['2000', 'France', '0'], ['2000', 'Sri Lanka', '1'], ['2000', 'Namibia', '4'], ['2000', 'Nepal', '0'], ['2000', 'Mozambique', ''], ['2000', 'Russia', '3'], ['2000', 'Sri Lanka', '2'], ['2000', 'Switzerland', '0'], ['2000', 'Thailand', '1'], ['2000', 'Angola', '36'], ['2000', 'United States', '0'], ['2000', 'Sudan', '0'], ['2000', 'India', '0'], ['2000', 'Turkey', '0'], ['2000', 'India', '0'], ['2000', 'Uganda', '24'], ['2000', 'Pakistan', '9'], ['2000', 'Colombia', '0'], ['2000', 'Israel', '0'], ['2000', 'Colombia', '0'], ['2000', 'Yemen', '0'], ['2000', 'Colombia', '1'], ['2000', 'Sri Lanka', '0'], ['2000', 'Russia', '0'], ['2000', 'Philippines', '0'], ['2000', 'Burundi', '0'], ['2000', 'Macedonia', '0'], ['2000', 'India', '0'], ['2000', 'Sri Lanka', '5'], ['2000', 'United States', '0'], ['2000', 'Spain', '3'], ['2000', 'Kosovo', '0'], ['2000', 'Ecuador', '0'], ['2000', 'Namibia', '3'], ['2000', 'Namibia', '1'], ['2000', 'Paraguay', '0'], ['2000', 'Greece', '0'], ['2000', 'Thailand', ''], ['2000', 'Uganda', '4'], ['2000', 'Indonesia', '4'], ['2000', 'Iraq', '0'], ['2000', 'India', '4'], ['2000', 'United States', '0'], ['2000', 'Sri Lanka', '14'], ['2000', 'Iraq', '0'], ['2000', 'Turkey', '0'], ['2000', 'Georgia', '2'], ['2000', 'Angola', '1'], ['2000', 'Yemen', '0'], ['2000', 'Nepal', ''], ['2000', 'India', '0'], ['2000', 'Colombia', '0'], ['2000', 'Russia', '1'], ['2000', 'Somalia', '4'], ['2000', 'Spain', '0'], ['2000', 'Turkey', '0'], ['2000', 'Turkey', '0'], ['2000', 'Sri Lanka', '11'], ['2000', 'India', '0'], ['2000', 'Nepal', '1'], ['2000', 'Indonesia', '0'], ['2000', 'Burundi', '0'], ['2000', 'Russia', '3'], ['2000', 'India', '0'], ['2000', 'Sri Lanka', '3'], ['2000', 'Pakistan', '4'], ['2000', 'Pakistan', '0'], ['2000', 'Colombia', '0'], ['2000', 'Colombia', '11'], ['2000', 'Algeria', ''], ['2000', 'Uganda', ''], ['2000', 'Algeria', '1'], ['2000', 'Spain', '0'], ['2000', 'Spain', '0'], ['2000', 'Namibia', '0'], ['2000', 'Spain', '0'], ['2000', 'Pakistan', '2'], ['2000', 'Colombia', '0'], ['2000', 'Yugoslavia', '0'], ['2000', 'Kosovo', '0'], ['2000', 'Somalia', '15'], ['2000', 'Turkey', '0'], ['2000', 'Spain', '0'], ['2000', 'Lebanon', '1'], ['2000', 'Sri Lanka', '0'], ['2000', 'Nepal', '0'], ['2000', 'India', '0'], ['2000', 'India', '0'], ['2000', 'Sudan', '4'], ['2000', 'Turkey', '0'], ['2000', 'India', '0'], ['2000', 'Turkey', '0'], ['2000', 'Macedonia', '0'], ['2000', 'Peru', '3'], ['2000', 'Sri Lanka', '0'], ['2000', 'Kosovo', '0'], ['2000', 'Kosovo', '2'], ['2000', 'Colombia', '0'], ['2000', 'Sudan', '0'], ['2000', 'Colombia', '2'], ['2000', 'Iran', '1'], ['2000', 'Iran', '1'], ['2000', 'Pakistan', '4'], ['2000', 'United Kingdom', '0'], ['2000', 'Afghanistan', '0'], ['2000', 'Yugoslavia', '1'], ['2000', 'Russia', '12'], ['2000', 'India', '4'], ['2000', 'Colombia', '0'], ['2000', 'Sri Lanka', '9'], ['2000', 'Mexico', '4'], ['2000', 'Afghanistan', '0'], ['2000', 'India', '2'], ['2000', 'Sri Lanka', '0'], ['2000', 'India', '6'], ['2000', 'Turkey', '0'], ['2000', 'Turkey', '0'], ['2000', 'Turkey', '0'], ['2000', 'Lebanon', '1'], ['2000', 'Spain', '0'], ['2000', 'Sri Lanka', '3'], ['2000', 'Kosovo', '0'], ['2000', 'Greece', '0'], ['2000', 'Uganda', '4'], ['2000', 'Philippines', '3'], ['2000', 'Philippines', '0'], ['2000', 'China', '1'], ['2000', 'Philippines', '1'], ['2000', 'Tajikistan', '1'], ['2000', 'Ecuador', '0'], ['2000', 'India', '2'], ['2000', 'Namibia', '5'], ['2000', 'Lebanon', '0'], ['2000', 'Colombia', '1'], ['2000', 'India', '10'], ['2000', 'India', '0'], ['2000', 'Colombia', '0'], ['2000', 'India', '8'], ['2000', 'Colombia', '15'], ['2000', 'Algeria', '6'], ['2000', 'Nepal', '15'], ['2000', 'Afghanistan', '0'], ['2000', 'India', '22'], ['2000', 'Philippines', '1'], ['2000', 'Philippines', '0'], ['2000', 'Philippines', '0'], ['2000', 'Colombia', '9'], ['2000', 'India', '0'], ['2000', 'Angola', '31'], ['2000', 'Angola', '7'], ['2000', 'India', '2'], ['2000', 'Burundi', '2'], ['2000', 'Philippines', '1'], ['2000', 'Colombia', '28'], ['2000', 'Russia', '0'], ['2000', 'Ecuador', '0'], ['2000', 'Algeria', '4'], ['2000', 'Yemen', '0'], ['2000', 'Peru', '1'], ['2000', 'Spain', '2'], ['2000', 'Algeria', '1'], ['2000', 'Colombia', '0'], ['2000', 'Senegal', '2'], ['2000', 'Kosovo', '0'], ['2000', 'Russia', ''], ['2000', 'India', '3'], ['2000', 'Indonesia', '0'], ['2000', 'Algeria', '1'], ['2000', 'Colombia', '0'], ['2000', 'Colombia', '0'], ['2000', 'Russia', '0'], ['2000', 'Senegal', '0'], ['2000', 'Indonesia', '1'], ['2000', 'Bangladesh', '1'], ['2000', 'Colombia', '0'], ['2000', 'Colombia', '0'], ['2000', 'Colombia', '0'], ['2000', 'Colombia', '0'], ['2000', 'Colombia', '0'], ['2000', 'Colombia', '0'], ['2000', 'Algeria', '3'], ['2000', 'United Kingdom', '0'], ['2000', 'Algeria', '1'], ['2000', 'Algeria', '0'], ['2000', 'United Kingdom', '0'], ['2000', 'Philippines', '44'], ['2000', 'Algeria', '6'], ['2000', 'United States', '0'], ['2000', 'Sri Lanka', '0'], ['2000', 'Algeria', '5'], ['2000', 'Philippines', '0'], ['2000', 'Namibia', '1'], ['2000', 'India', '0'], ['2000', 'Spain', '0'], ['2000', 'India', '5'], ['2000', 'Spain', '0'], ['2000', 'Philippines', '0'], ['2000', 'Namibia', '2'], ['2000', 'Belize', '0'], ['2000', 'Kosovo', '1'], ['2000', 'Kosovo', ''], ['2000', 'Lebanon', '5'], ['2000', 'Algeria', '3'], ['2000', 'Yemen', '0'], ['2000', 'Algeria', '10'], ['2000', 'Russia', '16'], ['2000', 'Bangladesh', '0'], ['2000', 'Sri Lanka', '1'], ['2000', 'Philippines', '10'], ['2000', 'India', '8'], ['2000', 'Algeria', '2'], ['2000', 'India', '13'], ['2000', 'India', '5'], ['2000', 'Lebanon', '0'], ['2000', 'Spain', '0'], ['2000', 'Spain', '0'], ['2000', 'Uganda', '4'], ['2000', 'Greece', '0'], ['2000', 'Greece', '0'], ['2000', 'India', '12'], ['2000', 'Colombia', '6'], ['2000', 'Algeria', '3'], ['2000', 'Spain', '0'], ['2000', 'East Timor', '0'], ['2000', 'India', '3'], ['2000', 'India', '8'], ['2000', 'Kosovo', '0'], ['2000', 'Algeria', '2'], ['2000', 'Algeria', '3'], ['2000', 'Colombia', '0'], ['2000', 'Sri Lanka', '22'], ['2000', 'Pakistan', '3'], ['2000', 'France', '0'], ['2000', 'India', '9'], ['2000', 'Bosnia-Herzegovina', '0'], ['2000', 'Turkey', '1'], ['2000', 'Bosnia-Herzegovina', '0'], ['2000', 'Iran', '0'], ['2000', 'Burundi', '3'], ['2000', 'United States', '0'], ['2000', 'Algeria', '1'], ['2000', 'Iran', '0'], ['2000', 'Algeria', '4'], ['2000', 'Algeria', '3'], ['2000', 'Colombia', '2'], ['2000', 'India', '2'], ['2000', 'Yugoslavia', '1'], ['2000', 'Nigeria', '0'], ['2000', 'Colombia', '0'], ['2000', 'Philippines', '0'], ['2000', 'Philippines', '2'], ['2000', 'Spain', '0'], ['2000', 'Angola', ''], ['2000', 'Algeria', '1'], ['2000', 'India', '0'], ['2000', 'Nicaragua', '2'], ['2000', 'Colombia', '2'], ['2000', 'Uganda', '200'], ['2000', 'Philippines', '8'], ['2000', 'India', '0'], ['2000', 'Algeria', '1'], ['2000', 'West Bank and Gaza Strip', '0'], ['2000', 'Algeria', '3'], ['2000', 'Philippines', '8'], ['2000', 'Spain', '0'], ['2000', 'India', '35'], ['2000', 'India', ''], ['2000', 'Algeria', '2'], ['2000', 'Colombia', '0'], ['2000', 'Colombia', '0'], ['2000', 'Angola', '6'], ['2000', 'United States', '0'], ['2000', 'Azerbaijan', '0'], ['2000', 'Algeria', '0'], ['2000', 'Lebanon', '1'], ['2000', 'Brazil', '0'], ['2000', 'India', '5'], ['2000', 'Bosnia-Herzegovina', '0'], ['2000', 'Spain', '0'], ['2000', 'Spain', '0'], ['2000', 'Spain', '0'], ['2000', 'United States', '0'], ['2000', 'Colombia', '29'], ['2000', 'Colombia', '1'], ['2000', 'Sri Lanka', ''], ['2000', 'Sri Lanka', ''], ['2000', 'Russia', '1'], ['2000', 'Russia', '0'], ['2000', 'Pakistan', '7'], ['2000', 'Nepal', '0'], ['2000', 'Russia', ''], ['2000', 'Colombia', '4'], ['2000', 'Laos', '0'], ['2000', 'Somalia', '0'], ['2000', 'Nepal', '1'], ['2000', 'Indonesia', '0'], ['2000', 'Colombia', '0'], ['2000', 'Indonesia', '0'], ['2000', 'Spain', '0'], ['2000', 'France', '0'], ['2000', 'Algeria', '2'], ['2000', 'Algeria', '0'], ['2000', 'Algeria', '2'], ['2000', 'Algeria', '5'], ['2000', 'Algeria', '2'], ['2000', 'Yemen', '0'], ['2000', 'Algeria', '0'], ['2000', 'Nepal', '0'], ['2000', 'Greece', '0'], ['2000', 'Greece', '0'], ['2000', 'Greece', '0'], ['2000', 'Turkey', '0'], ['2000', 'Haiti', '2'], ['2000', 'United States', '0'], ['2000', 'Colombia', '0'], ['2000', 'Colombia', '0'], ['2000', 'Algeria', '2'], ['2000', 'Sri Lanka', '3'], ['2000', 'Pakistan', '2'], ['2000', 'India', '0'], ['2000', 'Pakistan', '0'], ['2000', 'United Kingdom', '0'], ['2000', 'Colombia', '21'], ['2000', 'Pakistan', '0'], ['2000', 'Pakistan', '0'], ['2000', 'Nigeria', '0'], ['2000', 'Lebanon', '0'], ['2000', 'Philippines', '0'], ['2000', 'Philippines', '1'], ['2000', 'United States', '0'], ['2000', 'India', '0'], ['2000', 'India', '0'], ['2000', 'India', '0'], ['2000', 'India', '0'], ['2000', 'India', '0'], ['2000', 'Haiti', '1'], ['2000', 'India', '0'], ['2000', 'Colombia', '0'], ['2000', 'Colombia', '0'], ['2000', 'Colombia', '0'], ['2000', 'Colombia', '0'], ['2000', 'Colombia', '0'], ['2000', 'Colombia', '0'], ['2000', 'Algeria', '0'], ['2000', 'Yugoslavia', '0'], ['2000', 'Namibia', '0'], ['2000', 'India', '0'], ['2000', 'Pakistan', '16'], ['2000', 'Philippines', '2'], ['2000', 'Greece', '0'], ['2000', 'Colombia', '0'], ['2000', 'United Kingdom', '0'], ['2000', 'Algeria', '12'], ['2000', 'Colombia', '0'], ['2000', 'Turkey', '0'], ['2000', 'Nepal', ''], ['2000', 'Nigeria', '0'], ['2000', 'United States', '0'], ['2000', 'Algeria', '0'], ['2000', 'Philippines', '0'], ['2000', 'Philippines', '0'], ['2000', 'France', '0'], ['2000', 'India', '0'], ['2000', 'France', '0'], ['2000', 'Sri Lanka', '0'], ['2000', 'Nepal', '1'], ['2000', 'Kosovo', '0'], ['2000', 'India', ''], ['2000', 'France', '1'], ['2000', 'India', '1'], ['2000', 'India', '2'], ['2000', 'India', '8'], ['2000', 'Algeria', '2'], ['2000', 'Italy', '0'], ['2000', 'Algeria', '0'], ['2000', 'France', '0'], ['2000', 'India', '5'], ['2000', 'Malaysia', '0'], ['2000', 'Philippines', '0'], ['2000', 'Tajikistan', '1'], ['2000', 'Pakistan', '0'], ['2000', 'Pakistan', '0'], ['2000', 'Pakistan', '0'], ['2000', 'Spain', '0'], ['2000', 'Switzerland', '0'], ['2000', 'Algeria', '3'], ['2000', 'Switzerland', '0'], ['2000', 'Pakistan', '2'], ['2000', 'India', '0'], ['2000', 'Yugoslavia', '1'], ['2000', 'India', '1'], ['2000', 'India', '0'], ['2000', 'Germany', '0'], ['2000', 'Philippines', '0'], ['2000', 'Iran', '0'], ['2000', 'Russia', '0'], ['2000', 'Sierra Leone', '4'], ['2000', 'Sudan', '0'], ['2000', 'Philippines', '0'], ['2000', 'Philippines', '0'], ['2000', 'Philippines', '0'], ['2000', 'United Kingdom', '0'], ['2000', 'India', '2'], ['2000', 'Philippines', '5'], ['2000', 'Philippines', '5'], ['2000', 'Philippines', '5'], ['2000', 'Algeria', '23'], ['2000', 'France', '0'], ['2000', 'France', '0'], ['2000', 'France', '0'], ['2000', 'Iraq', '1'], ['2000', 'Angola', '1'], ['2000', 'Philippines', '0'], ['2000', 'Laos', '0'], ['2000', 'Israel', '0'], ['2000', 'Turkey', '1'], ['2000', 'Pakistan', '2'], ['2000', 'Pakistan', '0'], ['2000', 'Philippines', '0'], ['2000', 'Kosovo', ''], ['2000', 'Spain', '1'], ['2000', 'India', '0'], ['2000', 'Kosovo', '0'], ['2000', 'United States', '0'], ['2000', 'Colombia', '0'], ['2000', 'Spain', '2'], ['2000', 'India', '0'], ['2000', 'Russia', ''], ['2000', 'Sierra Leone', '0'], ['2000', 'Kosovo', '0'], ['2000', 'Sierra Leone', '0'], ['2000', 'Sri Lanka', ''], ['2000', 'Algeria', '2'], ['2000', 'Russia', '19'], ['2000', 'Lebanon', '1'], ['2000', 'Russia', '3'], ['2000', 'Russia', '3'], ['2000', 'Haiti', '1'], ['2000', 'Iran', ''], ['2000', 'Yugoslavia', '1'], ['2000', 'Russia', '0'], ['2000', 'Algeria', '5'], ['2000', 'Colombia', '0'], ['2000', 'Colombia', '2'], ['2000', 'India', '5'], ['2000', 'Sri Lanka', '1'], ['2000', 'India', '5'], ['2000', 'Sri Lanka', '6'], ['2000', 'Philippines', '1'], ['2000', 'Kenya', '0'], ['2000', 'Philippines', '0'], ['2000', 'Haiti', '0'], ['2000', 'Iraq', ''], ['2000', 'Sri Lanka', ''], ['2000', 'Sri Lanka', '17'], ['2000', 'Sri Lanka', '29'], ['2000', 'Tunisia', '5'], ['2000', 'Canada', '0'], ['2000', 'Philippines', '4'], ['2000', 'Pakistan', '2'], ['2000', 'Philippines', '1'], ['2000', 'Paraguay', '0'], ['2000', 'India', '0'], ['2000', 'Israel', '0'], ['2000', 'Kosovo', '0'], ['2000', 'Philippines', '0'], ['2000', 'Philippines', '0'], ['2000', 'France', '0'], ['2000', 'Tajikistan', '1'], ['2000', 'Philippines', '1'], ['2000', 'United Kingdom', '0'], ['2000', 'West Bank and Gaza Strip', '0'], ['2000', 'Burundi', '5'], ['2000', 'Philippines', '0'], ['2000', 'Philippines', '0'], ['2000', 'India', '0'], ['2000', 'India', '25'], ['2000', 'India', '0'], ['2000', 'India', '1'], ['2000', 'South Africa', '0'], ['2000', 'Philippines', '1'], ['2000', 'Sri Lanka', '2'], ['2000', 'Israel', '2'], ['2000', 'Sierra Leone', '6'], ['2000', 'Philippines', '0'], ['2000', 'Sri Lanka', '0'], ['2000', 'Georgia', '0'], ['2000', 'Angola', '0'], ['2000', 'Rwanda', '4'], ['2000', 'Philippines', '4'], ['2000', 'Kyrgyzstan', '1'], ['2000', 'Philippines', '1'], ['2000', 'Croatia', '2'], ['2000', 'Philippines', '0'], ['2000', 'Kosovo', '0'], ['2000', 'Russia', '3'], ['2000', 'Philippines', '3'], ['2000', 'Philippines', '0'], ['2000', 'Philippines', '8'], ['2000', 'Philippines', '4'], ['2000', 'Indonesia', '0'], ['2000', 'Indonesia', '1'], ['2000', 'United States', '0'], ['2000', 'United States', '0'], ['2000', 'Philippines', '3'], ['2000', 'India', '2'], ['2000', 'Russia', ''], ['2000', 'Laos', '0'], ['2000', 'Indonesia', '0'], ['2000', 'East Timor', '0'], ['2000', 'Indonesia', '0'], ['2000', 'Indonesia', '1'], ['2000', 'Russia', '2'], ['2000', 'Kosovo', '3'], ['2000', 'India', '0'], ['2000', 'Philippines', '0'], ['2000', 'India', '0'], ['2000', 'Algeria', '0'], ['2000', 'Russia', '1'], ['2000', 'Sri Lanka', '5'], ['2000', 'Sierra Leone', ''], ['2000', 'Laos', ''], ['2000', 'Russia', '3'], ['2000', 'Yugoslavia', '1'], ['2000', 'Sierra Leone', '0'], ['2000', 'Sierra Leone', '0'], ['2000', 'United Kingdom', '0'], ['2000', 'Georgia', '0'], ['2000', 'Algeria', '4'], ['2000', 'India', '11'], ['2000', 'Russia', '0'], ['2000', 'Russia', '1'], ['2000', 'Kosovo', '2'], ['2000', 'Sierra Leone', '0'], ['2000', 'Algeria', '0'], ['2000', 'Algeria', '0'], ['2000', 'Russia', ''], ['2000', 'Russia', ''], ['2000', 'Sri Lanka', '15'], ['2000', 'Namibia', '0'], ['2000', 'Namibia', '0'], ['2000', 'Philippines', '0'], ['2000', 'Spain', '0'], ['2000', 'Algeria', '2'], ['2000', 'Russia', '0'], ['2000', 'Philippines', '0'], ['2000', 'India', '2'], ['2000', 'Sierra Leone', '0'], ['2000', 'Philippines', '0'], ['2000', 'Philippines', '1'], ['2000', 'France', '0'], ['2000', 'Afghanistan', '0'], ['2000', 'India', '2'], ['2000', 'India', '1'], ['2000', 'India', '3'], ['2000', 'Spain', '1'], ['2000', 'Colombia', '0'], ['2000', 'Philippines', ''], ['2000', 'Sierra Leone', '0'], ['2000', 'Sri Lanka', '34'], ['2000', 'Colombia', '0'], ['2000', 'Kosovo', '0'], ['2000', 'Kosovo', '0'], ['2000', 'United Kingdom', '0'], ['2000', 'Laos', '0'], ['2000', 'Kosovo', '0'], ['2000', 'Lebanon', '0'], ['2000', 'Lebanon', '0'], ['2000', 'Sierra Leone', ''], ['2000', 'Algeria', '5'], ['2000', 'Nepal', '17'], ['2000', 'Algeria', '0'], ['2000', 'Japan', '0'], ['2000', 'Japan', '0'], ['2000', 'Japan', '0'], ['2000', 'Japan', '0'], ['2000', 'Japan', '0'], ['2000', 'Algeria', '5'], ['2000', 'Bosnia-Herzegovina', '1'], ['2000', 'Sri Lanka', '24'], ['2000', 'Russia', '3'], ['2000', 'United Kingdom', '0'], ['2000', 'Sri Lanka', '1'], ['2000', 'India', '0'], ['2000', 'Philippines', '0'], ['2000', 'Japan', '0'], ['2000', 'Russia', '1'], ['2000', 'Yugoslavia', '0'], ['2000', 'Greece', '1'], ['2000', 'Sri Lanka', '3'], ['2000', 'India', '0'], ['2000', 'India', '0'], ['2000', 'India', '0'], ['2000', 'India', '0'], ['2000', 'Spain', '0'], ['2000', 'Spain', '0'], ['2000', 'Spain', '0'], ['2000', 'Spain', '0'], ['2000', 'Japan', '0'], ['2000', 'Japan', '0'], ['2000', 'Japan', '0'], ['2000', 'Japan', '0'], ['2000', 'Russia', '3'], ['2000', 'Angola', '6'], ['2000', 'Indonesia', '0'], ['2000', 'Philippines', ''], ['2000', 'South Africa', '0'], ['2000', 'Angola', '1'], ['2000', 'Algeria', '4'], ['2000', 'Spain', '0'], ['2000', 'Spain', '0'], ['2000', 'Spain', '0'], ['2000', 'Russia', '5'], ['2000', 'India', '1'], ['2000', 'Kosovo', '0'], ['2000', 'Somalia', '9'], ['2000', 'Sierra Leone', ''], ['2000', 'Russia', '7'], ['2000', 'Uganda', '0'], ['2000', 'India', '12'], ['2000', 'Russia', '0'], ['2000', 'Philippines', '1'], ['2000', 'Philippines', ''], ['2000', 'India', '2'], ['2000', 'Netherlands', '0'], ['2000', 'Sri Lanka', '3'], ['2000', 'Nepal', '3'], ['2000', 'Philippines', '0'], ['2000', 'Russia', '0'], ['2000', 'Thailand', '0'], ['2000', 'Kosovo', '2'], ['2000', 'Russia', '4'], ['2000', 'Yugoslavia', '0'], ['2000', 'Russia', '1'], ['2000', 'Kosovo', '1'], ['2000', 'Algeria', '1'], ['2000', 'Yemen', '0'], ['2000', 'Algeria', '13'], ['2000', 'United States', '0'], ['2000', 'Russia', '0'], ['2000', 'Russia', '1'], ['2000', 'Russia', '0'], ['2000', 'United Kingdom', '0'], ['2000', 'Sri Lanka', '1'], ['2000', 'Indonesia', '0'], ['2000', 'Nigeria', '0'], ['2000', 'Colombia', '1'], ['2000', 'Sri Lanka', '0'], ['2000', 'United Kingdom', '0'], ['2000', 'Kosovo', '0'], ['2000', 'Iraq', '0'], ['2000', 'East Timor', '0'], ['2000', 'Philippines', '0'], ['2000', 'Latvia', '0'], ['2000', 'United Kingdom', '0'], ['2000', 'United Kingdom', '0'], ['2000', 'Yugoslavia', '0'], ['2000', 'Iraq', '0'], ['2000', 'Iraq', '0'], ['2000', 'Spain', '0'], ['2000', 'Spain', '0'], ['2000', 'Spain', '0'], ['2000', 'Spain', '0'], ['2000', 'Colombia', '0'], ['2000', 'Zimbabwe', '0'], ['2000', 'Algeria', '1'], ['2000', 'Algeria', '1'], ['2000', 'India', '9'], ['2000', 'Iran', '0'], ['2000', 'Kosovo', '1'], ['2000', 'Spain', '0'], ['2000', 'India', '0'], ['2000', 'Spain', '0'], ['2000', 'Sri Lanka', '16'], ['2000', 'Philippines', '0'], ['2000', 'Kosovo', '0'], ['2000', 'Kosovo', '0'], ['2000', 'Kosovo', '0'], ['2000', 'France', '0'], ['2000', 'Philippines', '14'], ['2000', 'Sri Lanka', '0'], ['2000', 'Kosovo', '0'], ['2000', 'Bosnia-Herzegovina', '0'], ['2000', 'Sierra Leone', '0'], ['2000', 'India', '0'], ['2000', 'Iraq', '2'], ['2000', 'Italy', '0'], ['2000', 'United Kingdom', '0'], ['2000', 'Spain', '0'], ['2000', 'Kosovo', '0'], ['2000', 'United Kingdom', '0'], ['2000', 'United Kingdom', '0'], ['2000', 'Colombia', '1'], ['2000', 'Russia', '3'], ['2000', 'Colombia', '0'], ['2000', 'Sierra Leone', ''], ['2000', 'Sierra Leone', '21'], ['2000', 'Russia', '50'], ['2000', 'Russia', '6'], ['2000', 'Russia', '9'], ['2000', 'Russia', '2'], ['2000', 'Russia', '4'], ['2000', 'Philippines', '0'], ['2000', 'Indonesia', '4'], ['2000', 'United States', '0'], ['2000', 'South Africa', '1'], ['2000', 'Japan', '0'], ['2000', 'India', '0'], ['2000', 'Indonesia', '0'], ['2000', 'Philippines', '10'], ['2000', 'Algeria', '9'], ['2000', 'Sierra Leone', '0'], ['2000', 'Greece', '0'], ['2000', 'United Kingdom', '0'], ['2000', 'Sri Lanka', '1'], ['2000', 'Indonesia', '0'], ['2000', 'Italy', '0'], ['2000', 'Turkey', '1'], ['2000', 'Russia', '2'], ['2000', 'Italy', '0'], ['2000', 'Philippines', '0'], ['2000', 'Malaysia', '0'], ['2000', 'Colombia', '0'], ['2000', 'Pakistan', '1'], ['2000', 'India', '0'], ['2000', 'Algeria', '4'], ['2000', 'Algeria', '3'], ['2000', 'Algeria', '1'], ['2000', 'Algeria', '1'], ['2000', 'Burundi', '2'], ['2000', 'Algeria', '9'], ['2000', 'India', '2'], ['2000', 'Algeria', '3'], ['2000', 'Algeria', '2'], ['2000', 'Algeria', '1'], ['2000', 'Algeria', '3'], ['2000', 'United Kingdom', '0'], ['2000', 'Philippines', '2'], ['2000', 'Russia', '2'], ['2000', 'Russia', '2'], ['2000', 'Philippines', '0'], ['2000', 'Democratic Republic of the Congo', '30'], ['2000', 'Algeria', '4'], ['2000', 'Namibia', '0'], ['2000', 'Colombia', '3'], ['2000', 'Afghanistan', '0'], ['2000', 'Malaysia', '2'], ['2000', 'Burundi', '3'], ['2000', 'Canada', '0'], ['2000', 'Algeria', '4'], ['2000', 'Kosovo', '0'], ['2000', 'Bangladesh', '8'], ['2000', 'Spain', '0'], ['2000', 'India', '3'], ['2000', 'Algeria', '2'], ['2000', 'Algeria', '9'], ['2000', 'Algeria', '6'], ['2000', 'Pakistan', '0'], ['2000', 'India', '4'], ['2000', 'India', '0'], ['2000', 'Spain', '0'], ['2000', 'Spain', '1'], ['2000', 'Russia', '1'], ['2000', 'Nepal', '4'], ['2000', 'Colombia', '13'], ['2000', 'United Kingdom', '0'], ['2000', 'Nepal', '4'], ['2000', 'Iran', '0'], ['2000', 'Sierra Leone', '1'], ['2000', 'Pakistan', '0'], ['2000', 'Pakistan', '9'], ['2000', 'Russia', '1'], ['2000', 'Russia', '1'], ['2000', 'India', '5'], ['2000', 'Spain', '0'], ['2000', 'Bangladesh', '1'], ['2000', 'India', '5'], ['2000', 'Germany', '0'], ['2000', 'Sierra Leone', '1'], ['2000', 'Tajikistan', '1'], ['2000', 'Algeria', '9'], ['2000', 'Philippines', '2'], ['2000', 'Afghanistan', '0'], ['2000', 'Philippines', '21'], ['2000', 'Philippines', '0'], ['2000', 'United Kingdom', '0'], ['2000', 'Philippines', '4'], ['2000', 'South Africa', '0'], ['2000', 'Algeria', '5'], ['2000', 'Angola', '2'], ['2000', 'India', '6'], ['2000', 'Russia', '1'], ['2000', 'United Kingdom', '0'], ['2000', 'Spain', '0'], ['2000', 'Spain', '0'], ['2000', 'United States', '0'], ['2000', 'United Kingdom', '0'], ['2000', 'Algeria', '5'], ['2000', 'Philippines', '0'], ['2000', 'Spain', '0'], ['2000', 'Sri Lanka', '0'], ['2000', 'Algeria', '3'], ['2000', 'Angola', '2'], ['2000', 'Guatemala', '2'], ['2000', 'Kosovo', '0'], ['2000', 'Bangladesh', '0'], ['2000', 'Philippines', '2'], ['2000', 'Pakistan', '7'], ['2000', 'Colombia', '1'], ['2000', 'Afghanistan', '1'], ['2000', 'Philippines', '16'], ['2000', 'Pakistan', '0'], ['2000', 'Kosovo', '1'], ['2000', 'India', '7'], ['2000', 'Mexico', '0'], ['2000', 'Spain', '0'], ['2000', 'East Timor', '1'], ['2000', 'India', '1'], ['2000', 'Russia', '0'], ['2000', 'Philippines', '0'], ['2000', 'Spain', '0'], ['2000', 'Philippines', '0'], ['2000', 'Spain', '0'], ['2000', 'Somalia', '0'], ['2000', 'Russia', '1'], ['2000', 'Algeria', '2'], ['2000', 'Algeria', '0'], ['2000', 'Germany', '0'], ['2000', 'Colombia', '0'], ['2000', 'Fiji', '0'], ['2000', 'Fiji', '0'], ['2000', 'Spain', '0'], ['2000', 'Spain', '1'], ['2000', 'Colombia', '10'], ['2000', 'Namibia', '0'], ['2000', 'Russia', '0'], ['2000', 'Greece', '0'], ['2000', 'Russia', '0'], ['2000', 'India', '0'], ['2000', 'India', '1'], ['2000', 'India', '12'], ['2000', 'Laos', '0'], ['2000', 'Sierra Leone', '1'], ['2000', 'India', '0'], ['2000', 'Germany', '0'], ['2000', 'Laos', '0'], ['2000', 'Nigeria', '0'], ['2000', 'Sierra Leone', '1'], ['2000', 'India', '0'], ['2000', 'Algeria', '1'], ['2000', 'Indonesia', '2'], ['2000', 'India', '35'], ['2000', 'Russia', '0'], ['2000', 'Hong Kong', '0'], ['2000', 'Russia', '1'], ['2000', 'Cyprus', '0'], ['2000', 'Kosovo', '3'], ['2000', 'Cyprus', '0'], ['2000', 'Russia', '1'], ['2000', 'Russia', '0'], ['2000', 'Namibia', '1'], ['2000', 'Pakistan', '2'], ['2000', 'Algeria', '0'], ['2000', 'Afghanistan', '12'], ['2000', 'Russia', '2'], ['2000', 'Angola', '14'], ['2000', 'Spain', '1'], ['2000', 'Spain', '4'], ['2000', 'France', '2'], ['2000', 'Kosovo', '0'], ['2000', 'Spain', '0'], ['2000', 'Russia', '12'], ['2000', 'Saudi Arabia', '0'], ['2000', 'Uganda', '18'], ['2000', 'Angola', '1'], ['2000', 'Kosovo', '1'], ['2000', 'Sri Lanka', '1'], ['2000', 'United Kingdom', '0'], ['2000', 'India', '10'], ['2000', 'Colombia', '0'], ['2000', 'Colombia', '2'], ['2000', 'Algeria', '4'], ['2000', 'Pakistan', '0'], ['2000', 'Pakistan', '0'], ['2000', 'Kyrgyzstan', '1'], ['2000', 'Kyrgyzstan', '0'], ['2000', 'Pakistan', '0'], ['2000', 'Philippines', '2'], ['2000', 'France', '0'], ['2000', 'India', '4'], ['2000', 'Algeria', '2'], ['2000', 'India', '1'], ['2000', 'India', '0'], ['2000', 'India', '0'], ['2000', 'Algeria', '1'], ['2000', 'Spain', '0'], ['2000', 'India', '11'], ['2000', 'Russia', '2'], ['2000', 'Colombia', '0'], ['2000', 'Turkey', '0'], ['2000', 'Spain', '0'], ['2000', 'Spain', '0'], ['2000', 'Spain', '0'], ['2000', 'India', '0'], ['2000', 'Georgia', '1'], ['2000', 'United Kingdom', '0'], ['2000', 'Israel', '4'], ['2000', 'Israel', '0'], ['2000', 'Greece', '0'], ['2000', 'Uganda', '10'], ['2000', 'Russia', '2'], ['2000', 'India', '0'], ['2000', 'Sri Lanka', '2'], ['2000', 'Latvia', '1'], ['2000', 'France', '0'], ['2000', 'Gambia', '0'], ['2000', 'India', '6'], ['2000', 'Russia', '0'], ['2000', 'Kosovo', '0'], ['2000', 'Russia', '0'], ['2000', 'Kosovo', '0'], ['2000', 'India', '4'], ['2000', 'Germany', '0'], ['2000', 'Turkey', '0'], ['2000', 'Spain', '2'], ['2000', 'Russia', '0'], ['2000', 'Russia', '0'], ['2000', 'Russia', '0'], ['2000', 'India', '1'], ['2000', 'Russia', '2'], ['2000', 'United Kingdom', '2'], ['2000', 'Bangladesh', '1'], ['2000', 'India', '1'], ['2000', 'South Africa', '0'], ['2000', 'India', '5'], ['2000', 'Namibia', '1'], ['2000', 'Angola', '7'], ['2000', 'United Kingdom', '0'], ['2000', 'Indonesia', '0'], ['2000', 'Burundi', '3'], ['2000', 'Spain', '0'], ['2000', 'Spain', '0'], ['2000', 'Spain', '0'], ['2000', 'Spain', '0'], ['2000', 'Greece', '0'], ['2000', 'Sierra Leone', '0'], ['2000', 'Mexico', '0'], ['2000', 'Russia', '0'], ['2000', 'Spain', '0'], ['2000', 'Japan', '0'], ['2000', 'India', '0'], ['2000', 'France', '0'], ['2000', 'Colombia', '9'], ['2000', 'Indonesia', '0'], ['2000', 'Kosovo', '1'], ['2000', 'Israel', '0'], ['2000', 'Colombia', '7'], ['2000', 'Philippines', '0'], ['2000', 'India', '1'], ['2000', 'Croatia', '1'], ['2000', 'Philippines', '0'], ['2000', 'South Africa', '0'], ['2000', 'Ethiopia', '3'], ['2000', 'Israel', '0'], ['2000', 'Armenia', '0'], ['2000', 'Central African Republic', '1'], ['2000', 'Colombia', '0'], ['2000', 'Philippines', '0'], ['2000', 'Philippines', '0'], ['2000', 'Uganda', '8'], ['2000', 'Sri Lanka', '13'], ['2000', 'Guinea', '47'], ['2000', 'Colombia', '74'], ['2000', 'India', '3'], ['2000', 'India', '5'], ['2000', 'India', '1'], ['2000', 'Afghanistan', ''], ['2000', 'Russia', ''], ['2000', 'Uganda', '2'], ['2000', 'Greece', '0'], ['2000', 'Russia', '1'], ['2000', 'Colombia', '9'], ['2000', 'Kosovo', '0'], ['2000', 'Russia', '0'], ['2000', 'Kosovo', '0'], ['2000', 'Pakistan', '3'], ['2000', 'Russia', '0'], ['2000', 'Russia', '0'], ['2000', 'Spain', '0'], ['2000', 'Greece', '0'], ['2000', 'Philippines', '0'], ['2000', 'Colombia', '0'], ['2000', 'Colombia', '0'], ['2000', 'Colombia', '0'], ['2000', 'Colombia', '0'], ['2000', 'Colombia', '0'], ['2000', 'Colombia', '0'], ['2000', 'Colombia', '0'], ['2000', 'Colombia', '0'], ['2000', 'Colombia', '0'], ['2000', 'Colombia', '0'], ['2000', 'Colombia', '0'], ['2000', 'Colombia', '0'], ['2000', 'Colombia', '0'], ['2000', 'Colombia', '0'], ['2000', 'Greece', '0'], ['2000', 'Algeria', '1'], ['2000', 'Kenya', '12'], ['2000', 'Democratic Republic of the Congo', '6'], ['2000', 'Pakistan', '1'], ['2000', 'Russia', '4'], ['2000', 'Democratic Republic of the Congo', '4'], ['2000', 'Spain', '0'], ['2000', 'Indonesia', '3'], ['2000', 'Russia', '0'], ['2000', 'Greece', '0'], ['2000', 'Greece', '0'], ['2000', 'Turkey', '1'], ['2000', 'Colombia', '0'], ['2000', 'Guinea', '0'], ['2000', 'Brazil', '0'], ['2000', 'United States', '0'], ['2000', 'Greece', '0'], ['2000', 'Greece', '0'], ['2000', 'Colombia', '7'], ['2000', 'South Africa', '1'], ['2000', 'Russia', '5'], ['2000', 'Colombia', '0'], ['2000', 'India', '2'], ['2000', 'Indonesia', '11'], ['2000', 'Pakistan', '7'], ['2000', 'South Africa', '0'], ['2000', 'United Kingdom', '0'], ['2000', 'Russia', '0'], ['2000', 'Sri Lanka', '6'], ['2000', 'Russia', '1'], ['2000', 'United Kingdom', '0'], ['2000', 'India', '6'], ['2000', 'United Kingdom', '0'], ['2000', 'United States', '0'], ['2000', 'Germany', '1'], ['2000', 'Sri Lanka', '2'], ['2000', 'Russia', ''], ['2000', 'Spain', '0'], ['2000', 'Kosovo', '1'], ['2000', 'United Kingdom', '0'], ['2000', 'Sri Lanka', '0'], ['2000', 'Colombia', '0'], ['2000', 'United Kingdom', '0'], ['2000', 'Russia', '0'], ['2000', 'Indonesia', '0'], ['2000', 'Indonesia', '0'], ['2000', 'United Kingdom', '0'], ['2000', 'Kosovo', '1'], ['2000', 'South Africa', '0'], ['2000', 'India', '13'], ['2000', 'United Kingdom', '0'], ['2000', 'United Kingdom', '0'], ['2000', 'Russia', '2'], ['2000', 'Russia', '0'], ['2000', 'Russia', '0'], ['2000', 'Bangladesh', '0'], ['2000', 'Indonesia', '0'], ['2000', 'Indonesia', '0'], ['2000', 'Indonesia', '2'], ['2000', 'Russia', '0'], ['2000', 'Colombia', '0'], ['2000', 'Indonesia', '15'], ['2000', 'United Kingdom', '0'], ['2000', 'Russia', '5'], ['2000', 'France', '0'], ['2000', 'India', '10'], ['2000', 'Colombia', '0'], ['2000', 'India', '9'], ['2000', 'Pakistan', '2'], ['2000', 'Russia', '0'], ['2000', 'Spain', '0'], ['2000', 'India', ''], ['2000', 'Qatar', '0'], ['2000', 'Philippines', '0'], ['2000', 'Philippines', '0'], ['2000', 'Philippines', '0'], ['2000', 'Philippines', '0'], ['2000', 'Sri Lanka', '7'], ['2000', 'India', '1'], ['2000', 'India', '1'], ['2000', 'India', '0'], ['2000', 'Indonesia', '0'], ['2000', 'Burundi', '6'], ['2000', 'United Kingdom', '0'], ['2000', 'Algeria', '1'], ['2000', 'Sri Lanka', '3'], ['2000', 'Guinea', '1'], ['2000', 'Solomon Islands', '0'], ['2000', 'Algeria', '0'], ['2000', 'Russia', '5'], ['2000', 'Colombia', '0'], ['2000', 'Fiji', '0'], ['2000', 'Indonesia', '0'], ['2000', 'Kosovo', '1'], ['2000', 'Indonesia', '3'], ['2000', 'Indonesia', '1'], ['2000', 'Indonesia', '1'], ['2000', 'Sri Lanka', '3'], ['2000', 'India', '2'], ['2000', 'Russia', '3'], ['2000', 'United Kingdom', '0'], ['2000', 'United Kingdom', '0'], ['2000', 'India', '0'], ['2000', 'Algeria', '2'], ['2000', 'Cambodia', '4'], ['2000', 'Canada', '0'], ['2000', 'Pakistan', '16'], ['2000', 'Sri Lanka', '22'], ['2000', 'Algeria', '5'], ['2000', 'Indonesia', '0'], ['2000', 'Philippines', '2'], ['2000', 'Philippines', '1'], ['2000', 'Philippines', '1'], ['2000', 'United Kingdom', '0'], ['2000', 'United Kingdom', '0'], ['2000', 'Angola', '24'], ['2000', 'Kosovo', '0'], ['2000', 'Kosovo', '1'], ['2000', 'Kosovo', '0'], ['2000', 'Kosovo', '0'], ['2000', 'Indonesia', '0'], ['2000', 'Algeria', '6'], ['2000', 'Indonesia', '0'], ['2000', 'Indonesia', '0'], ['2000', 'Spain', '1'], ['2000', 'Russia', '1'], ['2000', 'Algeria', '13'], ['2000', 'Philippines', '3'], ['2000', 'Spain', '0'], ['2000', 'Colombia', '0'], ['2000', 'Indonesia', '1'], ['2000', 'India', '5'], ['2000', 'Burundi', '11'], ['2000', 'Sri Lanka', '0'], ['2000', 'Kenya', '0'], ['2000', 'Nepal', '14'], ['2000', 'Senegal', '0'], ['2000', 'Kazakhstan', '2'], ['2000', 'India', '0'], ['2000', 'Iran', '0'], ['2000', 'United Kingdom', '0'], ['2000', 'Colombia', '0'], ['2000', 'United Kingdom', '0'], ['2000', 'Algeria', '0'], ['2000', 'Philippines', '3'], ['2000', 'Indonesia', '0'], ['2000', 'United Kingdom', '0'], ['2000', 'United Kingdom', '0'], ['2000', 'Nepal', '14'], ['2000', 'Burundi', '0'], ['2000', 'Algeria', '3'], ['2000', 'Algeria', '5'], ['2000', 'Russia', '1'], ['2000', 'Uganda', '1'], ['2000', 'Russia', '1'], ['2000', 'Uganda', '1'], ['2000', 'Uganda', '0'], ['2000', 'Albania', '0'], ['2000', 'Spain', '0'], ['2000', 'Spain', '0'], ['2000', 'Spain', '0'], ['2000', 'Indonesia', '0'], ['2000', 'Nepal', '8'], ['2000', 'Philippines', '2'], ['2000', 'Burundi', '33'], ['2000', 'Kyrgyzstan', '0'], ['2000', 'Philippines', '5'], ['2000', 'Indonesia', '0'], ['2000', 'West Bank and Gaza Strip', '1'], ['2000', 'Nepal', '8'], ['2000', 'China', '0'], ['2000', 'Turkey', '0'], ['2000', 'United Kingdom', '0'], ['2000', 'West Bank and Gaza Strip', '0'], ['2000', 'Russia', '1'], ['2000', 'Afghanistan', '0'], ['2000', 'Algeria', '5'], ['2000', 'Kosovo', '0'], ['2000', 'West Bank and Gaza Strip', '1'], ['2000', 'Indonesia', '0'], ['2000', 'Indonesia', '0'], ['2000', 'United Kingdom', '1'], ['2000', 'Spain', '0'], ['2000', 'Ivory Coast', '0'], ['2000', 'South Africa', '1'], ['2000', 'Russia', '1'], ['2000', 'India', '6'], ['2000', 'Guinea', '60'], ['2000', 'India', '5'], ['2000', 'Tanzania', '0'], ['2000', 'Philippines', '1'], ['2000', 'Colombia', '3'], ['2000', 'Colombia', '3'], ['2000', 'Colombia', '3'], ['2000', 'Turkey', '3'], ['2000', 'Colombia', '3'], ['2000', 'Colombia', '3'], ['2000', 'Colombia', '3'], ['2000', 'Colombia', '0'], ['2000', 'Colombia', '0'], ['2000', 'United Kingdom', '0'], ['2000', 'Tajikistan', '7'], ['2000', 'Philippines', '9'], ['2000', 'Sri Lanka', '23'], ['2000', 'Uganda', '1'], ['2000', 'Sri Lanka', '0'], ['2000', 'Germany', '0'], ['2000', 'Russia', '0'], ['2000', 'Ivory Coast', '4'], ['2000', 'Uganda', '1'], ['2000', 'Sri Lanka', '12'], ['2000', 'Colombia', '1'], ['2000', 'Colombia', '0'], ['2000', 'Russia', '1'], ['2000', 'Russia', '3'], ['2000', 'Turkey', '1'], ['2000', 'Colombia', '0'], ['2000', 'Colombia', '0'], ['2000', 'Colombia', '0'], ['2000', 'Colombia', '0'], ['2000', 'Spain', '0'], ['2000', 'Colombia', '8'], ['2000', 'Spain', '1'], ['2000', 'Colombia', '20'], ['2000', 'Algeria', '6'], ['2000', 'Uganda', '9'], ['2000', 'France', '0'], ['2000', 'Russia', '0'], ['2000', 'Russia', '0'], ['2000', 'France', '0'], ['2000', 'Tajikistan', '0'], ['2000', 'Yugoslavia', '0'], ['2000', 'India', '0'], ['2000', 'Algeria', '6'], ['2000', 'Yemen', '19'], ['2000', 'Ecuador', '0'], ['2000', 'Russia', '10'], ['2000', 'Colombia', '11'], ['2000', 'South Africa', '0'], ['2000', 'Indonesia', '0'], ['2000', 'Yemen', '0'], ['2000', 'United Kingdom', '1'], ['2000', 'Greece', '0'], ['2000', 'Saudi Arabia', '0'], ['2000', 'Algeria', '5'], ['2000', 'Algeria', '12'], ['2000', 'Algeria', '6'], ['2000', 'Algeria', '12'], ['2000', 'Algeria', '6'], ['2000', 'Russia', '0'], ['2000', 'Burundi', '1'], ['2000', 'Russia', '0'], ['2000', 'Spain', '2'], ['2000', 'Spain', '0'], ['2000', 'Afghanistan', '0'], ['2000', 'West Bank and Gaza Strip', '0'], ['2000', 'Algeria', '3'], ['2000', 'South Africa', '1'], ['2000', 'Spain', '0'], ['2000', 'United Kingdom', '0'], ['2000', 'Cambodia', '0'], ['2000', 'Spain', '0'], ['2000', 'Philippines', '3'], ['2000', 'Russia', '3'], ['2000', 'Russia', '1'], ['2000', 'Algeria', '2'], ['2000', 'Russia', '0'], ['2000', 'Iran', '0'], ['2000', 'Australia', '0'], ['2000', 'Yugoslavia', '0'], ['2000', 'India', '5'], ['2000', 'Sri Lanka', '2'], ['2000', 'Somalia', '1'], ['2000', 'South Africa', '0'], ['2000', 'Philippines', '0'], ['2000', 'West Bank and Gaza Strip', '0'], ['2000', 'Philippines', '0'], ['2000', 'Philippines', '4'], ['2000', 'Philippines', '3'], ['2000', 'Indonesia', '0'], ['2000', 'India', ''], ['2000', 'India', ''], ['2000', 'India', '0'], ['2000', 'Angola', ''], ['2000', 'Russia', '0'], ['2000', 'Sri Lanka', '4'], ['2000', 'Spain', '0'], ['2000', 'Philippines', '0'], ['2000', 'Algeria', '12'], ['2000', 'West Bank and Gaza Strip', '2'], ['2000', 'Sri Lanka', '1'], ['2000', 'Philippines', '1'], ['2000', 'Philippines', '4'], ['2000', 'Philippines', '2'], ['2000', 'Russia', '1'], ['2000', 'Russia', '1'], ['2000', 'Russia', '0'], ['2000', 'Kosovo', '0'], ['2000', 'Kosovo', '0'], ['2000', 'Russia', '1'], ['2000', 'Philippines', '1'], ['2000', 'Spain', '0'], ['2000', 'Spain', '0'], ['2000', 'Spain', '0'], ['2000', 'Georgia', '0'], ['2000', 'Russia', '3'], ['2000', 'Philippines', '4'], ['2000', 'France', '0'], ['2000', 'Algeria', '2'], ['2000', 'Turkey', '1'], ['2000', 'United States', '0'], ['2000', 'Iran', '0'], ['2000', 'France', '0'], ['2000', 'India', '2'], ['2000', 'Russia', '3'], ['2000', 'United Kingdom', '0'], ['2000', 'United Kingdom', '0'], ['2000', 'Spain', '0'], ['2000', 'Algeria', '8'], ['2000', 'Russia', '0'], ['2000', 'Colombia', '0'], ['2000', 'Iran', ''], ['2000', 'West Bank and Gaza Strip', '0'], ['2000', 'Pakistan', '3'], ['2000', 'Pakistan', '1'], ['2000', 'Spain', '1'], ['2000', 'Spain', '0'], ['2000', 'Russia', '1'], ['2000', 'India', '10'], ['2000', 'India', '4'], ['2000', 'Kosovo', '0'], ['2000', 'Philippines', '0'], ['2000', 'Philippines', '3'], ['2000', 'Sri Lanka', '24'], ['2000', 'India', '0'], ['2000', 'Algeria', '1'], ['2000', 'Indonesia', '7'], ['2000', 'Kosovo', '0'], ['2000', 'Iran', '0'], ['2000', 'Spain', '0'], ['2000', 'France', '0'], ['2000', 'Philippines', '2'], ['2000', 'Sierra Leone', '9'], ['2000', 'Philippines', '0'], ['2000', 'India', '1'], ['2000', 'Sierra Leone', '8'], ['2000', 'Sierra Leone', '8'], ['2000', 'West Bank and Gaza Strip', '0'], ['2000', 'Algeria', '10'], ['2000', 'West Bank and Gaza Strip', '1'], ['2000', 'India', '2'], ['2000', 'Turkey', '0'], ['2000', 'India', '10'], ['2000', 'India', '2'], ['2000', 'Colombia', '1'], ['2000', 'Russia', '8'], ['2000', 'Philippines', '0'], ['2000', 'Peru', '0'], ['2000', 'West Bank and Gaza Strip', '1'], ['2000', 'Pakistan', '5'], ['2000', 'Spain', '3'], ['2000', 'Indonesia', '2'], ['2000', 'Italy', '0'], ['2000', 'United Kingdom', '0'], ['2000', 'Philippines', '0'], ['2000', 'United Kingdom', '1'], ['2000', 'Angola', '0'], ['2000', 'Colombia', '0'], ['2000', 'Canada', '0'], ['2000', 'Canada', '0'], ['2000', 'Sri Lanka', '0'], ['2000', 'Moldova', '0'], ['2000', 'Colombia', '0'], ['2000', 'India', '10'], ['2000', 'Pakistan', '0'], ['2000', 'Israel', '2'], ['2000', 'Spain', '0'], ['2000', 'Fiji', '7'], ['2000', 'Colombia', '19'], ['2000', 'India', '8'], ['2000', 'South Africa', '0'], ['2000', 'Sri Lanka', ''], ['2000', 'Angola', '4'], ['2000', 'Nepal', '1'], ['2000', 'Kosovo', '0'], ['2000', 'Russia', '0'], ['2000', 'China', '0'], ['2000', 'Algeria', '1'], ['2000', 'Algeria', '1'], ['2000', 'Pakistan', '3'], ['2000', 'West Bank and Gaza Strip', '0'], ['2000', 'Russia', '0'], ['2000', 'Algeria', '1'], ['2000', 'Sri Lanka', '1'], ['2000', 'Ukraine', '0'], ['2000', 'West Bank and Gaza Strip', '1'], ['2000', 'India', '10'], ['2000', 'Russia', '0'], ['2000', 'Sudan', ''], ['2000', 'Spain', '0'], ['2000', 'Spain', '0'], ['2000', 'France', '0'], ['2000', 'Laos', '1'], ['2000', 'West Bank and Gaza Strip', '0'], ['2000', 'Haiti', '0'], ['2000', 'Israel', '0'], ['2000', 'United Kingdom', '0'], ['2000', 'Spain', '0'], ['2000', 'Spain', '0'], ['2000', 'Russia', '36'], ['2000', 'Russia', '0'], ['2000', 'Spain', '0'], ['2000', 'Spain', '0'], ['2000', 'Greece', '0'], ['2000', 'Greece', '0'], ['2000', 'Greece', '0'], ['2000', 'Indonesia', '1'], ['2000', 'Nepal', '0'], ['2000', 'Nepal', '0'], ['2000', 'Somalia', '1'], ['2000', 'South Africa', '5'], ['2000', 'Philippines', '0'], ['2000', 'West Bank and Gaza Strip', '3'], ['2000', 'Turkey', '0'], ['2000', 'Turkey', '0'], ['2000', 'Turkey', '0'], ['2000', 'Guinea', '1'], ['2000', 'Guinea', ''], ['2000', 'West Bank and Gaza Strip', '0'], ['2000', 'Colombia', '1'], ['2000', 'Colombia', '0'], ['2000', 'Angola', '19'], ['2000', 'Angola', '0'], ['2000', 'Yemen', ''], ['2000', 'Iraq', '6'], ['2000', 'Burundi', '6'], ['2000', 'Bulgaria', '3'], ['2000', 'Turkey', '0'], ['2000', 'India', '3'], ['2000', 'Kosovo', '0'], ['2000', 'Bulgaria', '1'], ['2000', 'Indonesia', '0'], ['2000', 'Israel', '0'], ['2000', 'West Bank and Gaza Strip', '0'], ['2000', 'West Bank and Gaza Strip', '0'], ['2000', 'India', '1'], ['2000', 'Saudi Arabia', '1'], ['2000', 'Spain', '1'], ['2000', 'Latvia', '0'], ['2000', 'Sweden', '0'], ['2000', 'India', '6'], ['2000', 'Algeria', '4'], ['2000', 'Russia', '2'], ['2000', 'West Bank and Gaza Strip', '2'], ['2000', 'Russia', '5'], ['2000', 'Colombia', '1'], ['2000', 'Philippines', '1'], ['2000', 'Philippines', '0'], ['2000', 'Iran', '0'], ['2000', 'Jordan', '0'], ['2000', 'Somalia', '0'], ['2000', 'Namibia', '0'], ['2000', 'France', '0'], ['2000', 'Slovenia', '0'], ['2000', 'Russia', '0'], ['2000', 'India', '7'], ['2000', 'West Bank and Gaza Strip', '2'], ['2000', 'Algeria', '8'], ['2000', 'Spain', '0'], ['2000', 'Switzerland', '0'], ['2000', 'Panama', '0'], ['2000', 'India', '0'], ['2000', 'Spain', '1'], ['2000', 'Algeria', '11'], ['2000', 'Spain', '0'], ['2000', 'Mexico', '1'], ['2000', 'Israel', '2'], ['2000', 'Russia', '0'], ['2000', 'Turkey', '1'], ['2000', 'Colombia', '0'], ['2000', 'Colombia', '17'], ['2000', 'Kosovo', '1'], ['2000', 'Afghanistan', '0'], ['2000', 'Mozambique', '1'], ['2000', 'Mozambique', '0'], ['2000', 'Philippines', '0'], ['2000', 'Haiti', '1'], ['2000', 'Haiti', '0'], ['2000', 'Haiti', '0'], ['2000', 'Haiti', '0'], ['2000', 'Pakistan', '1'], ['2000', 'Saudi Arabia', '0'], ['2000', 'Philippines', '0'], ['2000', 'West Bank and Gaza Strip', '1'], ['2000', 'Sri Lanka', '2'], ['2000', 'Cambodia', '8'], ['2000', 'Cambodia', '0'], ['2000', 'France', '1'], ['2000', 'India', '5'], ['2000', 'India', '8'], ['2000', 'Algeria', '2'], ['2000', 'Algeria', '0'], ['2000', 'Russia', '0'], ['2000', 'Indonesia', '2'], ['2000', 'Indonesia', '2'], ['2000', 'Indonesia', '2'], ['2000', 'Indonesia', '2'], ['2000', 'India', '3'], ['2000', 'India', '1'], ['2000', 'Greece', '0'], ['2000', 'Indonesia', '0'], ['2000', 'Spain', '0'], ['2000', 'Spain', '0'], ['2000', 'Philippines', '0'], ['2000', 'Indonesia', '1'], ['2000', 'Colombia', '0'], ['2000', 'Chile', '0'], ['2000', 'United Kingdom', '0'], ['2000', 'Israel', '1'], ['2000', 'Algeria', '2'], ['2000', 'Turkey', '0'], ['2000', 'China', '0'], ['2000', 'United Kingdom', '0'], ['2000', 'Pakistan', '0'], ['2000', 'Pakistan', '0'], ['2000', 'Pakistan', '2'], ['2000', 'Philippines', '2'], ['2000', 'United States', '0'], ['2000', 'Guinea', '6'], ['2000', 'Philippines', '7'], ['2000', 'Philippines', '0'], ['2000', 'Sri Lanka', '7'], ['2000', 'Algeria', '2'], ['2000', 'Liberia', '0'], ['2000', 'Indonesia', '50'], ['2000', 'Colombia', '0'], ['2000', 'Algeria', '2'], ['2000', 'Colombia', '1'], ['2000', 'West Bank and Gaza Strip', '0'], ['2000', 'Hong Kong', '0'], ['2000', 'India', '16'], ['2000', 'Kenya', '14'], ['2000', 'Guinea', '3'], ['2000', 'Georgia', '0'], ['2000', 'Algeria', '1'], ['2000', 'Algeria', '1'], ['2000', 'India', '0'], ['2000', 'India', '0'], ['2000', 'India', '0'], ['2000', 'India', '0'], ['2000', 'India', '4'], ['2000', 'Algeria', '3'], ['2000', 'France', '0'], ['2000', 'India', '1'], ['2000', 'India', '0'], ['2000', 'Algeria', '3'], ['2000', 'Burundi', '0'], ['2000', 'West Bank and Gaza Strip', '0'], ['2000', 'Guinea', '5'], ['2000', 'Jordan', '0'], ['2000', 'Guinea', '5'], ['2000', 'South Africa', '0'], ['2000', 'Burundi', '1'], ['2000', 'South Africa', '6'], ['2000', 'Guinea', '48'], ['2000', 'Indonesia', '3'], ['2000', 'Indonesia', '1'], ['2000', 'Sri Lanka', '3'], ['2000', 'Pakistan', '1'], ['2000', 'United Kingdom', '1'], ['2000', 'Spain', '0'], ['2000', 'Colombia', '29'], ['2000', 'India', '26'], ['2000', 'Chile', '0'], ['2000', 'Sri Lanka', '4'], ['2000', 'West Bank and Gaza Strip', '1'], ['2000', 'Sudan', '21'], ['2000', 'Russia', '4'], ['2000', 'Russia', '4'], ['2000', 'Russia', '3'], ['2000', 'Turkey', '0'], ['2000', 'Russia', '21'], ['2000', 'Algeria', '2'], ['2000', 'United States', '0'], ['2000', 'India', '3'], ['2000', 'Georgia', '0'], ['2000', 'Algeria', '1'], ['2000', 'United States', '0'], ['2000', 'Turkey', '2'], ['2000', 'India', '1'], ['2000', 'Philippines', '0'], ['2000', 'United Kingdom', '0'], ['2000', 'Senegal', '2'], ['2000', 'Guinea', '30'], ['2000', 'Albania', '0'], ['2000', 'Turkey', '0'], ['2000', 'Algeria', '9'], ['2000', 'Algeria', '1'], ['2000', 'Namibia', '0'], ['2000', 'India', '0'], ['2000', 'Indonesia', '1'], ['2000', 'Spain', '1'], ['2000', 'United States', '0'], ['2000', 'United States', '0'], ['2000', 'Namibia', '1'], ['2000', 'Colombia', '2'], ['2000', 'Russia', '4'], ['2000', 'Saudi Arabia', '0'], ['2000', 'Algeria', '16'], ['2000', 'Afghanistan', '25'], ['2000', 'Angola', '16'], ['2000', 'Israel', '0'], ['2000', 'Algeria', '8'], ['2000', 'Algeria', '15'], ['2000', 'Pakistan', '1'], ['2000', 'Indonesia', '0'], ['2000', 'India', '4'], ['2000', 'Russia', '4'], ['2000', 'India', '4'], ['2000', 'Italy', '0'], ['2000', 'Colombia', '1'], ['2000', 'Colombia', '11'], ['2000', 'Algeria', '22'], ['2000', 'Russia', '1'], ['2000', 'Indonesia', '0'], ['2000', 'Kosovo', '0'], ['2000', 'Colombia', '0'], ['2000', 'Turkey', '0'], ['2000', 'United States', '0'], ['2000', 'Russia', '0'], ['2000', 'Colombia', '7'], ['2000', 'Russia', '8'], ['2000', 'Algeria', '2'], ['2000', 'United States', '0'], ['2000', 'India', '3'], ['2000', 'Italy', '0'], ['2000', 'West Bank and Gaza Strip', '1'], ['2000', 'Algeria', '3'], ['2000', 'Algeria', '3'], ['2000', 'Indonesia', '0'], ['2000', 'Indonesia', '0'], ['2000', 'Indonesia', '4'], ['2000', 'Indonesia', '5'], ['2000', 'Indonesia', '0'], ['2000', 'Indonesia', '4'], ['2000', 'Indonesia', '0'], ['2000', 'Indonesia', '1'], ['2000', 'Indonesia', '0'], ['2000', 'Indonesia', '3'], ['2000', 'Indonesia', '1'], ['2000', 'Indonesia', '0'], ['2000', 'Indonesia', '1'], ['2000', 'Indonesia', '0'], ['2000', 'Indonesia', '0'], ['2000', 'Indonesia', '0'], ['2000', 'Indonesia', '0'], ['2000', 'Indonesia', '0'], ['2000', 'Indonesia', '0'], ['2000', 'Indonesia', '0'], ['2000', 'Indonesia', '0'], ['2000', 'Indonesia', '0'], ['2000', 'Indonesia', '0'], ['2000', 'Indonesia', '0'], ['2000', 'Indonesia', '0'], ['2000', 'Indonesia', '0'], ['2000', 'Indonesia', '0'], ['2000', 'Indonesia', '0'], ['2000', 'Indonesia', '0'], ['2000', 'Indonesia', '0'], ['2000', 'Indonesia', '0'], ['2000', 'Indonesia', '0'], ['2000', 'Indonesia', '0'], ['2000', 'Indonesia', '0'], ['2000', 'Indonesia', '0'], ['2000', 'Indonesia', '0'], ['2000', 'Indonesia', '0'], ['2000', 'Indonesia', '0'], ['2000', 'Indonesia', '0'], ['2000', 'India', '8'], ['2000', 'Pakistan', '0'], ['2000', 'Pakistan', '0'], ['2000', 'Pakistan', '0'], ['2000', 'Pakistan', '0'], ['2000', 'Greece', '0'], ['2000', 'Tanzania', '0'], ['2000', 'Philippines', '0'], ['2000', 'Afghanistan', '0'], ['2000', 'West Bank and Gaza Strip', '2'], ['2000', 'Israel', '0'], ['2000', 'Philippines', '2'], ['2000', 'Burundi', '21'], ['2000', 'Colombia', '7'], ['2000', 'Algeria', '1'], ['2000', 'Philippines', '12'], ['2000', 'Philippines', '4'], ['2000', 'Philippines', '2'], ['2000', 'Philippines', '2'], ['2000', 'Philippines', '2'], ['2000', 'Algeria', '2'], ['2000', 'United States', '0'], ['2000', 'West Bank and Gaza Strip', '2'], ['2000', 'Spain', '0'], ['2000', 'Thailand', '6'], ['2000', 'United States', '0'], ['2000', 'Philippines', '0'], ['2000', 'St. Lucia', '2'], ['2000', 'Kosovo', '0'], ['2000', 'France', '0'], ['2000', 'Algeria', '2'], ['2000', 'Nepal', '0'], ['2000', 'Nepal', '0']]\n"
          ]
        }
      ],
      "source": [
        "attacks=[]\n",
        "import csv\n",
        "\n",
        "with open('/content/drive/MyDrive/files/required_data_group_11.csv', 'r') as csvfile:\n",
        "\n",
        "    csvreader = csv.reader(csvfile)\n",
        "\n",
        "    # Iterate through rows\n",
        "    for row in csvreader:\n",
        "      row=row[0].split('\\t')\n",
        "      if row[0]=='2000':\n",
        "        attacks.append(row)\n",
        "\n",
        "print(attacks)\n"
      ]
    },
    {
      "cell_type": "markdown",
      "source": [
        "### sampling 100 attacks during the year 2000"
      ],
      "metadata": {
        "id": "g8-W7Y5XKxme"
      }
    },
    {
      "cell_type": "code",
      "source": [
        "import random\n",
        "\n",
        "# Specifing the sample size\n",
        "sample_size = 100\n",
        "\n",
        "# Performing simple random sampling\n",
        "sample = random.sample(attacks, sample_size)\n",
        "\n",
        "print(\"Simple Random Sample :\", sample)\n"
      ],
      "metadata": {
        "colab": {
          "base_uri": "https://localhost:8080/"
        },
        "id": "bdkTag0MK1mm",
        "outputId": "5a035795-7fe5-4d03-897c-48785398c305"
      },
      "execution_count": null,
      "outputs": [
        {
          "output_type": "stream",
          "name": "stdout",
          "text": [
            "Simple Random Sample : [['2000', 'South Africa', '0'], ['2000', 'Turkey', '0'], ['2000', 'Yugoslavia', '1'], ['2000', 'Philippines', '0'], ['2000', 'Uganda', '1'], ['2000', 'Spain', '0'], ['2000', 'Colombia', '0'], ['2000', 'Uganda', '18'], ['2000', 'France', '0'], ['2000', 'Turkey', '1'], ['2000', 'Algeria', '3'], ['2000', 'Namibia', '0'], ['2000', 'Russia', '0'], ['2000', 'India', '4'], ['2000', 'Ecuador', '0'], ['2000', 'East Timor', '0'], ['2000', 'United Kingdom', '0'], ['2000', 'Indonesia', '0'], ['2000', 'Pakistan', '9'], ['2000', 'Philippines', '2'], ['2000', 'Philippines', '0'], ['2000', 'Spain', '0'], ['2000', 'Spain', '0'], ['2000', 'Colombia', '0'], ['2000', 'Russia', '12'], ['2000', 'Guinea', '3'], ['2000', 'Russia', '0'], ['2000', 'Burundi', '3'], ['2000', 'Indonesia', '2'], ['2000', 'Angola', ''], ['2000', 'Pakistan', '1'], ['2000', 'Russia', '0'], ['2000', 'Kosovo', '0'], ['2000', 'Colombia', '0'], ['2000', 'Russia', '2'], ['2000', 'Namibia', '5'], ['2000', 'Kosovo', '0'], ['2000', 'Tanzania', '0'], ['2000', 'Spain', '0'], ['2000', 'Algeria', '3'], ['2000', 'United Kingdom', '0'], ['2000', 'Algeria', '3'], ['2000', 'Algeria', '3'], ['2000', 'Pakistan', '0'], ['2000', 'United Kingdom', '0'], ['2000', 'Algeria', '6'], ['2000', 'Philippines', '0'], ['2000', 'Algeria', '2'], ['2000', 'Fiji', '0'], ['2000', 'Algeria', '2'], ['2000', 'Somalia', '15'], ['2000', 'Indonesia', '0'], ['2000', 'Solomon Islands', '0'], ['2000', 'Russia', '1'], ['2000', 'Sri Lanka', '0'], ['2000', 'China', '0'], ['2000', 'Namibia', '0'], ['2000', 'Colombia', '0'], ['2000', 'India', '0'], ['2000', 'Indonesia', '3'], ['2000', 'United Kingdom', '1'], ['2000', 'India', '3'], ['2000', 'South Africa', '0'], ['2000', 'Pakistan', '0'], ['2000', 'Azerbaijan', '0'], ['2000', 'Colombia', '3'], ['2000', 'East Timor', '0'], ['2000', 'Russia', '0'], ['2000', 'Sri Lanka', '5'], ['2000', 'Bangladesh', '0'], ['2000', 'Pakistan', '0'], ['2000', 'India', '0'], ['2000', 'Algeria', '8'], ['2000', 'Indonesia', '2'], ['2000', 'Greece', '0'], ['2000', 'Indonesia', '0'], ['2000', 'Spain', '0'], ['2000', 'Lebanon', '5'], ['2000', 'Albania', '0'], ['2000', 'Sierra Leone', '0'], ['2000', 'India', '0'], ['2000', 'United States', '0'], ['2000', 'Philippines', '5'], ['2000', 'Peru', '1'], ['2000', 'Colombia', '0'], ['2000', 'Greece', '0'], ['2000', 'Pakistan', '0'], ['2000', 'United Kingdom', '0'], ['2000', 'Algeria', '1'], ['2000', 'Algeria', '2'], ['2000', 'Sri Lanka', '11'], ['2000', 'Turkey', '0'], ['2000', 'Pakistan', '0'], ['2000', 'India', '0'], ['2000', 'Indonesia', '0'], ['2000', 'Indonesia', '0'], ['2000', 'Russia', '5'], ['2000', 'Israel', '2'], ['2000', 'Colombia', '0'], ['2000', 'Algeria', '6']]\n"
          ]
        }
      ]
    },
    {
      "cell_type": "code",
      "source": [
        "country={}\n",
        "for i in sample:\n",
        "  if i[1] not in country:\n",
        "    country[i[1]]=1\n",
        "  else:\n",
        "    country[i[1]]+=1\n",
        "\n",
        "print(country)\n",
        "\n"
      ],
      "metadata": {
        "colab": {
          "base_uri": "https://localhost:8080/"
        },
        "id": "fit-90KbK7Mt",
        "outputId": "31f9f87f-6055-46b2-8712-f099117a6c83"
      },
      "execution_count": null,
      "outputs": [
        {
          "output_type": "stream",
          "name": "stdout",
          "text": [
            "{'South Africa': 2, 'Turkey': 3, 'Yugoslavia': 1, 'Philippines': 5, 'Uganda': 2, 'Spain': 5, 'Colombia': 7, 'France': 1, 'Algeria': 11, 'Namibia': 3, 'Russia': 8, 'India': 6, 'Ecuador': 1, 'East Timor': 2, 'United Kingdom': 5, 'Indonesia': 8, 'Pakistan': 7, 'Guinea': 1, 'Burundi': 1, 'Angola': 1, 'Kosovo': 2, 'Tanzania': 1, 'Fiji': 1, 'Somalia': 1, 'Solomon Islands': 1, 'Sri Lanka': 3, 'China': 1, 'Azerbaijan': 1, 'Bangladesh': 1, 'Greece': 2, 'Lebanon': 1, 'Albania': 1, 'Sierra Leone': 1, 'United States': 1, 'Peru': 1, 'Israel': 1}\n"
          ]
        }
      ]
    },
    {
      "cell_type": "code",
      "source": [
        "print(len(country))"
      ],
      "metadata": {
        "colab": {
          "base_uri": "https://localhost:8080/"
        },
        "id": "vZ855MV-MVXd",
        "outputId": "3d2185a4-1556-4aae-f99a-d2f362268d48"
      },
      "execution_count": null,
      "outputs": [
        {
          "output_type": "stream",
          "name": "stdout",
          "text": [
            "36\n"
          ]
        }
      ]
    },
    {
      "cell_type": "markdown",
      "source": [
        "## using the above countries for the goodness of fit tests"
      ],
      "metadata": {
        "id": "U5KC3ftNKGWV"
      }
    },
    {
      "cell_type": "markdown",
      "source": [
        "sample size=100\n",
        "\n",
        "alpha=5%\n",
        "\n"
      ],
      "metadata": {
        "id": "Cipaif6KKLQF"
      }
    },
    {
      "cell_type": "code",
      "source": [
        "expected_value=100/len(country)\n",
        "print(round(expected_value))"
      ],
      "metadata": {
        "colab": {
          "base_uri": "https://localhost:8080/"
        },
        "id": "YCiQb-6ELl2t",
        "outputId": "aeb29489-40fd-4bff-ecd1-f1f76dda537d"
      },
      "execution_count": null,
      "outputs": [
        {
          "output_type": "stream",
          "name": "stdout",
          "text": [
            "3\n"
          ]
        }
      ]
    },
    {
      "cell_type": "code",
      "source": [
        "chi_sq=0\n",
        "for i in country:\n",
        "  chi_sq+=((country[i]-expected_value)**2)/expected_value\n",
        "\n",
        "print(chi_sq)"
      ],
      "metadata": {
        "colab": {
          "base_uri": "https://localhost:8080/"
        },
        "id": "8QIT4BQIL3Pt",
        "outputId": "07761513-42f4-4c6f-8728-627c49b6c776"
      },
      "execution_count": null,
      "outputs": [
        {
          "output_type": "stream",
          "name": "stdout",
          "text": [
            "88.6399999999999\n"
          ]
        }
      ]
    },
    {
      "cell_type": "markdown",
      "source": [
        "chi_square tabulated for number of degrees of freedom = 36-1 =35 at alpha = 5% is 43.775"
      ],
      "metadata": {
        "id": "ctT1fZJmMjoc"
      }
    },
    {
      "cell_type": "code",
      "source": [
        "chi_sq_tab=43.775"
      ],
      "metadata": {
        "id": "N1nLCLLQMvMd"
      },
      "execution_count": null,
      "outputs": []
    },
    {
      "cell_type": "code",
      "source": [
        "if chi_sq<=chi_sq_tab:\n",
        "  print(\"Accept H0 , therefore it is good fit\")\n",
        "else:\n",
        "  print(\"Reject Ho , Accept H1 . therefore not a good fit\")"
      ],
      "metadata": {
        "colab": {
          "base_uri": "https://localhost:8080/"
        },
        "id": "_UNzLoS6MygM",
        "outputId": "e7c997a1-bde5-4bb6-c14c-c38b7dd32c55"
      },
      "execution_count": null,
      "outputs": [
        {
          "output_type": "stream",
          "name": "stdout",
          "text": [
            "Reject Ho , Accept H1 . therefore not a good fit\n"
          ]
        }
      ]
    },
    {
      "cell_type": "markdown",
      "source": [
        "----------------------------------------------------------------------------"
      ],
      "metadata": {
        "id": "XN48lFNhNUIt"
      }
    },
    {
      "cell_type": "markdown",
      "source": [
        "# **Chi-square test for independence**"
      ],
      "metadata": {
        "id": "C7TxDLZbNV4T"
      }
    },
    {
      "cell_type": "markdown",
      "source": [
        "considering 3 countries: India , United States , United Kingdom and the years 1970, 1975 , 1985\n",
        "\n",
        "checking if there is any relation between number of times these countries were attacked during the given years\n",
        "\n",
        "Ho : no relation between the countries and number of times attacked during the given years\n",
        "\n",
        "H1 :  there is a relation between the countries and number of times attacked during the given years"
      ],
      "metadata": {
        "id": "nzRoeOU-ODEc"
      }
    },
    {
      "cell_type": "code",
      "source": [
        "attacks=[]\n",
        "import csv\n",
        "\n",
        "with open('/content/drive/MyDrive/files/required_data_group_11.csv', 'r') as csvfile:\n",
        "\n",
        "    csvreader = csv.reader(csvfile)\n",
        "\n",
        "    # Iterate through rows\n",
        "    for row in csvreader:\n",
        "      row=row[0].split('\\t')\n",
        "      if row[0] in [\"1970\",\"1975\",\"1985\"]:\n",
        "        if row[1] in ['India','United States','United Kingdom']:\n",
        "          attacks.append(row)\n",
        "\n",
        "print(attacks)\n"
      ],
      "metadata": {
        "colab": {
          "base_uri": "https://localhost:8080/"
        },
        "id": "rUtPwWc5NVR8",
        "outputId": "05c0553e-63c6-4e49-fc05-ad1626defbf7"
      },
      "execution_count": null,
      "outputs": [
        {
          "output_type": "stream",
          "name": "stdout",
          "text": [
            "[['1970', 'United States', '0'], ['1970', 'United States', '0'], ['1970', 'United States', '0'], ['1970', 'United States', '0'], ['1970', 'United States', '0'], ['1970', 'United States', '0'], ['1970', 'United States', '0'], ['1970', 'United States', '0'], ['1970', 'United States', '0'], ['1970', 'United States', '0'], ['1970', 'United States', '0'], ['1970', 'United States', '0'], ['1970', 'United States', '0'], ['1970', 'United States', '0'], ['1970', 'United States', '0'], ['1970', 'United States', '0'], ['1970', 'United States', '0'], ['1970', 'United States', '0'], ['1970', 'United States', '0'], ['1970', 'United States', '0'], ['1970', 'United States', '0'], ['1970', 'United States', '0'], ['1970', 'United States', '0'], ['1970', 'United States', '0'], ['1970', 'United States', '0'], ['1970', 'United States', '0'], ['1970', 'United States', '0'], ['1970', 'United States', '0'], ['1970', 'United States', '0'], ['1970', 'United States', '0'], ['1970', 'United States', '0'], ['1970', 'United States', '0'], ['1970', 'United States', '0'], ['1970', 'United States', '0'], ['1970', 'United States', '0'], ['1970', 'United States', '0'], ['1970', 'United States', '0'], ['1970', 'United States', '0'], ['1970', 'United States', '0'], ['1970', 'United States', '0'], ['1970', 'United States', '0'], ['1970', 'United States', '0'], ['1970', 'United States', '0'], ['1970', 'United States', '0'], ['1970', 'United States', '0'], ['1970', 'United States', '0'], ['1970', 'United States', '0'], ['1970', 'United States', '0'], ['1970', 'United States', '0'], ['1970', 'United States', '1'], ['1970', 'United States', '0'], ['1970', 'United States', '0'], ['1970', 'United States', '0'], ['1970', 'United States', '0'], ['1970', 'United States', '0'], ['1970', 'United States', '0'], ['1970', 'United States', '0'], ['1970', 'United States', '0'], ['1970', 'United States', '0'], ['1970', 'United States', '0'], ['1970', 'United States', '0'], ['1970', 'United States', '0'], ['1970', 'United States', '0'], ['1970', 'United States', '0'], ['1970', 'United States', '0'], ['1970', 'United States', '0'], ['1970', 'United States', '0'], ['1970', 'United States', '0'], ['1970', 'United States', '0'], ['1970', 'United States', '0'], ['1970', 'United States', '0'], ['1970', 'United States', '0'], ['1970', 'United States', '0'], ['1970', 'United States', '0'], ['1970', 'United States', '0'], ['1970', 'United States', '0'], ['1970', 'United States', '0'], ['1970', 'United States', '0'], ['1970', 'United States', '0'], ['1970', 'United States', '0'], ['1970', 'United States', '0'], ['1970', 'United States', '0'], ['1970', 'United States', '0'], ['1970', 'United States', '0'], ['1970', 'United States', '0'], ['1970', 'United States', '0'], ['1970', 'United States', '0'], ['1970', 'United States', '0'], ['1970', 'United States', '2'], ['1970', 'United States', '0'], ['1970', 'United States', '0'], ['1970', 'United States', '0'], ['1970', 'United States', '0'], ['1970', 'United States', '0'], ['1970', 'United States', '0'], ['1970', 'United States', '2'], ['1970', 'United States', '0'], ['1970', 'United States', '0'], ['1970', 'United States', '0'], ['1970', 'United States', '0'], ['1970', 'United States', '0'], ['1970', 'United States', '0'], ['1970', 'United States', '0'], ['1970', 'United States', '0'], ['1970', 'United States', '0'], ['1970', 'United States', '0'], ['1970', 'United States', '0'], ['1970', 'United States', '0'], ['1970', 'United States', '0'], ['1970', 'United States', '0'], ['1970', 'United States', '0'], ['1970', 'United States', '0'], ['1970', 'United States', '0'], ['1970', 'United States', '0'], ['1970', 'United States', '1'], ['1970', 'United States', '0'], ['1970', 'United States', '0'], ['1970', 'United States', '0'], ['1970', 'United States', '0'], ['1970', 'United States', '0'], ['1970', 'United States', '0'], ['1970', 'United States', '0'], ['1970', 'United States', '0'], ['1970', 'United States', '0'], ['1970', 'United States', '0'], ['1970', 'United States', '0'], ['1970', 'United States', '0'], ['1970', 'United States', '0'], ['1970', 'United States', '0'], ['1970', 'United States', '0'], ['1970', 'United States', '0'], ['1970', 'United States', '0'], ['1970', 'United States', '0'], ['1970', 'United States', '0'], ['1970', 'United States', '0'], ['1970', 'United States', '0'], ['1970', 'United States', '0'], ['1970', 'United States', '0'], ['1970', 'United States', '0'], ['1970', 'United States', '0'], ['1970', 'United States', '0'], ['1970', 'United States', '0'], ['1970', 'United States', '0'], ['1970', 'United States', '0'], ['1970', 'United States', '0'], ['1970', 'United States', '0'], ['1970', 'United States', '0'], ['1970', 'United States', '0'], ['1970', 'United States', '0'], ['1970', 'United States', '0'], ['1970', 'United States', '0'], ['1970', 'United States', '0'], ['1970', 'United States', '0'], ['1970', 'United States', '0'], ['1970', 'United States', '0'], ['1970', 'United States', '0'], ['1970', 'United States', '0'], ['1970', 'United States', '0'], ['1970', 'United States', '0'], ['1970', 'United States', '0'], ['1970', 'United States', '0'], ['1970', 'United States', '0'], ['1970', 'United States', '0'], ['1970', 'United States', '0'], ['1970', 'United States', '0'], ['1970', 'United States', '0'], ['1970', 'United States', '0'], ['1970', 'United States', '0'], ['1970', 'United States', '0'], ['1970', 'United States', '0'], ['1970', 'United States', '0'], ['1970', 'United States', '0'], ['1970', 'United States', '0'], ['1970', 'United States', '0'], ['1970', 'United States', '0'], ['1970', 'United States', '0'], ['1970', 'United States', '0'], ['1970', 'United States', '0'], ['1970', 'United States', '0'], ['1970', 'United States', '0'], ['1970', 'United States', '0'], ['1970', 'United States', '1'], ['1970', 'United States', '0'], ['1970', 'United States', '0'], ['1970', 'United States', '0'], ['1970', 'United States', '0'], ['1970', 'United States', '0'], ['1970', 'United States', '0'], ['1970', 'United States', '0'], ['1970', 'United States', '0'], ['1970', 'United States', '0'], ['1970', 'United States', '0'], ['1970', 'United States', '0'], ['1970', 'United States', '0'], ['1970', 'United States', '0'], ['1970', 'United States', '0'], ['1970', 'United States', '0'], ['1970', 'United States', '0'], ['1970', 'United States', '0'], ['1970', 'United States', '0'], ['1970', 'United States', '0'], ['1970', 'United States', '0'], ['1970', 'United States', '0'], ['1970', 'United States', '0'], ['1970', 'United States', '0'], ['1970', 'United States', '0'], ['1970', 'United States', '0'], ['1970', 'United States', '0'], ['1970', 'United States', '0'], ['1970', 'United States', '0'], ['1970', 'United States', '0'], ['1970', 'United States', '0'], ['1970', 'United States', '0'], ['1970', 'United States', '0'], ['1970', 'United States', '0'], ['1970', 'United States', '0'], ['1970', 'United States', '0'], ['1970', 'United States', '0'], ['1970', 'United States', '0'], ['1970', 'United States', '0'], ['1970', 'United States', '0'], ['1970', 'United States', '0'], ['1970', 'United States', '0'], ['1970', 'United States', '0'], ['1970', 'United States', '0'], ['1970', 'United States', '0'], ['1970', 'United States', '0'], ['1970', 'United States', '1'], ['1970', 'United States', '0'], ['1970', 'United States', '0'], ['1970', 'United States', '0'], ['1970', 'United States', '0'], ['1970', 'United States', '0'], ['1970', 'United States', '0'], ['1970', 'United States', '0'], ['1970', 'United States', '0'], ['1970', 'United States', '0'], ['1970', 'United States', '0'], ['1970', 'United States', '0'], ['1970', 'United States', '1'], ['1970', 'United States', '0'], ['1970', 'United States', '0'], ['1970', 'United States', '0'], ['1970', 'United States', '0'], ['1970', 'United States', '0'], ['1970', 'United States', '0'], ['1970', 'United States', '0'], ['1970', 'United States', '1'], ['1970', 'United States', '0'], ['1970', 'United States', '0'], ['1970', 'United States', '0'], ['1970', 'United States', '0'], ['1970', 'United States', '0'], ['1970', 'United States', '0'], ['1970', 'United States', '0'], ['1970', 'United States', '1'], ['1970', 'United States', '0'], ['1970', 'United States', '0'], ['1970', 'United States', '0'], ['1970', 'United States', '0'], ['1970', 'United States', '0'], ['1970', 'United States', '0'], ['1970', 'United States', '0'], ['1970', 'United States', '0'], ['1970', 'United States', '0'], ['1970', 'United States', '0'], ['1970', 'United States', '0'], ['1970', 'United States', '0'], ['1970', 'United States', '0'], ['1970', 'United States', '0'], ['1970', 'United States', '0'], ['1970', 'United States', '0'], ['1970', 'United States', ''], ['1970', 'United States', '0'], ['1970', 'United States', '0'], ['1970', 'United States', '0'], ['1970', 'United States', '0'], ['1970', 'United States', '0'], ['1970', 'United States', '0'], ['1970', 'United States', '0'], ['1970', 'United States', '0'], ['1970', 'United States', '0'], ['1970', 'United States', '0'], ['1970', 'United States', '0'], ['1970', 'United States', ''], ['1970', 'United States', '0'], ['1970', 'United States', '1'], ['1970', 'United States', '1'], ['1970', 'United States', '0'], ['1970', 'United States', '0'], ['1970', 'United States', '0'], ['1970', 'United States', '0'], ['1970', 'United Kingdom', '5'], ['1970', 'United Kingdom', '3'], ['1970', 'United Kingdom', '1'], ['1970', 'United Kingdom', '1'], ['1970', 'United Kingdom', '3'], ['1970', 'United States', '0'], ['1970', 'United States', '0'], ['1970', 'United States', '0'], ['1970', 'United States', '1'], ['1970', 'United States', '0'], ['1970', 'United States', '0'], ['1970', 'United States', '0'], ['1970', 'United States', '0'], ['1970', 'United States', '0'], ['1970', 'United States', '0'], ['1970', 'United States', '0'], ['1970', 'United States', '0'], ['1970', 'United States', '0'], ['1970', 'United States', '0'], ['1970', 'United States', '0'], ['1970', 'United States', '0'], ['1970', 'United States', '0'], ['1970', 'United States', '1'], ['1970', 'United States', '0'], ['1970', 'United States', '0'], ['1970', 'United States', '0'], ['1970', 'United States', '0'], ['1970', 'United States', '0'], ['1970', 'United States', '0'], ['1970', 'United States', '0'], ['1970', 'United States', '0'], ['1970', 'United States', '0'], ['1970', 'United States', '0'], ['1970', 'United States', '0'], ['1970', 'United States', '0'], ['1970', 'United States', '0'], ['1970', 'United States', '0'], ['1970', 'United States', '0'], ['1970', 'United States', '0'], ['1970', 'United States', '1'], ['1970', 'United States', '0'], ['1970', 'United States', '0'], ['1970', 'United States', '0'], ['1970', 'United States', '0'], ['1970', 'United States', '0'], ['1970', 'United States', '0'], ['1970', 'United States', '2'], ['1970', 'United States', '0'], ['1970', 'United States', '0'], ['1970', 'United States', '0'], ['1970', 'United States', '0'], ['1970', 'United States', '0'], ['1970', 'United States', '0'], ['1970', 'United States', '0'], ['1970', 'United States', '0'], ['1970', 'United States', '0'], ['1970', 'United States', '1'], ['1970', 'United States', '0'], ['1970', 'United States', '0'], ['1970', 'United States', '0'], ['1970', 'United States', '0'], ['1970', 'United States', '0'], ['1970', 'United States', '0'], ['1970', 'United States', '0'], ['1970', 'United States', '0'], ['1970', 'United States', '0'], ['1970', 'United States', '0'], ['1970', 'United States', '0'], ['1970', 'United States', '0'], ['1970', 'United States', '0'], ['1970', 'United States', '0'], ['1970', 'United States', '1'], ['1970', 'United States', '0'], ['1970', 'United States', '4'], ['1970', 'United States', '0'], ['1970', 'United Kingdom', '2'], ['1970', 'United States', '1'], ['1970', 'United States', '1'], ['1970', 'United States', '0'], ['1970', 'United States', '0'], ['1970', 'United States', '0'], ['1970', 'United States', '0'], ['1970', 'United States', '1'], ['1970', 'United States', '0'], ['1970', 'United States', '0'], ['1970', 'United States', '0'], ['1970', 'United States', '1'], ['1970', 'United States', '0'], ['1970', 'United States', '0'], ['1970', 'United States', '0'], ['1970', 'United States', '0'], ['1970', 'United States', '0'], ['1970', 'United States', '0'], ['1970', 'United States', '0'], ['1970', 'United States', '0'], ['1970', 'United States', '0'], ['1970', 'United States', '0'], ['1970', 'United States', '0'], ['1970', 'United States', '0'], ['1970', 'United States', '0'], ['1970', 'United States', '0'], ['1970', 'United States', '0'], ['1970', 'United States', '0'], ['1970', 'United Kingdom', '1'], ['1970', 'United States', '0'], ['1970', 'United States', '0'], ['1970', 'United States', '0'], ['1970', 'United States', '0'], ['1970', 'United States', '0'], ['1970', 'United States', '0'], ['1970', 'United States', '0'], ['1970', 'United Kingdom', '0'], ['1970', 'United States', '1'], ['1970', 'United States', '0'], ['1970', 'United States', '1'], ['1970', 'United States', '0'], ['1970', 'United States', '0'], ['1970', 'United States', '0'], ['1970', 'United States', '0'], ['1970', 'United Kingdom', '1'], ['1970', 'United States', '0'], ['1970', 'United States', '0'], ['1970', 'United States', '0'], ['1970', 'United States', '0'], ['1970', 'United States', '0'], ['1970', 'United States', '0'], ['1970', 'United States', '0'], ['1970', 'United States', '0'], ['1970', 'United States', '0'], ['1970', 'United States', '0'], ['1970', 'United States', '0'], ['1970', 'United States', '0'], ['1970', 'United States', '0'], ['1970', 'United States', '0'], ['1970', 'United States', '0'], ['1970', 'United States', '0'], ['1970', 'United States', '0'], ['1970', 'United States', '0'], ['1970', 'United States', '0'], ['1970', 'United States', '0'], ['1970', 'United States', '1'], ['1970', 'United States', '0'], ['1970', 'United States', '0'], ['1970', 'United States', '0'], ['1970', 'United States', '0'], ['1970', 'United Kingdom', '0'], ['1970', 'United States', '0'], ['1970', 'United States', '0'], ['1970', 'United States', '0'], ['1970', 'United States', '0'], ['1970', 'United States', '0'], ['1970', 'United States', '0'], ['1970', 'United States', '0'], ['1970', 'United States', '0'], ['1970', 'United States', '0'], ['1970', 'United States', '1'], ['1970', 'United States', '0'], ['1970', 'United States', '0'], ['1970', 'United States', '0'], ['1970', 'United States', '1'], ['1970', 'United States', '0'], ['1970', 'United States', '0'], ['1970', 'United States', '0'], ['1970', 'United States', '0'], ['1970', 'United States', '0'], ['1970', 'United States', '0'], ['1970', 'United Kingdom', '2'], ['1970', 'United States', '0'], ['1970', 'United States', '0'], ['1970', 'United States', '0'], ['1970', 'United States', '0'], ['1970', 'United States', '0'], ['1970', 'United States', '0'], ['1970', 'United States', '0'], ['1970', 'United States', '0'], ['1970', 'United States', '0'], ['1970', 'United States', '0'], ['1970', 'United States', '0'], ['1970', 'United States', '0'], ['1970', 'United States', '0'], ['1970', 'United States', '0'], ['1970', 'United States', '0'], ['1970', 'United States', '0'], ['1970', 'United States', '0'], ['1970', 'United States', '0'], ['1970', 'United Kingdom', '1'], ['1970', 'United States', '0'], ['1970', 'United States', '0'], ['1975', 'United Kingdom', '2'], ['1975', 'United Kingdom', ''], ['1975', 'United States', ''], ['1975', 'United States', '2'], ['1975', 'United States', '0'], ['1975', 'United Kingdom', '1'], ['1975', 'India', '4'], ['1975', 'United Kingdom', '2'], ['1975', 'United States', '4'], ['1975', 'United States', '0'], ['1975', 'United Kingdom', '1'], ['1975', 'United Kingdom', ''], ['1975', 'United States', '0'], ['1975', 'United Kingdom', '1'], ['1975', 'United Kingdom', '1'], ['1975', 'United States', '0'], ['1975', 'United States', '0'], ['1975', 'United States', '0'], ['1975', 'United States', '0'], ['1975', 'United States', '0'], ['1975', 'United States', '0'], ['1975', 'United States', '0'], ['1975', 'United States', '0'], ['1975', 'United States', '0'], ['1975', 'United Kingdom', '1'], ['1975', 'United Kingdom', '1'], ['1975', 'United Kingdom', '1'], ['1975', 'United Kingdom', '2'], ['1975', 'United Kingdom', '1'], ['1975', 'United Kingdom', '2'], ['1975', 'United States', '0'], ['1975', 'United Kingdom', '1'], ['1975', 'United Kingdom', '1'], ['1975', 'United States', ''], ['1975', 'United Kingdom', '1'], ['1975', 'United Kingdom', '1'], ['1975', 'United Kingdom', '1'], ['1975', 'United Kingdom', '1'], ['1975', 'United States', '1'], ['1975', 'United States', ''], ['1975', 'United Kingdom', '1'], ['1975', 'United Kingdom', '1'], ['1975', 'United States', '0'], ['1975', 'United States', '0'], ['1975', 'United Kingdom', '1'], ['1975', 'United Kingdom', '1'], ['1975', 'United Kingdom', '1'], ['1975', 'United Kingdom', '1'], ['1975', 'United Kingdom', '1'], ['1975', 'United States', '0'], ['1975', 'United Kingdom', '1'], ['1975', 'United Kingdom', '1'], ['1975', 'United Kingdom', '1'], ['1975', 'United States', '0'], ['1975', 'United States', '0'], ['1975', 'United States', '0'], ['1975', 'United States', '0'], ['1975', 'United Kingdom', '1'], ['1975', 'United Kingdom', '2'], ['1975', 'United Kingdom', '2'], ['1975', 'United Kingdom', '1'], ['1975', 'United States', '0'], ['1975', 'United States', '0'], ['1975', 'United States', '0'], ['1975', 'United States', '0'], ['1975', 'United States', '0'], ['1975', 'United States', '0'], ['1975', 'United States', '0'], ['1975', 'United States', '0'], ['1975', 'United States', '0'], ['1975', 'United States', '0'], ['1975', 'United States', '0'], ['1975', 'United States', '0'], ['1975', 'United States', '0'], ['1975', 'United Kingdom', '1'], ['1975', 'United Kingdom', '1'], ['1975', 'United States', '0'], ['1975', 'United States', '0'], ['1975', 'United States', '0'], ['1975', 'United States', '0'], ['1975', 'United States', '0'], ['1975', 'United Kingdom', '1'], ['1975', 'United Kingdom', '1'], ['1975', 'United States', '0'], ['1975', 'United States', '0'], ['1975', 'United States', '0'], ['1975', 'United Kingdom', '2'], ['1975', 'United Kingdom', '5'], ['1975', 'United Kingdom', '1'], ['1975', 'United States', '0'], ['1975', 'United Kingdom', '1'], ['1975', 'United Kingdom', '1'], ['1975', 'United Kingdom', '1'], ['1975', 'United Kingdom', '2'], ['1975', 'United States', '0'], ['1975', 'United States', '0'], ['1975', 'United Kingdom', '1'], ['1975', 'United Kingdom', '6'], ['1975', 'United Kingdom', '1'], ['1975', 'United Kingdom', '1'], ['1975', 'United States', '0'], ['1975', 'United States', '0'], ['1975', 'United States', '1'], ['1975', 'United Kingdom', '3'], ['1975', 'United Kingdom', '1'], ['1975', 'United Kingdom', '3'], ['1975', 'United States', '0'], ['1975', 'United Kingdom', '1'], ['1975', 'United Kingdom', '1'], ['1975', 'United States', '0'], ['1975', 'United States', '0'], ['1975', 'United States', '0'], ['1975', 'United Kingdom', '1'], ['1975', 'United States', '0'], ['1975', 'United States', '0'], ['1975', 'United States', '0'], ['1975', 'United States', '0'], ['1975', 'United Kingdom', '1'], ['1975', 'United States', ''], ['1975', 'United States', ''], ['1975', 'United Kingdom', '1'], ['1975', 'United States', '0'], ['1975', 'United Kingdom', '1'], ['1975', 'United Kingdom', '2'], ['1975', 'United States', '0'], ['1975', 'United States', '0'], ['1975', 'United States', '0'], ['1975', 'United Kingdom', '1'], ['1975', 'United Kingdom', '1'], ['1975', 'United States', '0'], ['1975', 'United Kingdom', '1'], ['1975', 'United States', '0'], ['1975', 'United Kingdom', '1'], ['1975', 'United Kingdom', '3'], ['1975', 'United Kingdom', '1'], ['1975', 'United States', '2'], ['1975', 'United Kingdom', '1'], ['1975', 'United Kingdom', '1'], ['1975', 'United Kingdom', '2'], ['1975', 'United Kingdom', '1'], ['1975', 'United States', '0'], ['1975', 'United Kingdom', '1'], ['1975', 'United Kingdom', '1'], ['1975', 'United States', '0'], ['1975', 'United States', '0'], ['1975', 'United States', '0'], ['1975', 'United States', '0'], ['1975', 'United Kingdom', '1'], ['1975', 'United Kingdom', '1'], ['1975', 'United Kingdom', '1'], ['1975', 'United Kingdom', '1'], ['1975', 'United Kingdom', '2'], ['1975', 'United States', '0'], ['1975', 'United Kingdom', '1'], ['1975', 'United States', '0'], ['1975', 'United States', '0'], ['1975', 'United Kingdom', '1'], ['1975', 'United States', '0'], ['1975', 'United Kingdom', '1'], ['1975', 'United Kingdom', '1'], ['1975', 'United Kingdom', '1'], ['1975', 'United States', '0'], ['1975', 'United States', '0'], ['1975', 'United Kingdom', '4'], ['1975', 'United States', '0'], ['1975', 'United States', '0'], ['1975', 'United States', ''], ['1975', 'United Kingdom', '1'], ['1975', 'United Kingdom', '1'], ['1975', 'United Kingdom', '1'], ['1975', 'United Kingdom', '5'], ['1975', 'United Kingdom', '0'], ['1975', 'United Kingdom', '0'], ['1975', 'United Kingdom', '2'], ['1975', 'United Kingdom', '1'], ['1975', 'United States', '0'], ['1975', 'United States', '0'], ['1975', 'United States', '0'], ['1975', 'United States', '0'], ['1975', 'United States', '0'], ['1975', 'United Kingdom', '2'], ['1975', 'United Kingdom', '1'], ['1975', 'United Kingdom', '1'], ['1975', 'United Kingdom', '5'], ['1975', 'United Kingdom', '1'], ['1975', 'United Kingdom', '1'], ['1975', 'United Kingdom', '1'], ['1975', 'United Kingdom', '1'], ['1975', 'United States', '1'], ['1975', 'United Kingdom', '0'], ['1975', 'United States', '0'], ['1975', 'United Kingdom', '1'], ['1975', 'United Kingdom', '1'], ['1975', 'United Kingdom', '1'], ['1975', 'United Kingdom', '3'], ['1975', 'United Kingdom', '2'], ['1975', 'United Kingdom', '1'], ['1975', 'United Kingdom', '1'], ['1975', 'United Kingdom', '1'], ['1975', 'United Kingdom', '1'], ['1975', 'United Kingdom', ''], ['1975', 'United Kingdom', '1'], ['1975', 'United Kingdom', '2'], ['1975', 'United Kingdom', '1'], ['1975', 'United Kingdom', '1'], ['1975', 'United Kingdom', '1'], ['1975', 'United Kingdom', '5'], ['1975', 'United Kingdom', '1'], ['1975', 'United Kingdom', '1'], ['1975', 'United Kingdom', '2'], ['1975', 'United States', '0'], ['1975', 'United Kingdom', '2'], ['1975', 'United States', '0'], ['1975', 'United Kingdom', '1'], ['1975', 'United Kingdom', '1'], ['1975', 'United Kingdom', '1'], ['1975', 'United Kingdom', '1'], ['1975', 'United Kingdom', '1'], ['1975', 'United States', '0'], ['1975', 'United States', '0'], ['1975', 'United Kingdom', '0'], ['1975', 'United Kingdom', '1'], ['1975', 'United Kingdom', '1'], ['1975', 'United States', '0'], ['1975', 'United States', '0'], ['1975', 'United Kingdom', '1'], ['1975', 'United States', '1'], ['1975', 'United States', '0'], ['1975', 'United Kingdom', '0'], ['1975', 'United Kingdom', ''], ['1975', 'United Kingdom', '0'], ['1975', 'United Kingdom', '1'], ['1975', 'United Kingdom', ''], ['1975', 'United States', ''], ['1975', 'United Kingdom', '1'], ['1975', 'United Kingdom', '1'], ['1975', 'United Kingdom', '4'], ['1975', 'United Kingdom', '1'], ['1975', 'United Kingdom', '1'], ['1975', 'United Kingdom', '1'], ['1975', 'United Kingdom', '1'], ['1975', 'United Kingdom', '1'], ['1975', 'United Kingdom', '1'], ['1975', 'United States', '0'], ['1975', 'United Kingdom', '1'], ['1975', 'United States', '0'], ['1975', 'United Kingdom', ''], ['1975', 'United Kingdom', '1'], ['1975', 'United Kingdom', '1'], ['1975', 'United States', '0'], ['1975', 'United Kingdom', '1'], ['1975', 'United Kingdom', '1'], ['1975', 'United Kingdom', '0'], ['1975', 'United States', '0'], ['1975', 'United States', '0'], ['1975', 'United States', '0'], ['1975', 'United States', '0'], ['1975', 'United States', '0'], ['1975', 'United States', '0'], ['1975', 'United Kingdom', '1'], ['1975', 'United States', '0'], ['1975', 'United Kingdom', '1'], ['1975', 'United States', '0'], ['1975', 'United Kingdom', '1'], ['1975', 'United Kingdom', '2'], ['1975', 'United States', '0'], ['1975', 'United States', '0'], ['1975', 'United States', '0'], ['1975', 'United States', '0'], ['1975', 'United States', '0'], ['1975', 'United States', '0'], ['1975', 'United States', '0'], ['1975', 'United States', '0'], ['1975', 'United States', '0'], ['1975', 'United States', '0'], ['1975', 'United Kingdom', '0'], ['1975', 'United Kingdom', '1'], ['1975', 'United Kingdom', '1'], ['1975', 'United Kingdom', '1'], ['1975', 'United States', '1'], ['1975', 'United States', '0'], ['1975', 'United States', '0'], ['1975', 'United Kingdom', '1'], ['1975', 'United Kingdom', '1'], ['1975', 'United Kingdom', '1'], ['1975', 'United States', '0'], ['1975', 'United Kingdom', '1'], ['1975', 'United Kingdom', '1'], ['1975', 'United Kingdom', '1'], ['1975', 'United Kingdom', '1'], ['1975', 'United States', '0'], ['1975', 'United Kingdom', '1'], ['1975', 'United Kingdom', '1'], ['1975', 'United Kingdom', '1'], ['1975', 'United Kingdom', '1'], ['1975', 'United Kingdom', '1'], ['1975', 'United Kingdom', '1'], ['1975', 'United Kingdom', '1'], ['1975', 'United Kingdom', '1'], ['1975', 'United Kingdom', '1'], ['1975', 'United Kingdom', '1'], ['1975', 'United Kingdom', '2'], ['1975', 'United Kingdom', '1'], ['1975', 'United Kingdom', '3'], ['1975', 'United Kingdom', '1'], ['1975', 'United Kingdom', '2'], ['1975', 'United Kingdom', '1'], ['1975', 'United Kingdom', '1'], ['1975', 'United States', '0'], ['1975', 'United States', '0'], ['1975', 'United Kingdom', '1'], ['1975', 'United Kingdom', '1'], ['1975', 'United States', '0'], ['1975', 'United Kingdom', '2'], ['1975', 'United States', '0'], ['1975', 'United States', '0'], ['1975', 'United States', '0'], ['1975', 'United States', '0'], ['1975', 'United States', '0'], ['1975', 'United States', '0'], ['1975', 'United Kingdom', ''], ['1975', 'United States', '0'], ['1975', 'United States', '0'], ['1975', 'United States', '0'], ['1975', 'United States', '0'], ['1975', 'United Kingdom', '1'], ['1975', 'United States', '0'], ['1975', 'United States', '0'], ['1975', 'United Kingdom', '1'], ['1975', 'United Kingdom', '3'], ['1975', 'United Kingdom', '0'], ['1975', 'United Kingdom', '1'], ['1975', 'United States', '0'], ['1975', 'United States', '0'], ['1975', 'United States', '0'], ['1975', 'United Kingdom', '2'], ['1975', 'United States', '0'], ['1975', 'United States', '11'], ['1975', 'United Kingdom', '5'], ['1975', 'United States', '0'], ['1975', 'United Kingdom', '1'], ['1975', 'United States', '0'], ['1975', 'United Kingdom', '3'], ['1975', 'United States', '0'], ['1985', 'United States', '0'], ['1985', 'United States', '0'], ['1985', 'United Kingdom', '1'], ['1985', 'India', '6'], ['1985', 'India', '2'], ['1985', 'India', '0'], ['1985', 'India', ''], ['1985', 'United Kingdom', '1'], ['1985', 'United States', '0'], ['1985', 'United Kingdom', '1'], ['1985', 'United Kingdom', '1'], ['1985', 'United States', '0'], ['1985', 'United States', '0'], ['1985', 'United Kingdom', '1'], ['1985', 'United Kingdom', '9'], ['1985', 'United Kingdom', '9'], ['1985', 'United Kingdom', '1'], ['1985', 'United Kingdom', '1'], ['1985', 'United Kingdom', '0'], ['1985', 'United Kingdom', '0'], ['1985', 'United Kingdom', '0'], ['1985', 'United States', '0'], ['1985', 'United Kingdom', '0'], ['1985', 'India', '1'], ['1985', 'India', '1'], ['1985', 'United Kingdom', '1'], ['1985', 'United Kingdom', '1'], ['1985', 'United Kingdom', '1'], ['1985', 'United Kingdom', ''], ['1985', 'United Kingdom', '2'], ['1985', 'United Kingdom', '2'], ['1985', 'United Kingdom', '1'], ['1985', 'India', '1'], ['1985', 'United States', '0'], ['1985', 'India', '1'], ['1985', 'United States', '0'], ['1985', 'United Kingdom', '0'], ['1985', 'United Kingdom', '0'], ['1985', 'India', '0'], ['1985', 'United Kingdom', '1'], ['1985', 'India', '2'], ['1985', 'India', '1'], ['1985', 'India', '2'], ['1985', 'India', '3'], ['1985', 'India', ''], ['1985', 'India', '5'], ['1985', 'India', '0'], ['1985', 'United Kingdom', '0'], ['1985', 'United States', '0'], ['1985', 'United States', '0'], ['1985', 'India', '0'], ['1985', 'United Kingdom', '4'], ['1985', 'United Kingdom', '4'], ['1985', 'United Kingdom', ''], ['1985', 'United Kingdom', ''], ['1985', 'United Kingdom', ''], ['1985', 'United Kingdom', '1'], ['1985', 'United Kingdom', '0'], ['1985', 'United Kingdom', '1'], ['1985', 'United States', '1'], ['1985', 'India', '0'], ['1985', 'India', '0'], ['1985', 'India', '0'], ['1985', 'United States', '0'], ['1985', 'United Kingdom', '0'], ['1985', 'United Kingdom', '0'], ['1985', 'United Kingdom', '1'], ['1985', 'United Kingdom', '0'], ['1985', 'United Kingdom', '1'], ['1985', 'India', '1'], ['1985', 'India', '0'], ['1985', 'United States', '0'], ['1985', 'United Kingdom', '0'], ['1985', 'India', '0'], ['1985', 'India', '0'], ['1985', 'United States', '0'], ['1985', 'United Kingdom', '0'], ['1985', 'United Kingdom', '0'], ['1985', 'India', '0'], ['1985', 'United Kingdom', '0'], ['1985', 'United Kingdom', '0'], ['1985', 'United Kingdom', '1'], ['1985', 'United States', '0'], ['1985', 'United States', '0'], ['1985', 'United States', '0'], ['1985', 'India', '3'], ['1985', 'United Kingdom', '0'], ['1985', 'United States', '0'], ['1985', 'United States', '0'], ['1985', 'United Kingdom', '0'], ['1985', 'India', '2'], ['1985', 'United Kingdom', '1'], ['1985', 'United Kingdom', '1'], ['1985', 'United Kingdom', '0'], ['1985', 'United Kingdom', '1'], ['1985', 'United Kingdom', '0'], ['1985', 'India', '2'], ['1985', 'United States', '0'], ['1985', 'United Kingdom', '0'], ['1985', 'India', '1'], ['1985', 'United Kingdom', '2'], ['1985', 'United Kingdom', '1'], ['1985', 'United Kingdom', '0'], ['1985', 'India', '3'], ['1985', 'United Kingdom', '1'], ['1985', 'India', '3'], ['1985', 'United States', '0'], ['1985', 'United States', '0'], ['1985', 'United States', '0'], ['1985', 'United Kingdom', '1'], ['1985', 'United States', '1'], ['1985', 'United Kingdom', '0'], ['1985', 'India', '2'], ['1985', 'United States', '0'], ['1985', 'United States', '0'], ['1985', 'India', '1'], ['1985', 'United States', '0'], ['1985', 'United States', '0'], ['1985', 'India', '1'], ['1985', 'India', '1'], ['1985', 'United Kingdom', '1'], ['1985', 'India', '1'], ['1985', 'United Kingdom', '0'], ['1985', 'United States', '0'], ['1985', 'United Kingdom', '1'], ['1985', 'United Kingdom', '1'], ['1985', 'United States', '0'], ['1985', 'United Kingdom', '1'], ['1985', 'India', '2'], ['1985', 'India', '1'], ['1985', 'India', '2'], ['1985', 'United Kingdom', '1'], ['1985', 'United Kingdom', '1'], ['1985', 'United States', '0'], ['1985', 'United Kingdom', '1'], ['1985', 'United States', '0'], ['1985', 'United States', '0'], ['1985', 'United States', '0'], ['1985', 'United States', '0'], ['1985', 'United Kingdom', '2'], ['1985', 'United States', '0'], ['1985', 'United States', '1'], ['1985', 'United Kingdom', ''], ['1985', 'United States', '0'], ['1985', 'United States', '0'], ['1985', 'United States', '0']]\n"
          ]
        }
      ]
    },
    {
      "cell_type": "markdown",
      "source": [
        "        united states  united kingdom  india\n",
        "1970\n",
        "\n",
        "1975\n",
        "\n",
        "1980"
      ],
      "metadata": {
        "id": "q69kyXh-TzU8"
      }
    },
    {
      "cell_type": "code",
      "source": [
        "table=[[0,0,0],[0,0,0],[0,0,0]]\n",
        "for i in attacks:\n",
        "  if i[0]=='1970' and i[1]=='United States':\n",
        "    table[0][0]+=1\n",
        "  elif i[0]=='1970' and i[1]=='United Kingdom':\n",
        "    table[0][1]+=1\n",
        "  elif i[0]=='1970' and i[1]=='India':\n",
        "    table[0][2]+=1\n",
        "  elif i[0]=='1975' and i[1]=='United States':\n",
        "    table[1][0]+=1\n",
        "  elif i[0]=='1975' and i[1]=='United Kingdom':\n",
        "    table[1][1]+=1\n",
        "  elif i[0]=='1975' and i[1]=='India':\n",
        "    table[1][2]+=1\n",
        "  elif i[0]=='1985' and i[1]=='United States':\n",
        "    table[2][0]+=1\n",
        "  elif i[0]=='1985' and i[1]=='United Kingdom':\n",
        "    table[2][1]+=1\n",
        "  elif i[0]=='1985' and i[1]=='India':\n",
        "    table[2][2]+=1\n",
        "\n",
        "print(table)\n",
        "\n",
        "\n",
        "\n"
      ],
      "metadata": {
        "colab": {
          "base_uri": "https://localhost:8080/"
        },
        "id": "ituLINOBTT31",
        "outputId": "5924045c-88eb-4dc8-f7db-d9dff468e4fe"
      },
      "execution_count": null,
      "outputs": [
        {
          "output_type": "stream",
          "name": "stdout",
          "text": [
            "[[468, 12, 0], [149, 194, 1], [40, 67, 39]]\n"
          ]
        }
      ]
    },
    {
      "cell_type": "code",
      "source": [
        "expected_table=[[0,0,0],[0,0,0],[0,0,0]]\n",
        "\n",
        "row_sums = [sum(row) for row in table]\n",
        "\n",
        "col_sums = [sum(col) for col in zip(*table)]\n",
        "\n",
        "N=sum(row_sums)\n",
        "\n",
        "for i in range(len(table)):\n",
        "  for j in range(len(table[i])):\n",
        "    expected_table[i][j]=(row_sums[i]*col_sums[j])/N\n",
        "\n",
        "print(expected_table)\n"
      ],
      "metadata": {
        "colab": {
          "base_uri": "https://localhost:8080/"
        },
        "id": "6_wCC0GJU3jU",
        "outputId": "9619bc1e-8756-49ff-8ec5-0ce74eb32b37"
      },
      "execution_count": null,
      "outputs": [
        {
          "output_type": "stream",
          "name": "stdout",
          "text": [
            "[[325.11340206185565, 135.09278350515464, 19.79381443298969], [232.9979381443299, 96.81649484536082, 14.185567010309278], [98.88865979381443, 41.090721649484536, 6.020618556701031]]\n"
          ]
        }
      ]
    },
    {
      "cell_type": "code",
      "source": [
        "chi_sq_calc=0\n",
        "for i in range(len(table)):\n",
        "  for j in range(len(table[i])):\n",
        "    chi_sq_calc+=((table[i][j]-expected_table[i][j])**2)/expected_table[i][j]\n",
        "\n",
        "print(chi_sq_calc)"
      ],
      "metadata": {
        "colab": {
          "base_uri": "https://localhost:8080/"
        },
        "id": "v6Jadt8DWWMd",
        "outputId": "bcd713b9-4863-467c-b9a5-5295785581a7"
      },
      "execution_count": null,
      "outputs": [
        {
          "output_type": "stream",
          "name": "stdout",
          "text": [
            "566.8986122619591\n"
          ]
        }
      ]
    },
    {
      "cell_type": "markdown",
      "source": [
        "R=3 , C=3 d.f = 2 x 2 =4 at alpha = 10%\n",
        "\n",
        "chi square  tabulated= 7.779"
      ],
      "metadata": {
        "id": "F8jC3_uoWwMk"
      }
    },
    {
      "cell_type": "code",
      "source": [
        "chi_sq_tab=7.779"
      ],
      "metadata": {
        "id": "lphb2DlqXGX7"
      },
      "execution_count": null,
      "outputs": []
    },
    {
      "cell_type": "code",
      "source": [
        "if chi_sq_calc<=chi_sq_tab:\n",
        "  print(\"accept Ho\")\n",
        "else:\n",
        "  print(\"reject Ho, accept H1\")"
      ],
      "metadata": {
        "colab": {
          "base_uri": "https://localhost:8080/"
        },
        "id": "N03nP58-XCor",
        "outputId": "5c66ff00-6cf2-4cab-b3d9-8934aef26863"
      },
      "execution_count": null,
      "outputs": [
        {
          "output_type": "stream",
          "name": "stdout",
          "text": [
            "reject Ho, accept H1\n"
          ]
        }
      ]
    },
    {
      "cell_type": "markdown",
      "source": [
        "----------------------------------------"
      ],
      "metadata": {
        "id": "KvLfWtn-hv6W"
      }
    },
    {
      "cell_type": "markdown",
      "source": [
        "## **Test for homogenity**"
      ],
      "metadata": {
        "id": "tV-CRI05hw-H"
      }
    },
    {
      "cell_type": "markdown",
      "source": [
        "out of 100 attacks in the year 1980,2000,2010 are the proportion of the number of times United States was attacked same or not .\n",
        "\n",
        "alpha=10%\n",
        "\n",
        "Ho: proportions are same\n",
        "\n",
        "H1: proportions are not same"
      ],
      "metadata": {
        "id": "woKvp3WVkBx_"
      }
    },
    {
      "cell_type": "code",
      "source": [
        "attacks_1980=[]\n",
        "attacks_2000=[]\n",
        "attacks_2010=[]\n",
        "import csv\n",
        "\n",
        "with open('/content/drive/MyDrive/files/required_data_group_11.csv', 'r') as csvfile:\n",
        "\n",
        "    csvreader = csv.reader(csvfile)\n",
        "\n",
        "    # Iterate through rows\n",
        "    for row in csvreader:\n",
        "      row=row[0].split('\\t')\n",
        "      if row[0]=='1980':\n",
        "        attacks_1980.append(row)\n",
        "      elif row[0]=='2000':\n",
        "        attacks_2000.append(row)\n",
        "      elif row[0]=='2010':\n",
        "        attacks_2010.append(row)\n",
        "\n",
        "print(len(attacks_1980))\n",
        "print(len(attacks_2000))\n",
        "print(len(attacks_2010))\n"
      ],
      "metadata": {
        "colab": {
          "base_uri": "https://localhost:8080/"
        },
        "outputId": "32cb705b-c88b-4916-cc10-2d4ddbeea085",
        "id": "-BXoGR9KkRYa"
      },
      "execution_count": 27,
      "outputs": [
        {
          "output_type": "stream",
          "name": "stdout",
          "text": [
            "2662\n",
            "1814\n",
            "4826\n"
          ]
        }
      ]
    },
    {
      "cell_type": "code",
      "source": [
        "import random\n",
        "\n",
        "# Specifing the sample size\n",
        "sample_size = 100\n",
        "\n",
        "# Performing simple random sampling\n",
        "sample_1980 = random.sample(attacks_1980, sample_size)\n",
        "\n",
        "print(\"Simple Random Sample :\", sample_1980)\n",
        "\n",
        "sample_2000 = random.sample(attacks_2000, sample_size)\n",
        "\n",
        "print(\"Simple Random Sample :\", sample_2000)\n",
        "\n",
        "sample_2010 = random.sample(attacks_2010, sample_size)\n",
        "\n",
        "print(\"Simple Random Sample :\", sample_2010)\n",
        "\n"
      ],
      "metadata": {
        "colab": {
          "base_uri": "https://localhost:8080/"
        },
        "outputId": "12f39499-5853-4a2e-f0ac-eddcfe5ce9bd",
        "id": "zUWh5Qi-k0oe"
      },
      "execution_count": 28,
      "outputs": [
        {
          "output_type": "stream",
          "name": "stdout",
          "text": [
            "Simple Random Sample : [['1980', 'Spain', ''], ['1980', 'El Salvador', '0'], ['1980', 'Lebanon', '1'], ['1980', 'Lebanon', '0'], ['1980', 'Chile', '0'], ['1980', 'Philippines', '1'], ['1980', 'West Bank and Gaza Strip', '0'], ['1980', 'Italy', '1'], ['1980', 'Guatemala', '10'], ['1980', 'Italy', ''], ['1980', 'Turkey', '3'], ['1980', 'Thailand', '19'], ['1980', 'Greece', '0'], ['1980', 'El Salvador', ''], ['1980', 'Guatemala', '1'], ['1980', 'Spain', '0'], ['1980', 'Syria', '1'], ['1980', 'Guatemala', '1'], ['1980', 'South Africa', '5'], ['1980', 'Rhodesia', '1'], ['1980', 'Honduras', '0'], ['1980', 'Italy', '1'], ['1980', 'Guatemala', '1'], ['1980', 'El Salvador', '1'], ['1980', 'Spain', '1'], ['1980', 'Guatemala', '1'], ['1980', 'Italy', '1'], ['1980', 'El Salvador', ''], ['1980', 'El Salvador', '1'], ['1980', 'Syria', ''], ['1980', 'Syria', '11'], ['1980', 'Philippines', '0'], ['1980', 'Egypt', '0'], ['1980', 'El Salvador', '1'], ['1980', 'Colombia', '0'], ['1980', 'Guatemala', '0'], ['1980', 'El Salvador', '15'], ['1980', 'El Salvador', '0'], ['1980', 'United Kingdom', '1'], ['1980', 'El Salvador', '1'], ['1980', 'Iran', '0'], ['1980', 'Philippines', '8'], ['1980', 'El Salvador', '1'], ['1980', 'Israel', '0'], ['1980', 'El Salvador', '0'], ['1980', 'Guatemala', '1'], ['1980', 'Colombia', '1'], ['1980', 'United States', '1'], ['1980', 'Iran', '0'], ['1980', 'El Salvador', '0'], ['1980', 'El Salvador', ''], ['1980', 'El Salvador', '10'], ['1980', 'United Kingdom', '1'], ['1980', 'United States', '0'], ['1980', 'El Salvador', '0'], ['1980', 'United Kingdom', '0'], ['1980', 'Colombia', '0'], ['1980', 'El Salvador', ''], ['1980', 'United Kingdom', '0'], ['1980', 'Lebanon', '0'], ['1980', 'El Salvador', ''], ['1980', 'Thailand', '4'], ['1980', 'Guatemala', '5'], ['1980', 'Spain', '1'], ['1980', 'Italy', '0'], ['1980', 'West Germany (FRG)', ''], ['1980', 'Italy', '0'], ['1980', 'Thailand', '7'], ['1980', 'Spain', '3'], ['1980', 'France', '0'], ['1980', 'El Salvador', '2'], ['1980', 'Spain', '1'], ['1980', 'Egypt', '1'], ['1980', 'Guatemala', '1'], ['1980', 'Lebanon', '0'], ['1980', 'Italy', '0'], ['1980', 'Israel', '0'], ['1980', 'Iran', ''], ['1980', 'United States', '0'], ['1980', 'Guatemala', '0'], ['1980', 'El Salvador', ''], ['1980', 'Syria', '1'], ['1980', 'Colombia', '0'], ['1980', 'El Salvador', '0'], ['1980', 'Colombia', '0'], ['1980', 'Guatemala', '3'], ['1980', 'El Salvador', '3'], ['1980', 'El Salvador', ''], ['1980', 'El Salvador', '2'], ['1980', 'Guatemala', '2'], ['1980', 'Bolivia', '0'], ['1980', 'El Salvador', '0'], ['1980', 'Guatemala', '1'], ['1980', 'Chile', '0'], ['1980', 'Spain', '0'], ['1980', 'Israel', ''], ['1980', 'Guatemala', '1'], ['1980', 'Nicaragua', '1'], ['1980', 'El Salvador', '3'], ['1980', 'Italy', '0']]\n",
            "Simple Random Sample : [['2000', 'India', '5'], ['2000', 'United Kingdom', '0'], ['2000', 'United States', '0'], ['2000', 'Algeria', '1'], ['2000', 'India', '1'], ['2000', 'Switzerland', '0'], ['2000', 'United Kingdom', '0'], ['2000', 'United Kingdom', '0'], ['2000', 'Sri Lanka', '3'], ['2000', 'Yemen', '0'], ['2000', 'Colombia', '0'], ['2000', 'Algeria', '5'], ['2000', 'Kosovo', '1'], ['2000', 'Philippines', '8'], ['2000', 'India', '0'], ['2000', 'Russia', '1'], ['2000', 'Philippines', '0'], ['2000', 'Algeria', '12'], ['2000', 'Malaysia', '2'], ['2000', 'United Kingdom', '0'], ['2000', 'Algeria', '3'], ['2000', 'Algeria', '22'], ['2000', 'Colombia', '0'], ['2000', 'Colombia', '1'], ['2000', 'Sri Lanka', '14'], ['2000', 'United States', '0'], ['2000', 'Sri Lanka', '2'], ['2000', 'Sri Lanka', '34'], ['2000', 'Kosovo', '1'], ['2000', 'Sri Lanka', '0'], ['2000', 'Sierra Leone', '8'], ['2000', 'Israel', '0'], ['2000', 'Philippines', '3'], ['2000', 'Russia', '0'], ['2000', 'Burundi', '6'], ['2000', 'Kosovo', '0'], ['2000', 'Colombia', '17'], ['2000', 'Russia', '1'], ['2000', 'Central African Republic', '1'], ['2000', 'India', '10'], ['2000', 'Indonesia', '0'], ['2000', 'Algeria', '6'], ['2000', 'Algeria', '5'], ['2000', 'Croatia', '1'], ['2000', 'Pakistan', '0'], ['2000', 'Russia', '3'], ['2000', 'India', '3'], ['2000', 'Philippines', '0'], ['2000', 'Namibia', '0'], ['2000', 'South Africa', '0'], ['2000', 'Philippines', '0'], ['2000', 'Philippines', '0'], ['2000', 'Germany', '0'], ['2000', 'Kosovo', '2'], ['2000', 'Angola', '1'], ['2000', 'India', '4'], ['2000', 'Algeria', '8'], ['2000', 'Burundi', '5'], ['2000', 'Indonesia', '0'], ['2000', 'Russia', '4'], ['2000', 'Guinea', '60'], ['2000', 'Algeria', '3'], ['2000', 'United States', '0'], ['2000', 'Philippines', '0'], ['2000', 'Greece', '0'], ['2000', 'Turkey', '0'], ['2000', 'Colombia', '1'], ['2000', 'Latvia', '0'], ['2000', 'Kosovo', '0'], ['2000', 'Russia', '5'], ['2000', 'West Bank and Gaza Strip', '0'], ['2000', 'Indonesia', '0'], ['2000', 'Pakistan', '2'], ['2000', 'Zambia', '0'], ['2000', 'Philippines', '0'], ['2000', 'Burundi', '0'], ['2000', 'Philippines', '1'], ['2000', 'Philippines', '3'], ['2000', 'South Africa', '0'], ['2000', 'Colombia', '0'], ['2000', 'Russia', '2'], ['2000', 'Israel', '0'], ['2000', 'Turkey', '0'], ['2000', 'Pakistan', '1'], ['2000', 'Germany', '0'], ['2000', 'South Africa', '1'], ['2000', 'Indonesia', '0'], ['2000', 'Afghanistan', '0'], ['2000', 'Algeria', '2'], ['2000', 'Indonesia', '2'], ['2000', 'Colombia', '0'], ['2000', 'Russia', '1'], ['2000', 'Philippines', '0'], ['2000', 'South Africa', '0'], ['2000', 'Spain', '0'], ['2000', 'Colombia', '0'], ['2000', 'United Kingdom', '0'], ['2000', 'India', '0'], ['2000', 'Russia', '1'], ['2000', 'South Africa', '1']]\n",
            "Simple Random Sample : [['2010', 'India', '0'], ['2010', 'Philippines', '0'], ['2010', 'Algeria', '0'], ['2010', 'Pakistan', '1'], ['2010', 'Yemen', '1'], ['2010', 'Pakistan', '0'], ['2010', 'Iraq', '7'], ['2010', 'Iraq', '2'], ['2010', 'Afghanistan', '0'], ['2010', 'Afghanistan', '1'], ['2010', 'Iraq', '1'], ['2010', 'Afghanistan', '11'], ['2010', 'Thailand', '0'], ['2010', 'Colombia', '0'], ['2010', 'Uganda', '0'], ['2010', 'Russia', '1'], ['2010', 'Iraq', '1'], ['2010', 'Iraq', '1'], ['2010', 'Algeria', '2'], ['2010', 'Pakistan', '3'], ['2010', 'Iraq', '0'], ['2010', 'Afghanistan', '11'], ['2010', 'Iraq', '0'], ['2010', 'Thailand', '0'], ['2010', 'Afghanistan', '3'], ['2010', 'Iraq', '1'], ['2010', 'India', '1'], ['2010', 'Iraq', '1'], ['2010', 'Pakistan', '1'], ['2010', 'India', '0'], ['2010', 'Algeria', '5'], ['2010', 'Pakistan', '3'], ['2010', 'Thailand', '1'], ['2010', 'Philippines', '1'], ['2010', 'India', '0'], ['2010', 'Yemen', '9'], ['2010', 'Pakistan', '0'], ['2010', 'India', '0'], ['2010', 'Nepal', '0'], ['2010', 'Iran', '0'], ['2010', 'Iraq', '1'], ['2010', 'Pakistan', '0'], ['2010', 'Iraq', '0'], ['2010', 'Afghanistan', '0'], ['2010', 'Pakistan', '0'], ['2010', 'Iraq', '0'], ['2010', 'Russia', '7'], ['2010', 'Afghanistan', '0'], ['2010', 'Pakistan', '0'], ['2010', 'Pakistan', '106'], ['2010', 'Iraq', '1'], ['2010', 'India', '0'], ['2010', 'Pakistan', '6'], ['2010', 'Philippines', '0'], ['2010', 'Iraq', '0'], ['2010', 'Iraq', '0'], ['2010', 'Iraq', '0'], ['2010', 'Pakistan', '3'], ['2010', 'Philippines', '0'], ['2010', 'Afghanistan', '10'], ['2010', 'Russia', '0'], ['2010', 'Thailand', '0'], ['2010', 'Nigeria', '3'], ['2010', 'Pakistan', '1'], ['2010', 'India', '1'], ['2010', 'Pakistan', '1'], ['2010', 'India', '1'], ['2010', 'Pakistan', '2'], ['2010', 'Iraq', '0'], ['2010', 'Thailand', '0'], ['2010', 'Afghanistan', '0'], ['2010', 'Burundi', '0'], ['2010', 'Pakistan', '0'], ['2010', 'Yemen', '2'], ['2010', 'Iraq', '0'], ['2010', 'India', '1'], ['2010', 'Iraq', '0'], ['2010', 'Afghanistan', '5'], ['2010', 'Pakistan', '0'], ['2010', 'Yemen', '3'], ['2010', 'Pakistan', '0'], ['2010', 'Colombia', '8'], ['2010', 'Afghanistan', '3'], ['2010', 'Greece', '0'], ['2010', 'Uganda', '60'], ['2010', 'Philippines', '1'], ['2010', 'India', '0'], ['2010', 'Nepal', '1'], ['2010', 'Iraq', '1'], ['2010', 'Colombia', '0'], ['2010', 'India', '0'], ['2010', 'Pakistan', '20'], ['2010', 'Ivory Coast', '6'], ['2010', 'India', '0'], ['2010', 'Thailand', '1'], ['2010', 'Afghanistan', '1'], ['2010', 'Iraq', '0'], ['2010', 'Pakistan', '1'], ['2010', 'India', '0'], ['2010', 'India', '0']]\n"
          ]
        }
      ]
    },
    {
      "cell_type": "markdown",
      "source": [
        "                      1980  2000  2010\n",
        "United States\n",
        "\n",
        "not United States"
      ],
      "metadata": {
        "id": "OMqN2Wo6lR8V"
      }
    },
    {
      "cell_type": "code",
      "source": [
        "table=[[0,0,0],[0,0,0]]\n",
        "\n",
        "for i in sample_1980:\n",
        "  if i[1]=='United States':\n",
        "    table[0][0]+=1\n",
        "  else:\n",
        "    table[1][0]+=1\n",
        "\n",
        "for i in sample_2000:\n",
        "  if i[1]=='United States':\n",
        "    table[0][1]+=1\n",
        "  else:\n",
        "    table[1][1]+=1\n",
        "\n",
        "for i in sample_2010:\n",
        "  if i[1]=='United States':\n",
        "    table[0][2]+=1\n",
        "  else:\n",
        "    table[1][2]+=1\n",
        "\n",
        "print(table)"
      ],
      "metadata": {
        "colab": {
          "base_uri": "https://localhost:8080/"
        },
        "id": "_e1T280mlLHV",
        "outputId": "19c5bfc9-bbdc-4ee9-c252-05d0965ddd36"
      },
      "execution_count": 29,
      "outputs": [
        {
          "output_type": "stream",
          "name": "stdout",
          "text": [
            "[[3, 3, 0], [97, 97, 100]]\n"
          ]
        }
      ]
    },
    {
      "cell_type": "code",
      "source": [
        "expected_table=[[0,0,0],[0,0,0]]\n",
        "\n",
        "row_sums = [sum(row) for row in table]\n",
        "\n",
        "col_sums = [sum(col) for col in zip(*table)]\n",
        "\n",
        "N=sum(row_sums)\n",
        "\n",
        "for i in range(len(table)):\n",
        "  for j in range(len(table[i])):\n",
        "    expected_table[i][j]=(row_sums[i]*col_sums[j])/N\n",
        "\n",
        "print(expected_table)\n"
      ],
      "metadata": {
        "colab": {
          "base_uri": "https://localhost:8080/"
        },
        "outputId": "3be350c1-6f9a-4079-d4e5-8fc182fbf3f8",
        "id": "LSm1y5NrmHrN"
      },
      "execution_count": 30,
      "outputs": [
        {
          "output_type": "stream",
          "name": "stdout",
          "text": [
            "[[2.0, 2.0, 2.0], [98.0, 98.0, 98.0]]\n"
          ]
        }
      ]
    },
    {
      "cell_type": "code",
      "source": [
        "chi_sq_calc=0\n",
        "for i in range(len(table)):\n",
        "  for j in range(len(table[i])):\n",
        "    chi_sq_calc+=((table[i][j]-expected_table[i][j])**2)/expected_table[i][j]\n",
        "\n",
        "print(chi_sq_calc)"
      ],
      "metadata": {
        "colab": {
          "base_uri": "https://localhost:8080/"
        },
        "outputId": "6806c48b-f0c0-44c2-ddd7-bbd4c257be5d",
        "id": "kypTFkubmHrO"
      },
      "execution_count": 31,
      "outputs": [
        {
          "output_type": "stream",
          "name": "stdout",
          "text": [
            "3.061224489795918\n"
          ]
        }
      ]
    },
    {
      "cell_type": "markdown",
      "source": [
        "for alpha=10% and d.f=2 chi square tabulated=4.605"
      ],
      "metadata": {
        "id": "KaX4cHwLmeVk"
      }
    },
    {
      "cell_type": "code",
      "source": [
        "chi_sq_tab=4.605"
      ],
      "metadata": {
        "id": "0fOw_p6EmlfE"
      },
      "execution_count": 33,
      "outputs": []
    },
    {
      "cell_type": "code",
      "source": [
        "if chi_sq_calc<=chi_sq_tab:\n",
        "  print(\"accept Ho , therefore the proportions are equal\")\n",
        "else:\n",
        "  print(\"reject Ho, accept H1 . therefore the proportions are not equal\")"
      ],
      "metadata": {
        "colab": {
          "base_uri": "https://localhost:8080/"
        },
        "outputId": "b4272874-777d-448d-f559-1a813625801e",
        "id": "hYXNedI9mu8S"
      },
      "execution_count": 35,
      "outputs": [
        {
          "output_type": "stream",
          "name": "stdout",
          "text": [
            "accept Ho , therefore the proportions are equal\n"
          ]
        }
      ]
    },
    {
      "cell_type": "markdown",
      "source": [
        "----------------------------------------"
      ],
      "metadata": {
        "id": "Vj5blGL1nupt"
      }
    },
    {
      "cell_type": "markdown",
      "source": [
        "## **2x2 contingency table**"
      ],
      "metadata": {
        "id": "Icxuv5lWnupt"
      }
    },
    {
      "cell_type": "markdown",
      "source": [
        "out of 100 attacks in the year 1980,2000 are the proportion of the number of times United States was attacked same or not .\n",
        "\n",
        "alpha=10%\n",
        "\n",
        "Ho: proportions are same\n",
        "\n",
        "H1: proportions are not same"
      ],
      "metadata": {
        "id": "Y3yz_z0Vnupu"
      }
    },
    {
      "cell_type": "code",
      "source": [
        "attacks_1980=[]\n",
        "attacks_2000=[]\n",
        "import csv\n",
        "\n",
        "with open('/content/drive/MyDrive/files/required_data_group_11.csv', 'r') as csvfile:\n",
        "\n",
        "    csvreader = csv.reader(csvfile)\n",
        "\n",
        "    # Iterate through rows\n",
        "    for row in csvreader:\n",
        "      row=row[0].split('\\t')\n",
        "      if row[0]=='1980':\n",
        "        attacks_1980.append(row)\n",
        "      elif row[0]=='2000':\n",
        "        attacks_2000.append(row)\n",
        "\n",
        "\n",
        "print(len(attacks_1980))\n",
        "print(len(attacks_2000))\n"
      ],
      "metadata": {
        "colab": {
          "base_uri": "https://localhost:8080/"
        },
        "outputId": "1adb3d9c-af40-4dd6-b513-6fc648c03401",
        "id": "nYTTHwv-nupu"
      },
      "execution_count": 36,
      "outputs": [
        {
          "output_type": "stream",
          "name": "stdout",
          "text": [
            "2662\n",
            "1814\n"
          ]
        }
      ]
    },
    {
      "cell_type": "code",
      "source": [
        "import random\n",
        "\n",
        "# Specifing the sample size\n",
        "sample_size = 100\n",
        "\n",
        "# Performing simple random sampling\n",
        "sample_1980 = random.sample(attacks_1980, sample_size)\n",
        "\n",
        "print(\"Simple Random Sample :\", sample_1980)\n",
        "\n",
        "sample_2000 = random.sample(attacks_2000, sample_size)\n",
        "\n",
        "print(\"Simple Random Sample :\", sample_2000)\n",
        "\n",
        "\n",
        "\n"
      ],
      "metadata": {
        "colab": {
          "base_uri": "https://localhost:8080/"
        },
        "outputId": "93695502-c1b9-444e-eb8b-0bc1708a6c8e",
        "id": "ZuJVDnJ5nupu"
      },
      "execution_count": 37,
      "outputs": [
        {
          "output_type": "stream",
          "name": "stdout",
          "text": [
            "Simple Random Sample : [['1980', 'Syria', '0'], ['1980', 'El Salvador', ''], ['1980', 'Guatemala', '1'], ['1980', 'Guatemala', '1'], ['1980', 'El Salvador', '0'], ['1980', 'Turkey', '1'], ['1980', 'Peru', '1'], ['1980', 'Lebanon', '0'], ['1980', 'Chile', '0'], ['1980', 'Guatemala', '0'], ['1980', 'Guatemala', '1'], ['1980', 'Bolivia', ''], ['1980', 'France', '1'], ['1980', 'El Salvador', '1'], ['1980', 'Bolivia', '1'], ['1980', 'El Salvador', '0'], ['1980', 'Peru', '0'], ['1980', 'Turkey', '1'], ['1980', 'United States', '1'], ['1980', 'Spain', '0'], ['1980', 'Chile', '2'], ['1980', 'El Salvador', ''], ['1980', 'West Bank and Gaza Strip', ''], ['1980', 'Italy', '1'], ['1980', 'Lebanon', '0'], ['1980', 'United Kingdom', '0'], ['1980', 'Guatemala', '0'], ['1980', 'Colombia', '1'], ['1980', 'El Salvador', ''], ['1980', 'United Kingdom', '1'], ['1980', 'United Kingdom', '0'], ['1980', 'Guatemala', '1'], ['1980', 'Guatemala', '1'], ['1980', 'Turkey', '4'], ['1980', 'El Salvador', ''], ['1980', 'France', ''], ['1980', 'Brazil', '0'], ['1980', 'Guatemala', '1'], ['1980', 'El Salvador', ''], ['1980', 'Guatemala', ''], ['1980', 'Tunisia', '41'], ['1980', 'El Salvador', '4'], ['1980', 'West Bank and Gaza Strip', '0'], ['1980', 'Guatemala', '2'], ['1980', 'Spain', '1'], ['1980', 'West Bank and Gaza Strip', '0'], ['1980', 'Guatemala', ''], ['1980', 'El Salvador', '3'], ['1980', 'El Salvador', '0'], ['1980', 'Spain', '0'], ['1980', 'Guatemala', '2'], ['1980', 'El Salvador', '5'], ['1980', 'Peru', '0'], ['1980', 'El Salvador', '4'], ['1980', 'France', '0'], ['1980', 'Guatemala', '1'], ['1980', 'France', '2'], ['1980', 'El Salvador', '6'], ['1980', 'Guatemala', '1'], ['1980', 'El Salvador', ''], ['1980', 'El Salvador', '3'], ['1980', 'El Salvador', ''], ['1980', 'Turkey', '1'], ['1980', 'Lebanon', '0'], ['1980', 'France', '4'], ['1980', 'Nicaragua', '2'], ['1980', 'Colombia', '2'], ['1980', 'Guatemala', '1'], ['1980', 'Mexico', ''], ['1980', 'Italy', '1'], ['1980', 'El Salvador', '1'], ['1980', 'Italy', '0'], ['1980', 'Philippines', '0'], ['1980', 'Colombia', '1'], ['1980', 'Spain', '1'], ['1980', 'El Salvador', '1'], ['1980', 'Canada', '0'], ['1980', 'El Salvador', '0'], ['1980', 'Bolivia', ''], ['1980', 'Italy', ''], ['1980', 'Spain', '0'], ['1980', 'France', '0'], ['1980', 'France', '0'], ['1980', 'Guatemala', '1'], ['1980', 'United Kingdom', '0'], ['1980', 'Bolivia', ''], ['1980', 'Guatemala', '0'], ['1980', 'Spain', '1'], ['1980', 'Guatemala', ''], ['1980', 'El Salvador', '1'], ['1980', 'United Kingdom', '0'], ['1980', 'El Salvador', '0'], ['1980', 'El Salvador', '2'], ['1980', 'Philippines', '0'], ['1980', 'El Salvador', '0'], ['1980', 'Chile', ''], ['1980', 'Guatemala', ''], ['1980', 'El Salvador', ''], ['1980', 'Spain', '0'], ['1980', 'Guadeloupe', '0']]\n",
            "Simple Random Sample : [['2000', 'Philippines', '2'], ['2000', 'Colombia', '1'], ['2000', 'Iraq', '0'], ['2000', 'South Africa', '0'], ['2000', 'India', '0'], ['2000', 'Afghanistan', '0'], ['2000', 'United States', '0'], ['2000', 'India', '1'], ['2000', 'Algeria', '6'], ['2000', 'Philippines', '0'], ['2000', 'Bangladesh', ''], ['2000', 'Philippines', '2'], ['2000', 'Bangladesh', ''], ['2000', 'Angola', '1'], ['2000', 'Russia', '0'], ['2000', 'Algeria', '1'], ['2000', 'United States', '0'], ['2000', 'Algeria', '3'], ['2000', 'Kosovo', '2'], ['2000', 'Kosovo', '0'], ['2000', 'Algeria', '0'], ['2000', 'Russia', '0'], ['2000', 'United States', '0'], ['2000', 'Pakistan', '16'], ['2000', 'Turkey', '1'], ['2000', 'Namibia', '3'], ['2000', 'Yemen', '0'], ['2000', 'United Kingdom', '0'], ['2000', 'Sri Lanka', '9'], ['2000', 'Philippines', '2'], ['2000', 'Turkey', '1'], ['2000', 'France', '0'], ['2000', 'Russia', '1'], ['2000', 'Guatemala', '2'], ['2000', 'Philippines', '0'], ['2000', 'Burundi', '2'], ['2000', 'Spain', '0'], ['2000', 'United Kingdom', '0'], ['2000', 'Indonesia', '0'], ['2000', 'Philippines', '3'], ['2000', 'Bangladesh', ''], ['2000', 'Lebanon', '1'], ['2000', 'Colombia', '0'], ['2000', 'Italy', '0'], ['2000', 'Russia', '3'], ['2000', 'India', '26'], ['2000', 'India', '0'], ['2000', 'Sri Lanka', '4'], ['2000', 'Russia', '1'], ['2000', 'Armenia', '0'], ['2000', 'Colombia', '1'], ['2000', 'Spain', '0'], ['2000', 'Indonesia', '3'], ['2000', 'Namibia', '2'], ['2000', 'Spain', '0'], ['2000', 'Russia', '1'], ['2000', 'Somalia', '9'], ['2000', 'India', '3'], ['2000', 'Spain', '1'], ['2000', 'Algeria', '9'], ['2000', 'United States', '0'], ['2000', 'Greece', '0'], ['2000', 'Indonesia', '3'], ['2000', 'Colombia', ''], ['2000', 'Indonesia', '1'], ['2000', 'Colombia', '2'], ['2000', 'Kenya', '0'], ['2000', 'India', '0'], ['2000', 'Indonesia', '0'], ['2000', 'Spain', '0'], ['2000', 'Germany', '0'], ['2000', 'India', '0'], ['2000', 'Indonesia', '0'], ['2000', 'Bangladesh', '1'], ['2000', 'Lebanon', '1'], ['2000', 'Pakistan', '2'], ['2000', 'India', '0'], ['2000', 'Algeria', '1'], ['2000', 'Nicaragua', '2'], ['2000', 'Spain', '0'], ['2000', 'Philippines', '12'], ['2000', 'Philippines', '0'], ['2000', 'France', '0'], ['2000', 'West Bank and Gaza Strip', '1'], ['2000', 'Turkey', '0'], ['2000', 'Philippines', '1'], ['2000', 'Spain', '1'], ['2000', 'Kosovo', '0'], ['2000', 'Russia', '4'], ['2000', 'Ecuador', '0'], ['2000', 'India', '7'], ['2000', 'Colombia', '0'], ['2000', 'Russia', '1'], ['2000', 'Spain', '0'], ['2000', 'Pakistan', '1'], ['2000', 'Iran', '0'], ['2000', 'Russia', ''], ['2000', 'Guinea', '0'], ['2000', 'Colombia', '3'], ['2000', 'Burundi', '21']]\n"
          ]
        }
      ]
    },
    {
      "cell_type": "markdown",
      "source": [
        "                      1980  2000  \n",
        "United States\n",
        "\n",
        "not United States"
      ],
      "metadata": {
        "id": "aui49fsjnupu"
      }
    },
    {
      "cell_type": "code",
      "source": [
        "table=[[0,0],[0,0]]\n",
        "\n",
        "for i in sample_1980:\n",
        "  if i[1]=='United States':\n",
        "    table[0][0]+=1\n",
        "  else:\n",
        "    table[1][0]+=1\n",
        "\n",
        "for i in sample_2000:\n",
        "  if i[1]=='United States':\n",
        "    table[0][1]+=1\n",
        "  else:\n",
        "    table[1][1]+=1\n",
        "\n",
        "\n",
        "print(table)"
      ],
      "metadata": {
        "colab": {
          "base_uri": "https://localhost:8080/"
        },
        "outputId": "c8ac563d-1cd6-442f-ff67-a76853f7cb73",
        "id": "-ws6lbZPnupu"
      },
      "execution_count": 38,
      "outputs": [
        {
          "output_type": "stream",
          "name": "stdout",
          "text": [
            "[[1, 4], [99, 96]]\n"
          ]
        }
      ]
    },
    {
      "cell_type": "code",
      "source": [
        "row_sums = [sum(row) for row in table]\n",
        "N=sum(row_sums)\n",
        "print(N)"
      ],
      "metadata": {
        "colab": {
          "base_uri": "https://localhost:8080/"
        },
        "outputId": "418626aa-1f08-44aa-b745-491ae53f1aaf",
        "id": "PGMihIySnupu"
      },
      "execution_count": 39,
      "outputs": [
        {
          "output_type": "stream",
          "name": "stdout",
          "text": [
            "200\n"
          ]
        }
      ]
    },
    {
      "cell_type": "code",
      "source": [
        "a=table[0][0]\n",
        "b=table[0][1]\n",
        "c=table[1][0]\n",
        "d=table[1][1]"
      ],
      "metadata": {
        "id": "iXzFvoIfodA1"
      },
      "execution_count": 41,
      "outputs": []
    },
    {
      "cell_type": "code",
      "source": [
        "chi_sq_calc=(N*((a*d)-(b*c))**2)/((a+b)*(c+d)*(a+c)*(b+d))\n",
        "print(chi_sq_calc)"
      ],
      "metadata": {
        "colab": {
          "base_uri": "https://localhost:8080/"
        },
        "outputId": "229f798b-eace-4f3e-c40b-c75994ac0800",
        "id": "1Rw_ky-ynupv"
      },
      "execution_count": 44,
      "outputs": [
        {
          "output_type": "stream",
          "name": "stdout",
          "text": [
            "1.8461538461538463\n"
          ]
        }
      ]
    },
    {
      "cell_type": "markdown",
      "source": [
        "for alpha=10% and d.f=1 chi square tabulated=2.706"
      ],
      "metadata": {
        "id": "WxvttTKSnupv"
      }
    },
    {
      "cell_type": "code",
      "source": [
        "chi_sq_tab=2.706"
      ],
      "metadata": {
        "id": "D_0pM7xAnupv"
      },
      "execution_count": 45,
      "outputs": []
    },
    {
      "cell_type": "code",
      "source": [
        "if chi_sq_calc<=chi_sq_tab:\n",
        "  print(\"accept Ho , therefore the proportions are equal\")\n",
        "else:\n",
        "  print(\"reject Ho, accept H1 . therefore the proportions are not equal\")"
      ],
      "metadata": {
        "colab": {
          "base_uri": "https://localhost:8080/"
        },
        "outputId": "cb4a48ef-62f7-4baa-b460-046a40bced01",
        "id": "Wc52sPpFnupv"
      },
      "execution_count": 46,
      "outputs": [
        {
          "output_type": "stream",
          "name": "stdout",
          "text": [
            "accept Ho , therefore the proportions are equal\n"
          ]
        }
      ]
    },
    {
      "cell_type": "markdown",
      "source": [
        "----------------------------------------"
      ],
      "metadata": {
        "id": "CzzFnOYGpAEd"
      }
    },
    {
      "cell_type": "markdown",
      "source": [
        "## **2x2 contingency table - Yate's correction**"
      ],
      "metadata": {
        "id": "a6bfyisZpAEd"
      }
    },
    {
      "cell_type": "markdown",
      "source": [
        "out of 100 attacks in the year 1980,2000 are the proportion of the number of times United States was attacked same or not .\n",
        "\n",
        "alpha=10%\n",
        "\n",
        "Ho: proportions are same\n",
        "\n",
        "H1: proportions are not same"
      ],
      "metadata": {
        "id": "bWMaAx6PpAEd"
      }
    },
    {
      "cell_type": "code",
      "source": [
        "attacks_1980=[]\n",
        "attacks_2000=[]\n",
        "import csv\n",
        "\n",
        "with open('/content/drive/MyDrive/files/required_data_group_11.csv', 'r') as csvfile:\n",
        "\n",
        "    csvreader = csv.reader(csvfile)\n",
        "\n",
        "    # Iterate through rows\n",
        "    for row in csvreader:\n",
        "      row=row[0].split('\\t')\n",
        "      if row[0]=='1980':\n",
        "        attacks_1980.append(row)\n",
        "      elif row[0]=='2000':\n",
        "        attacks_2000.append(row)\n",
        "\n",
        "\n",
        "print(len(attacks_1980))\n",
        "print(len(attacks_2000))\n"
      ],
      "metadata": {
        "colab": {
          "base_uri": "https://localhost:8080/"
        },
        "outputId": "31b76918-dced-4f6a-bde1-7ae79f1b0622",
        "id": "0i--obc8pAEd"
      },
      "execution_count": 47,
      "outputs": [
        {
          "output_type": "stream",
          "name": "stdout",
          "text": [
            "2662\n",
            "1814\n"
          ]
        }
      ]
    },
    {
      "cell_type": "code",
      "source": [
        "import random\n",
        "\n",
        "# Specifing the sample size\n",
        "sample_size = 100\n",
        "\n",
        "# Performing simple random sampling\n",
        "sample_1980 = random.sample(attacks_1980, sample_size)\n",
        "\n",
        "print(\"Simple Random Sample :\", sample_1980)\n",
        "\n",
        "sample_2000 = random.sample(attacks_2000, sample_size)\n",
        "\n",
        "print(\"Simple Random Sample :\", sample_2000)\n",
        "\n",
        "\n",
        "\n"
      ],
      "metadata": {
        "colab": {
          "base_uri": "https://localhost:8080/"
        },
        "outputId": "f5d430b0-a6c2-4c93-f850-49a42e1cdcd9",
        "id": "FQUiPBlBpAEd"
      },
      "execution_count": 48,
      "outputs": [
        {
          "output_type": "stream",
          "name": "stdout",
          "text": [
            "Simple Random Sample : [['1980', 'France', '4'], ['1980', 'Guatemala', '0'], ['1980', 'Guatemala', '1'], ['1980', 'El Salvador', '9'], ['1980', 'Lebanon', '0'], ['1980', 'Peru', '0'], ['1980', 'Guatemala', '1'], ['1980', 'Spain', ''], ['1980', 'Lebanon', '8'], ['1980', 'El Salvador', ''], ['1980', 'Turkey', ''], ['1980', 'Colombia', ''], ['1980', 'Israel', '0'], ['1980', 'Guatemala', '1'], ['1980', 'Guatemala', '2'], ['1980', 'Guatemala', '4'], ['1980', 'United States', '0'], ['1980', 'France', '0'], ['1980', 'Colombia', '0'], ['1980', 'Spain', '1'], ['1980', 'El Salvador', '3'], ['1980', 'Bolivia', '2'], ['1980', 'El Salvador', '0'], ['1980', 'El Salvador', '1'], ['1980', 'Italy', '0'], ['1980', 'El Salvador', '2'], ['1980', 'Brazil', ''], ['1980', 'El Salvador', '0'], ['1980', 'Nicaragua', '1'], ['1980', 'El Salvador', '0'], ['1980', 'Nigeria', ''], ['1980', 'Colombia', '1'], ['1980', 'Lebanon', '0'], ['1980', 'South Africa', '0'], ['1980', 'Spain', '0'], ['1980', 'El Salvador', '1'], ['1980', 'Zimbabwe', '0'], ['1980', 'Chile', '0'], ['1980', 'Spain', '1'], ['1980', 'Iraq', '0'], ['1980', 'Italy', ''], ['1980', 'Turkey', '1'], ['1980', 'Zimbabwe', '4'], ['1980', 'El Salvador', ''], ['1980', 'Peru', '0'], ['1980', 'El Salvador', '0'], ['1980', 'West Bank and Gaza Strip', '2'], ['1980', 'Bolivia', '2'], ['1980', 'Colombia', '0'], ['1980', 'El Salvador', '6'], ['1980', 'El Salvador', '300'], ['1980', 'France', ''], ['1980', 'West Bank and Gaza Strip', '0'], ['1980', 'El Salvador', '25'], ['1980', 'Italy', '1'], ['1980', 'Guatemala', ''], ['1980', 'Spain', '0'], ['1980', 'West Bank and Gaza Strip', '0'], ['1980', 'Lebanon', '1'], ['1980', 'Italy', '0'], ['1980', 'Israel', '2'], ['1980', 'Bolivia', '0'], ['1980', 'Spain', '2'], ['1980', 'United States', ''], ['1980', 'Spain', '1'], ['1980', 'United States', '0'], ['1980', 'Rhodesia', '0'], ['1980', 'Colombia', '1'], ['1980', 'Spain', '0'], ['1980', 'El Salvador', '0'], ['1980', 'Guatemala', '1'], ['1980', 'Philippines', '11'], ['1980', 'Peru', '0'], ['1980', 'Panama', '0'], ['1980', 'United Kingdom', '0'], ['1980', 'Turkey', '1'], ['1980', 'El Salvador', ''], ['1980', 'Philippines', '10'], ['1980', 'El Salvador', '40'], ['1980', 'Spain', '1'], ['1980', 'El Salvador', ''], ['1980', 'Guatemala', '1'], ['1980', 'Guatemala', '0'], ['1980', 'El Salvador', '0'], ['1980', 'Guatemala', '1'], ['1980', 'Honduras', '0'], ['1980', 'United Kingdom', '1'], ['1980', 'Guatemala', '1'], ['1980', 'Honduras', '0'], ['1980', 'United Kingdom', '1'], ['1980', 'Lebanon', '0'], ['1980', 'Guatemala', '1'], ['1980', 'Nicaragua', '0'], ['1980', 'Guatemala', '1'], ['1980', 'Guatemala', '1'], ['1980', 'United Kingdom', '1'], ['1980', 'India', '6'], ['1980', 'Spain', '1'], ['1980', 'Italy', '0'], ['1980', 'Rhodesia', '']]\n",
            "Simple Random Sample : [['2000', 'South Africa', '6'], ['2000', 'Russia', '4'], ['2000', 'Japan', '0'], ['2000', 'Colombia', '3'], ['2000', 'Colombia', '11'], ['2000', 'Philippines', '4'], ['2000', 'Russia', '1'], ['2000', 'Colombia', '0'], ['2000', 'India', '1'], ['2000', 'Pakistan', '7'], ['2000', 'Algeria', '0'], ['2000', 'Namibia', '2'], ['2000', 'Spain', '0'], ['2000', 'Lebanon', '2'], ['2000', 'Philippines', '2'], ['2000', 'Kosovo', ''], ['2000', 'United Kingdom', '0'], ['2000', 'Sri Lanka', '2'], ['2000', 'Ecuador', '0'], ['2000', 'South Africa', '0'], ['2000', 'West Bank and Gaza Strip', '0'], ['2000', 'Philippines', '0'], ['2000', 'Indonesia', '0'], ['2000', 'Uganda', '4'], ['2000', 'Namibia', '2'], ['2000', 'Sri Lanka', '2'], ['2000', 'South Africa', '1'], ['2000', 'Spain', '4'], ['2000', 'Philippines', '5'], ['2000', 'Angola', '2'], ['2000', 'Iraq', ''], ['2000', 'Colombia', '0'], ['2000', 'India', '3'], ['2000', 'India', '1'], ['2000', 'India', '2'], ['2000', 'Sierra Leone', '9'], ['2000', 'Nepal', '14'], ['2000', 'Colombia', '3'], ['2000', 'Philippines', '3'], ['2000', 'Algeria', '2'], ['2000', 'Indonesia', '0'], ['2000', 'Russia', '2'], ['2000', 'Russia', '21'], ['2000', 'Saudi Arabia', '0'], ['2000', 'Spain', '0'], ['2000', 'India', '3'], ['2000', 'Algeria', '3'], ['2000', 'Nepal', '4'], ['2000', 'Algeria', '3'], ['2000', 'Turkey', '1'], ['2000', 'United States', '0'], ['2000', 'Colombia', '1'], ['2000', 'Bangladesh', ''], ['2000', 'Colombia', '0'], ['2000', 'Turkey', '0'], ['2000', 'Indonesia', '0'], ['2000', 'Indonesia', '0'], ['2000', 'Greece', '0'], ['2000', 'Sri Lanka', '1'], ['2000', 'Sri Lanka', '22'], ['2000', 'United States', '0'], ['2000', 'Philippines', '5'], ['2000', 'India', '5'], ['2000', 'India', '2'], ['2000', 'Nigeria', '0'], ['2000', 'Sierra Leone', '1'], ['2000', 'United States', '0'], ['2000', 'Algeria', '1'], ['2000', 'Russia', '3'], ['2000', 'Namibia', '0'], ['2000', 'Turkey', '2'], ['2000', 'Sierra Leone', '0'], ['2000', 'Colombia', '0'], ['2000', 'Kosovo', '0'], ['2000', 'Kyrgyzstan', '1'], ['2000', 'Fiji', '0'], ['2000', 'Philippines', '0'], ['2000', 'Spain', '0'], ['2000', 'Namibia', '0'], ['2000', 'Russia', '0'], ['2000', 'Russia', ''], ['2000', 'India', '12'], ['2000', 'Sri Lanka', '4'], ['2000', 'Colombia', '0'], ['2000', 'Croatia', '2'], ['2000', 'Spain', '0'], ['2000', 'Indonesia', '0'], ['2000', 'Spain', '0'], ['2000', 'Cyprus', '0'], ['2000', 'Algeria', '3'], ['2000', 'France', '0'], ['2000', 'Spain', '0'], ['2000', 'Philippines', '0'], ['2000', 'Indonesia', '2'], ['2000', 'China', '0'], ['2000', 'Italy', '0'], ['2000', 'Haiti', '0'], ['2000', 'France', '0'], ['2000', 'Russia', '0'], ['2000', 'South Africa', '3']]\n"
          ]
        }
      ]
    },
    {
      "cell_type": "markdown",
      "source": [
        "                      1980  2000  \n",
        "United States\n",
        "\n",
        "not United States"
      ],
      "metadata": {
        "id": "OzDXYuMHpAEe"
      }
    },
    {
      "cell_type": "code",
      "source": [
        "table=[[0,0],[0,0]]\n",
        "\n",
        "for i in sample_1980:\n",
        "  if i[1]=='United States':\n",
        "    table[0][0]+=1\n",
        "  else:\n",
        "    table[1][0]+=1\n",
        "\n",
        "for i in sample_2000:\n",
        "  if i[1]=='United States':\n",
        "    table[0][1]+=1\n",
        "  else:\n",
        "    table[1][1]+=1\n",
        "\n",
        "\n",
        "print(table)"
      ],
      "metadata": {
        "colab": {
          "base_uri": "https://localhost:8080/"
        },
        "outputId": "9428cd68-cac1-4c46-d91c-b7e19323a1f1",
        "id": "kog3eDPRpAEe"
      },
      "execution_count": 49,
      "outputs": [
        {
          "output_type": "stream",
          "name": "stdout",
          "text": [
            "[[3, 3], [97, 97]]\n"
          ]
        }
      ]
    },
    {
      "cell_type": "code",
      "source": [
        "row_sums = [sum(row) for row in table]\n",
        "N=sum(row_sums)\n",
        "print(N)"
      ],
      "metadata": {
        "colab": {
          "base_uri": "https://localhost:8080/"
        },
        "outputId": "f0fa3bdb-8903-4e05-fb14-96fab6822c8c",
        "id": "kKos9BpPpAEe"
      },
      "execution_count": 50,
      "outputs": [
        {
          "output_type": "stream",
          "name": "stdout",
          "text": [
            "200\n"
          ]
        }
      ]
    },
    {
      "cell_type": "code",
      "source": [
        "a=table[0][0]\n",
        "b=table[0][1]\n",
        "c=table[1][0]\n",
        "d=table[1][1]"
      ],
      "metadata": {
        "id": "kLrnEVtTpAEe"
      },
      "execution_count": 51,
      "outputs": []
    },
    {
      "cell_type": "code",
      "source": [
        "chi_sq_calc=(N*((abs((a*d)-(b*c))-N/2)**2))/((a+b)*(c+d)*(a+c)*(b+d))\n",
        "print(chi_sq_calc)"
      ],
      "metadata": {
        "colab": {
          "base_uri": "https://localhost:8080/"
        },
        "outputId": "30344242-7585-4b15-f79a-2cb85bbf6537",
        "id": "tB-PJBDfpAEe"
      },
      "execution_count": 53,
      "outputs": [
        {
          "output_type": "stream",
          "name": "stdout",
          "text": [
            "0.1718213058419244\n"
          ]
        }
      ]
    },
    {
      "cell_type": "markdown",
      "source": [
        "for alpha=10% and d.f=1 chi square tabulated=2.706"
      ],
      "metadata": {
        "id": "-r02QWT7pAEe"
      }
    },
    {
      "cell_type": "code",
      "source": [
        "chi_sq_tab=2.706"
      ],
      "metadata": {
        "id": "eHlcOdE4pAEe"
      },
      "execution_count": 54,
      "outputs": []
    },
    {
      "cell_type": "code",
      "source": [
        "if chi_sq_calc<=chi_sq_tab:\n",
        "  print(\"accept Ho , therefore the proportions are equal\")\n",
        "else:\n",
        "  print(\"reject Ho, accept H1 . therefore the proportions are not equal\")"
      ],
      "metadata": {
        "colab": {
          "base_uri": "https://localhost:8080/"
        },
        "outputId": "38798ea3-9e2f-4d83-e3b4-5e2db2f460d1",
        "id": "z6e097M5pAEe"
      },
      "execution_count": 55,
      "outputs": [
        {
          "output_type": "stream",
          "name": "stdout",
          "text": [
            "accept Ho , therefore the proportions are equal\n"
          ]
        }
      ]
    }
  ]
}