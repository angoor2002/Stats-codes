{
 "cells": [
  {
   "cell_type": "code",
   "execution_count": 132,
   "metadata": {},
   "outputs": [
    {
     "data": {
      "text/html": [
       "<div>\n",
       "<style scoped>\n",
       "    .dataframe tbody tr th:only-of-type {\n",
       "        vertical-align: middle;\n",
       "    }\n",
       "\n",
       "    .dataframe tbody tr th {\n",
       "        vertical-align: top;\n",
       "    }\n",
       "\n",
       "    .dataframe thead th {\n",
       "        text-align: right;\n",
       "    }\n",
       "</style>\n",
       "<table border=\"1\" class=\"dataframe\">\n",
       "  <thead>\n",
       "    <tr style=\"text-align: right;\">\n",
       "      <th></th>\n",
       "      <th>HDI rank</th>\n",
       "      <th>Country</th>\n",
       "      <th>1990</th>\n",
       "      <th>Unnamed: 3</th>\n",
       "      <th>2000</th>\n",
       "      <th>Unnamed: 5</th>\n",
       "      <th>2010</th>\n",
       "      <th>Unnamed: 7</th>\n",
       "      <th>2015</th>\n",
       "      <th>Unnamed: 9</th>\n",
       "      <th>...</th>\n",
       "      <th>Unnamed: 17</th>\n",
       "      <th>2015-2021</th>\n",
       "      <th>a</th>\n",
       "      <th>1990-2000</th>\n",
       "      <th>Unnamed: 21</th>\n",
       "      <th>2000-2010</th>\n",
       "      <th>Unnamed: 23</th>\n",
       "      <th>2010-2021</th>\n",
       "      <th>Unnamed: 25</th>\n",
       "      <th>1990-2021</th>\n",
       "    </tr>\n",
       "  </thead>\n",
       "  <tbody>\n",
       "    <tr>\n",
       "      <th>0</th>\n",
       "      <td>1.0</td>\n",
       "      <td>Switzerland</td>\n",
       "      <td>0.851</td>\n",
       "      <td>NaN</td>\n",
       "      <td>0.887</td>\n",
       "      <td>NaN</td>\n",
       "      <td>0.942</td>\n",
       "      <td>NaN</td>\n",
       "      <td>0.954</td>\n",
       "      <td>NaN</td>\n",
       "      <td>...</td>\n",
       "      <td>NaN</td>\n",
       "      <td>0</td>\n",
       "      <td>NaN</td>\n",
       "      <td>0.415188</td>\n",
       "      <td>NaN</td>\n",
       "      <td>0.603416</td>\n",
       "      <td>NaN</td>\n",
       "      <td>0.191175</td>\n",
       "      <td>NaN</td>\n",
       "      <td>0.396274</td>\n",
       "    </tr>\n",
       "    <tr>\n",
       "      <th>1</th>\n",
       "      <td>2.0</td>\n",
       "      <td>Norway</td>\n",
       "      <td>0.838</td>\n",
       "      <td>NaN</td>\n",
       "      <td>0.913</td>\n",
       "      <td>NaN</td>\n",
       "      <td>0.941</td>\n",
       "      <td>NaN</td>\n",
       "      <td>0.953</td>\n",
       "      <td>NaN</td>\n",
       "      <td>...</td>\n",
       "      <td>NaN</td>\n",
       "      <td>0</td>\n",
       "      <td>NaN</td>\n",
       "      <td>0.860862</td>\n",
       "      <td>NaN</td>\n",
       "      <td>0.302529</td>\n",
       "      <td>NaN</td>\n",
       "      <td>0.191376</td>\n",
       "      <td>NaN</td>\n",
       "      <td>0.442772</td>\n",
       "    </tr>\n",
       "    <tr>\n",
       "      <th>2</th>\n",
       "      <td>3.0</td>\n",
       "      <td>Iceland</td>\n",
       "      <td>0.811</td>\n",
       "      <td>NaN</td>\n",
       "      <td>0.871</td>\n",
       "      <td>NaN</td>\n",
       "      <td>0.902</td>\n",
       "      <td>NaN</td>\n",
       "      <td>0.945</td>\n",
       "      <td>NaN</td>\n",
       "      <td>...</td>\n",
       "      <td>NaN</td>\n",
       "      <td>0</td>\n",
       "      <td>NaN</td>\n",
       "      <td>0.716292</td>\n",
       "      <td>NaN</td>\n",
       "      <td>0.350338</td>\n",
       "      <td>NaN</td>\n",
       "      <td>0.558614</td>\n",
       "      <td>NaN</td>\n",
       "      <td>0.542184</td>\n",
       "    </tr>\n",
       "    <tr>\n",
       "      <th>3</th>\n",
       "      <td>4.0</td>\n",
       "      <td>Hong Kong, China (SAR)</td>\n",
       "      <td>0.788</td>\n",
       "      <td>NaN</td>\n",
       "      <td>0.851</td>\n",
       "      <td>NaN</td>\n",
       "      <td>0.907</td>\n",
       "      <td>NaN</td>\n",
       "      <td>0.935</td>\n",
       "      <td>NaN</td>\n",
       "      <td>...</td>\n",
       "      <td>NaN</td>\n",
       "      <td>3</td>\n",
       "      <td>NaN</td>\n",
       "      <td>0.772106</td>\n",
       "      <td>NaN</td>\n",
       "      <td>0.639338</td>\n",
       "      <td>NaN</td>\n",
       "      <td>0.441176</td>\n",
       "      <td>NaN</td>\n",
       "      <td>0.611757</td>\n",
       "    </tr>\n",
       "    <tr>\n",
       "      <th>4</th>\n",
       "      <td>5.0</td>\n",
       "      <td>Australia</td>\n",
       "      <td>0.865</td>\n",
       "      <td>NaN</td>\n",
       "      <td>0.896</td>\n",
       "      <td>NaN</td>\n",
       "      <td>0.923</td>\n",
       "      <td>NaN</td>\n",
       "      <td>0.933</td>\n",
       "      <td>NaN</td>\n",
       "      <td>...</td>\n",
       "      <td>NaN</td>\n",
       "      <td>3</td>\n",
       "      <td>NaN</td>\n",
       "      <td>0.35273</td>\n",
       "      <td>NaN</td>\n",
       "      <td>0.297329</td>\n",
       "      <td>NaN</td>\n",
       "      <td>0.27205</td>\n",
       "      <td>NaN</td>\n",
       "      <td>0.306225</td>\n",
       "    </tr>\n",
       "    <tr>\n",
       "      <th>5</th>\n",
       "      <td>6.0</td>\n",
       "      <td>Denmark</td>\n",
       "      <td>0.834</td>\n",
       "      <td>NaN</td>\n",
       "      <td>0.889</td>\n",
       "      <td>NaN</td>\n",
       "      <td>0.913</td>\n",
       "      <td>NaN</td>\n",
       "      <td>0.936</td>\n",
       "      <td>NaN</td>\n",
       "      <td>...</td>\n",
       "      <td>NaN</td>\n",
       "      <td>0</td>\n",
       "      <td>NaN</td>\n",
       "      <td>0.640682</td>\n",
       "      <td>NaN</td>\n",
       "      <td>0.266742</td>\n",
       "      <td>NaN</td>\n",
       "      <td>0.342573</td>\n",
       "      <td>NaN</td>\n",
       "      <td>0.414149</td>\n",
       "    </tr>\n",
       "    <tr>\n",
       "      <th>6</th>\n",
       "      <td>7.0</td>\n",
       "      <td>Sweden</td>\n",
       "      <td>0.81</td>\n",
       "      <td>NaN</td>\n",
       "      <td>0.904</td>\n",
       "      <td>NaN</td>\n",
       "      <td>0.91</td>\n",
       "      <td>NaN</td>\n",
       "      <td>0.937</td>\n",
       "      <td>NaN</td>\n",
       "      <td>...</td>\n",
       "      <td>NaN</td>\n",
       "      <td>-2</td>\n",
       "      <td>NaN</td>\n",
       "      <td>1.104001</td>\n",
       "      <td>NaN</td>\n",
       "      <td>0.066174</td>\n",
       "      <td>NaN</td>\n",
       "      <td>0.362971</td>\n",
       "      <td>NaN</td>\n",
       "      <td>0.505353</td>\n",
       "    </tr>\n",
       "    <tr>\n",
       "      <th>7</th>\n",
       "      <td>8.0</td>\n",
       "      <td>Ireland</td>\n",
       "      <td>0.737</td>\n",
       "      <td>NaN</td>\n",
       "      <td>0.847</td>\n",
       "      <td>NaN</td>\n",
       "      <td>0.904</td>\n",
       "      <td>NaN</td>\n",
       "      <td>0.925</td>\n",
       "      <td>NaN</td>\n",
       "      <td>...</td>\n",
       "      <td>NaN</td>\n",
       "      <td>6</td>\n",
       "      <td>NaN</td>\n",
       "      <td>1.400849</td>\n",
       "      <td>NaN</td>\n",
       "      <td>0.653412</td>\n",
       "      <td>NaN</td>\n",
       "      <td>0.404047</td>\n",
       "      <td>NaN</td>\n",
       "      <td>0.80515</td>\n",
       "    </tr>\n",
       "    <tr>\n",
       "      <th>8</th>\n",
       "      <td>9.0</td>\n",
       "      <td>Germany</td>\n",
       "      <td>0.829</td>\n",
       "      <td>NaN</td>\n",
       "      <td>0.889</td>\n",
       "      <td>NaN</td>\n",
       "      <td>0.926</td>\n",
       "      <td>NaN</td>\n",
       "      <td>0.938</td>\n",
       "      <td>NaN</td>\n",
       "      <td>...</td>\n",
       "      <td>NaN</td>\n",
       "      <td>-5</td>\n",
       "      <td>NaN</td>\n",
       "      <td>0.701218</td>\n",
       "      <td>NaN</td>\n",
       "      <td>0.408603</td>\n",
       "      <td>NaN</td>\n",
       "      <td>0.155858</td>\n",
       "      <td>NaN</td>\n",
       "      <td>0.413061</td>\n",
       "    </tr>\n",
       "    <tr>\n",
       "      <th>9</th>\n",
       "      <td>10.0</td>\n",
       "      <td>Netherlands</td>\n",
       "      <td>0.847</td>\n",
       "      <td>NaN</td>\n",
       "      <td>0.893</td>\n",
       "      <td>NaN</td>\n",
       "      <td>0.917</td>\n",
       "      <td>NaN</td>\n",
       "      <td>0.932</td>\n",
       "      <td>NaN</td>\n",
       "      <td>...</td>\n",
       "      <td>NaN</td>\n",
       "      <td>-1</td>\n",
       "      <td>NaN</td>\n",
       "      <td>0.53026</td>\n",
       "      <td>NaN</td>\n",
       "      <td>0.265561</td>\n",
       "      <td>NaN</td>\n",
       "      <td>0.235146</td>\n",
       "      <td>NaN</td>\n",
       "      <td>0.340069</td>\n",
       "    </tr>\n",
       "  </tbody>\n",
       "</table>\n",
       "<p>10 rows × 27 columns</p>\n",
       "</div>"
      ],
      "text/plain": [
       "   HDI rank                 Country   1990 Unnamed: 3   2000  Unnamed: 5  \\\n",
       "0       1.0             Switzerland  0.851        NaN  0.887         NaN   \n",
       "1       2.0                  Norway  0.838        NaN  0.913         NaN   \n",
       "2       3.0                 Iceland  0.811        NaN  0.871         NaN   \n",
       "3       4.0  Hong Kong, China (SAR)  0.788        NaN  0.851         NaN   \n",
       "4       5.0               Australia  0.865        NaN  0.896         NaN   \n",
       "5       6.0                 Denmark  0.834        NaN  0.889         NaN   \n",
       "6       7.0                  Sweden   0.81        NaN  0.904         NaN   \n",
       "7       8.0                 Ireland  0.737        NaN  0.847         NaN   \n",
       "8       9.0                 Germany  0.829        NaN  0.889         NaN   \n",
       "9      10.0             Netherlands  0.847        NaN  0.893         NaN   \n",
       "\n",
       "    2010  Unnamed: 7   2015  Unnamed: 9  ... Unnamed: 17  2015-2021   a  \\\n",
       "0  0.942         NaN  0.954         NaN  ...         NaN          0 NaN   \n",
       "1  0.941         NaN  0.953         NaN  ...         NaN          0 NaN   \n",
       "2  0.902         NaN  0.945         NaN  ...         NaN          0 NaN   \n",
       "3  0.907         NaN  0.935         NaN  ...         NaN          3 NaN   \n",
       "4  0.923         NaN  0.933         NaN  ...         NaN          3 NaN   \n",
       "5  0.913         NaN  0.936         NaN  ...         NaN          0 NaN   \n",
       "6   0.91         NaN  0.937         NaN  ...         NaN         -2 NaN   \n",
       "7  0.904         NaN  0.925         NaN  ...         NaN          6 NaN   \n",
       "8  0.926         NaN  0.938         NaN  ...         NaN         -5 NaN   \n",
       "9  0.917         NaN  0.932         NaN  ...         NaN         -1 NaN   \n",
       "\n",
       "   1990-2000 Unnamed: 21  2000-2010 Unnamed: 23  2010-2021 Unnamed: 25  \\\n",
       "0   0.415188         NaN   0.603416         NaN   0.191175         NaN   \n",
       "1   0.860862         NaN   0.302529         NaN   0.191376         NaN   \n",
       "2   0.716292         NaN   0.350338         NaN   0.558614         NaN   \n",
       "3   0.772106         NaN   0.639338         NaN   0.441176         NaN   \n",
       "4    0.35273         NaN   0.297329         NaN    0.27205         NaN   \n",
       "5   0.640682         NaN   0.266742         NaN   0.342573         NaN   \n",
       "6   1.104001         NaN   0.066174         NaN   0.362971         NaN   \n",
       "7   1.400849         NaN   0.653412         NaN   0.404047         NaN   \n",
       "8   0.701218         NaN   0.408603         NaN   0.155858         NaN   \n",
       "9    0.53026         NaN   0.265561         NaN   0.235146         NaN   \n",
       "\n",
       "   1990-2021  \n",
       "0   0.396274  \n",
       "1   0.442772  \n",
       "2   0.542184  \n",
       "3   0.611757  \n",
       "4   0.306225  \n",
       "5   0.414149  \n",
       "6   0.505353  \n",
       "7    0.80515  \n",
       "8   0.413061  \n",
       "9   0.340069  \n",
       "\n",
       "[10 rows x 27 columns]"
      ]
     },
     "execution_count": 132,
     "metadata": {},
     "output_type": "execute_result"
    }
   ],
   "source": [
    "import pandas as pd\n",
    "import numpy as np\n",
    "\n",
    "df=pd.read_excel(\"HDR21-22_Statistical_Annex_HDI_Trends_Table.xlsx\")\n",
    "\n",
    "df.head(10)"
   ]
  },
  {
   "cell_type": "markdown",
   "metadata": {},
   "source": [
    "## **GOODNESS OF FIT TEST**"
   ]
  },
  {
   "cell_type": "code",
   "execution_count": 133,
   "metadata": {},
   "outputs": [
    {
     "name": "stdout",
     "output_type": "stream",
     "text": [
      "['Switzerland' '1990' '0.851']\n",
      "['Switzerland' '2000' '0.887']\n",
      "['Switzerland' '2010' '0.942']\n",
      "['Switzerland' '2015' '0.954']\n",
      "['Switzerland' '2018' '0.959']\n",
      "['Switzerland' '2019' '0.962']\n",
      "['Switzerland' '2020' '0.956']\n",
      "['Switzerland' '2021' '0.962']\n",
      "['Norway' '1990' '0.838']\n",
      "['Norway' '2000' '0.913']\n",
      "['Norway' '2010' '0.941']\n",
      "['Norway' '2015' '0.953']\n",
      "['Norway' '2018' '0.962']\n",
      "['Norway' '2019' '0.961']\n",
      "['Norway' '2020' '0.959']\n",
      "['Norway' '2021' '0.961']\n",
      "['Iceland' '1990' '0.811']\n",
      "['Iceland' '2000' '0.871']\n",
      "['Iceland' '2010' '0.902']\n",
      "['Iceland' '2015' '0.945']\n",
      "['Iceland' '2018' '0.959']\n",
      "['Iceland' '2019' '0.96']\n",
      "['Iceland' '2020' '0.957']\n",
      "['Iceland' '2021' '0.959']\n",
      "['Hong Kong, China (SAR)' '1990' '0.788']\n",
      "['Hong Kong, China (SAR)' '2000' '0.851']\n",
      "['Hong Kong, China (SAR)' '2010' '0.907']\n",
      "['Hong Kong, China (SAR)' '2015' '0.935']\n",
      "['Hong Kong, China (SAR)' '2018' '0.949']\n",
      "['Hong Kong, China (SAR)' '2019' '0.952']\n",
      "['Hong Kong, China (SAR)' '2020' '0.949']\n",
      "['Hong Kong, China (SAR)' '2021' '0.952']\n",
      "['Australia' '1990' '0.865']\n",
      "['Australia' '2000' '0.896']\n",
      "['Australia' '2010' '0.923']\n",
      "['Australia' '2015' '0.933']\n",
      "['Australia' '2018' '0.941']\n",
      "['Australia' '2019' '0.941']\n",
      "['Australia' '2020' '0.947']\n",
      "['Australia' '2021' '0.951']\n",
      "['Denmark' '1990' '0.834']\n",
      "['Denmark' '2000' '0.889']\n",
      "['Denmark' '2010' '0.913']\n",
      "['Denmark' '2015' '0.936']\n",
      "['Denmark' '2018' '0.942']\n",
      "['Denmark' '2019' '0.946']\n",
      "['Denmark' '2020' '0.947']\n",
      "['Denmark' '2021' '0.948']\n",
      "['Sweden' '1990' '0.81']\n",
      "['Sweden' '2000' '0.904']\n",
      "['Sweden' '2010' '0.91']\n",
      "['Sweden' '2015' '0.937']\n",
      "['Sweden' '2018' '0.942']\n",
      "['Sweden' '2019' '0.947']\n",
      "['Sweden' '2020' '0.942']\n",
      "['Sweden' '2021' '0.947']\n",
      "['Ireland' '1990' '0.737']\n",
      "['Ireland' '2000' '0.847']\n",
      "['Ireland' '2010' '0.904']\n",
      "['Ireland' '2015' '0.925']\n",
      "['Ireland' '2018' '0.937']\n",
      "['Ireland' '2019' '0.942']\n",
      "['Ireland' '2020' '0.943']\n",
      "['Ireland' '2021' '0.945']\n",
      "['Germany' '1990' '0.829']\n",
      "['Germany' '2000' '0.889']\n",
      "['Germany' '2010' '0.926']\n",
      "['Germany' '2015' '0.938']\n",
      "['Germany' '2018' '0.945']\n",
      "['Germany' '2019' '0.948']\n",
      "['Germany' '2020' '0.944']\n",
      "['Germany' '2021' '0.942']\n",
      "['Netherlands' '1990' '0.847']\n",
      "['Netherlands' '2000' '0.893']\n",
      "['Netherlands' '2010' '0.917']\n",
      "['Netherlands' '2015' '0.932']\n",
      "['Netherlands' '2018' '0.939']\n",
      "['Netherlands' '2019' '0.943']\n",
      "['Netherlands' '2020' '0.939']\n",
      "['Netherlands' '2021' '0.941']\n",
      "['Finland' '1990' '0.814']\n",
      "['Finland' '2000' '0.891']\n",
      "['Finland' '2010' '0.911']\n",
      "['Finland' '2015' '0.93']\n",
      "['Finland' '2018' '0.936']\n",
      "['Finland' '2019' '0.939']\n",
      "['Finland' '2020' '0.938']\n",
      "['Finland' '2021' '0.94']\n",
      "['Singapore' '1990' '0.727']\n",
      "['Singapore' '2000' '0.831']\n",
      "['Singapore' '2010' '0.91']\n",
      "['Singapore' '2015' '0.93']\n",
      "['Singapore' '2018' '0.94']\n",
      "['Singapore' '2019' '0.943']\n",
      "['Singapore' '2020' '0.939']\n",
      "['Singapore' '2021' '0.939']\n",
      "['Belgium' '1990' '0.816']\n",
      "['Belgium' '2000' '0.887']\n",
      "['Belgium' '2010' '0.912']\n",
      "['Belgium' '2015' '0.924']\n"
     ]
    }
   ],
   "source": [
    "arr=[]\n",
    "num_rows = 196\n",
    "df = df.iloc[:num_rows]\n",
    "for index, row in df.iterrows():\n",
    "    country = row['Country']\n",
    "    for col in df.columns[2:17]:\n",
    "        if(pd.notnull(row[col])):\n",
    "            entry = [country, col, row[col]]  # Creating an array with row_name, column_name, and value\n",
    "            arr.append(entry)  # Appending the array to the list\n",
    "\n",
    "arr_2d = np.array(arr)\n",
    "\n",
    "# Printing the resulting 2D array\n",
    "for i in range(100):\n",
    "    print(arr_2d[i])"
   ]
  },
  {
   "cell_type": "code",
   "execution_count": 134,
   "metadata": {},
   "outputs": [
    {
     "name": "stdout",
     "output_type": "stream",
     "text": [
      "Simple Random Sample : [['Senegal', '2021', '0.511'], ['Mali', '2020', '0.427'], ['China', '2018', '0.755'], ['Mauritius', '2019', '0.817'], ['Niger', '2020', '0.401'], ['Bahamas', '1990', '..'], ['Cambodia', '2000', '0.425'], ['Slovenia', '2015', '0.903'], ['Australia', '1990', '0.865'], ['Lesotho', '1990', '0.479'], ['Madagascar', '2018', '0.507'], ['Montenegro', '1990', '..'], ['Morocco', '2010', '0.603'], ['Guatemala', '2000', '0.55'], ['Ecuador', '1990', '0.651'], ['Lithuania', '2021', '0.875'], ['Tajikistan', '2010', '0.636'], ['El Salvador', '1990', '0.525'], ['Denmark', '2010', '0.913'], ['Timor-Leste', '2021', '0.607'], ['Indonesia', '2020', '0.709'], ['Kyrgyzstan', '1990', '0.638'], ['Marshall Islands', '2021', '0.639'], ['Grenada', '2018', '0.797'], ['Nicaragua', '2020', '0.654'], ['Haiti', '2018', '0.541'], ['Suriname', '1990', '..'], [\"Lao People's Democratic Republic\", '2000', '0.47'], ['India', '1990', '0.434'], ['Spain', '2019', '0.908'], ['Micronesia (Federated States of)', '2000', '0.572'], ['Slovenia', '2000', '0.821'], ['Tuvalu', '2000', '0.597'], ['Burkina Faso', '2015', '0.418'], ['France', '2000', '0.844'], ['Hong Kong, China (SAR)', '2015', '0.935'], ['Mongolia', '1990', '0.579'], ['Cabo Verde', '2000', '0.569'], ['Türkiye', '2020', '0.833'], ['Saudi Arabia', '2018', '0.865'], ['Jordan', '2019', '0.727'], ['Luxembourg', '2021', '0.93'], ['Tanzania (United Republic of)', '2020', '0.548'], ['Tanzania (United Republic of)', '2000', '0.398'], ['Jamaica', '2019', '0.719'], ['Guinea', '2019', '0.467'], ['Tanzania (United Republic of)', '2021', '0.549'], ['Haiti', '2021', '0.535'], ['Solomon Islands', '2020', '0.565'], ['China', '2020', '0.764'], ['Haiti', '2010', '0.433'], ['Saint Kitts and Nevis', '2000', '..'], ['United States', '2000', '0.891'], ['Denmark', '2019', '0.946'], ['Mozambique', '2015', '0.44'], ['Kiribati', '2000', '0.549'], ['Burundi', '2021', '0.426'], ['Ghana', '2019', '0.631'], ['China', '2000', '0.584'], ['Panama', '1990', '0.669'], ['Estonia', '2010', '0.861'], ['South Africa', '1990', '0.632'], ['Indonesia', '1990', '0.526'], ['Togo', '2010', '0.477'], ['Myanmar', '2010', '0.51'], ['Syrian Arab Republic', '2020', '0.577'], ['Uganda', '2000', '0.394'], ['Bolivia (Plurinational State of)', '2019', '0.717'], ['Equatorial Guinea', '2018', '0.601'], ['Mauritania', '2010', '0.51'], ['Serbia', '2020', '0.804'], ['Argentina', '2010', '0.834'], ['Croatia', '2020', '0.855'], ['Guatemala', '2020', '0.635'], ['Japan', '2019', '0.924'], ['Bhutan', '2021', '0.666'], ['Philippines', '2015', '0.698'], ['Ireland', '2020', '0.943'], ['Madagascar', '2000', '0.443'], ['Estonia', '2000', '0.787'], ['Cyprus', '2018', '0.892'], ['Panama', '2021', '0.805'], ['Pakistan', '2000', '0.441'], ['Brunei Darussalam', '2018', '0.83'], ['Jordan', '2000', '0.678'], ['Albania', '2020', '0.794'], ['Ireland', '2018', '0.937'], ['Timor-Leste', '2019', '0.614'], ['Guinea', '2010', '0.415'], ['Slovakia', '2020', '0.857'], ['Uzbekistan', '2020', '0.721'], ['Sweden', '2020', '0.942'], ['Niger', '2015', '0.376'], ['Finland', '2019', '0.939'], ['Mauritius', '2020', '0.804'], ['Samoa', '2015', '0.716'], ['Rwanda', '2021', '0.534'], ['New Zealand', '2020', '0.936'], ['Malawi', '2015', '0.491'], ['Ethiopia', '1990', '..']]\n"
     ]
    }
   ],
   "source": [
    "import random\n",
    "\n",
    "# Specifing the sample size\n",
    "sample_size = 100\n",
    "\n",
    "# Performing simple random sampling\n",
    "sample = random.sample(arr_2d.tolist(), sample_size)\n",
    "\n",
    "print(\"Simple Random Sample :\", sample)\n"
   ]
  },
  {
   "cell_type": "code",
   "execution_count": 135,
   "metadata": {},
   "outputs": [
    {
     "name": "stdout",
     "output_type": "stream",
     "text": [
      "{'2021': 11, '2020': 19, '2018': 9, '2019': 11, '1990': 14, '2000': 18, '2015': 8, '2010': 10}\n"
     ]
    }
   ],
   "source": [
    "years={}\n",
    "for i in sample:\n",
    "  if i[1] not in years:\n",
    "    years[i[1]]=1\n",
    "  else:\n",
    "    years[i[1]]+=1\n",
    "\n",
    "print(years)\n",
    "\n"
   ]
  },
  {
   "cell_type": "code",
   "execution_count": 136,
   "metadata": {},
   "outputs": [
    {
     "name": "stdout",
     "output_type": "stream",
     "text": [
      "8\n"
     ]
    }
   ],
   "source": [
    "print(len(years))"
   ]
  },
  {
   "cell_type": "markdown",
   "metadata": {},
   "source": [
    "## using the above years for the goodness of fit tests"
   ]
  },
  {
   "cell_type": "code",
   "execution_count": 137,
   "metadata": {},
   "outputs": [
    {
     "name": "stdout",
     "output_type": "stream",
     "text": [
      "12\n"
     ]
    }
   ],
   "source": [
    "expected_value=100/len(years)\n",
    "print(round(expected_value))"
   ]
  },
  {
   "cell_type": "code",
   "execution_count": 138,
   "metadata": {},
   "outputs": [
    {
     "name": "stdout",
     "output_type": "stream",
     "text": [
      "9.44\n"
     ]
    }
   ],
   "source": [
    "chi_sq=0\n",
    "for i in years:\n",
    "  chi_sq+=((years[i]-expected_value)**2)/expected_value\n",
    "\n",
    "print(chi_sq)"
   ]
  },
  {
   "cell_type": "markdown",
   "metadata": {},
   "source": [
    "chi_square tabulated for number of degrees of freedom = 36-1 =35 at alpha = 5% is 14.067"
   ]
  },
  {
   "cell_type": "code",
   "execution_count": 139,
   "metadata": {},
   "outputs": [],
   "source": [
    "chi_sq_tab=14.067"
   ]
  },
  {
   "cell_type": "code",
   "execution_count": 140,
   "metadata": {},
   "outputs": [
    {
     "name": "stdout",
     "output_type": "stream",
     "text": [
      "Accept H0 , therefore it is good fit\n"
     ]
    }
   ],
   "source": [
    "if chi_sq<=chi_sq_tab:\n",
    "  print(\"Accept H0 , therefore it is good fit\")\n",
    "else:\n",
    "  print(\"Reject Ho , Accept H1 . therefore not a good fit\")"
   ]
  },
  {
   "cell_type": "markdown",
   "metadata": {},
   "source": [
    "# **Chi-square test for independence**"
   ]
  },
  {
   "cell_type": "code",
   "execution_count": 156,
   "metadata": {},
   "outputs": [
    {
     "name": "stdout",
     "output_type": "stream",
     "text": [
      "Year\t\tIndia\tGermany\tSouth Africa\n",
      "2019\t\t0.645\t0.948\t0.736\n",
      "2020\t\t0.642\t0.944\t0.727\n",
      "2021\t\t0.633\t0.942\t0.713\n"
     ]
    }
   ],
   "source": [
    "import pandas as pd\n",
    "\n",
    "# Specify the years and countries you are interested in\n",
    "years_of_interest = [2019, 2020, 2021]\n",
    "countries_of_interest = ['India', 'Germany', 'South Africa']\n",
    "\n",
    "# Filter the DataFrame based on the specified years and countries\n",
    "filtered_df = df[df['Country'].isin(countries_of_interest)][[\n",
    "    'Country'] + years_of_interest]\n",
    "\n",
    "# Print the header row with years and countries\n",
    "print(\"Year\", end='\\t')\n",
    "for country in countries_of_interest:\n",
    "    print(f\"\\t{country}\", end='')\n",
    "print()\n",
    "arr_3d=[]\n",
    "# Print the data for the specified years and countries\n",
    "for year in years_of_interest:\n",
    "    print(year, end='\\t')\n",
    "    entry=[]\n",
    "    for country in countries_of_interest:\n",
    "        value = filtered_df[filtered_df['Country'] == country][year].values[0]\n",
    "        entry.append(value)\n",
    "        print(f\"\\t{value:.3f}\", end='')\n",
    "    arr_3d.append(entry)\n",
    "    print()"
   ]
  },
  {
   "cell_type": "code",
   "execution_count": 157,
   "metadata": {},
   "outputs": [
    {
     "data": {
      "text/plain": [
       "[[0.645, 0.948, 0.736], [0.642, 0.944, 0.727], [0.633, 0.942, 0.713]]"
      ]
     },
     "execution_count": 157,
     "metadata": {},
     "output_type": "execute_result"
    }
   ],
   "source": [
    "arr_3d"
   ]
  },
  {
   "cell_type": "code",
   "execution_count": 143,
   "metadata": {},
   "outputs": [
    {
     "name": "stdout",
     "output_type": "stream",
     "text": [
      "Original Data Array:\n",
      "[[0.645 0.948 0.736 2.329]\n",
      " [0.642 0.944 0.727 2.313]\n",
      " [0.633 0.942 0.713 2.288]\n",
      " [1.92  2.834 2.176 6.93 ]]\n",
      "\n",
      "e Array:\n",
      "[[0.64526407 0.95243665 0.73129928]\n",
      " [0.64083117 0.94589351 0.72627532]\n",
      " [0.63390476 0.93566984 0.7184254 ]]\n"
     ]
    }
   ],
   "source": [
    "import pandas as pd\n",
    "import numpy as np\n",
    "\n",
    "# Create a 3 by 3 array to store the data\n",
    "data_array = []\n",
    "\n",
    "# Populate the array with the selected data and calculate row and column sums\n",
    "for year in years_of_interest:\n",
    "    row_data = []\n",
    "    for country in countries_of_interest:\n",
    "        value = filtered_df[filtered_df['Country'] == country][year].values[0]\n",
    "        row_data.append(value)\n",
    "    row_sum = sum(row_data)\n",
    "    row_data.append(row_sum)  # Append row sum to the row\n",
    "    data_array.append(row_data)\n",
    "\n",
    "# Calculate column sums and append them as the last row\n",
    "column_sums = np.sum(data_array, axis=0)\n",
    "data_array.append(list(column_sums))\n",
    "\n",
    "# Convert the nested list to a NumPy array\n",
    "data_array = np.array(data_array)\n",
    "\n",
    "# Calculate the e values based on the specified formula\n",
    "e_array = np.zeros((3, 3))\n",
    "for i in range(3):\n",
    "    for j in range(3):\n",
    "        e_array[i, j] = (data_array[i, -1] * data_array[-1, j]\n",
    "                         ) / data_array[-1, -1]\n",
    "\n",
    "# Print the arrays\n",
    "print(\"Original Data Array:\")\n",
    "print(data_array)\n",
    "print(\"\\ne Array:\")\n",
    "print(e_array)"
   ]
  },
  {
   "cell_type": "code",
   "execution_count": 144,
   "metadata": {},
   "outputs": [
    {
     "data": {
      "text/plain": [
       "0.00014272483258223107"
      ]
     },
     "execution_count": 144,
     "metadata": {},
     "output_type": "execute_result"
    }
   ],
   "source": [
    "test_value=np.sum((np.array(data_array[:-1,:-1])-np.array(e_array))**2/np.array(e_array))\n",
    "test_value"
   ]
  },
  {
   "cell_type": "code",
   "execution_count": 145,
   "metadata": {},
   "outputs": [
    {
     "name": "stdout",
     "output_type": "stream",
     "text": [
      "accept H0\n"
     ]
    }
   ],
   "source": [
    "alpha=5\n",
    "chi_sq_tab=9.488\n",
    "\n",
    "if test_value<chi_sq_tab:\n",
    "    print(r'accept H0')\n",
    "else:\n",
    "    print(r'reject H0 accept H1')"
   ]
  },
  {
   "cell_type": "markdown",
   "metadata": {},
   "source": [
    "# **Chi-square test for homogeneity**"
   ]
  },
  {
   "cell_type": "code",
   "execution_count": 146,
   "metadata": {},
   "outputs": [
    {
     "name": "stdout",
     "output_type": "stream",
     "text": [
      "[[0.645, 0.642, 0.633]]\n"
     ]
    }
   ],
   "source": [
    "country=\"India\"\n",
    "years=[2019,2020,2021]\n",
    "\n",
    "arr=[[],[]]\n",
    "\n",
    "country_data = df[df['Country'].notnull() & (df['Country'] == country)]\n",
    "\n",
    "# Extracting values for the specified years\n",
    "country_data = country_data[years].values.tolist()\n",
    "\n",
    "print(country_data)"
   ]
  },
  {
   "cell_type": "code",
   "execution_count": 147,
   "metadata": {},
   "outputs": [
    {
     "data": {
      "text/plain": [
       "array([[0.355, 0.358, 0.367]])"
      ]
     },
     "execution_count": 147,
     "metadata": {},
     "output_type": "execute_result"
    }
   ],
   "source": [
    "yes=np.array(country_data)\n",
    "no=1-yes\n",
    "\n",
    "no"
   ]
  },
  {
   "cell_type": "code",
   "execution_count": 148,
   "metadata": {},
   "outputs": [
    {
     "data": {
      "text/plain": [
       "[array([[0.645, 0.642, 0.633]]), array([[0.355, 0.358, 0.367]])]"
      ]
     },
     "execution_count": 148,
     "metadata": {},
     "output_type": "execute_result"
    }
   ],
   "source": [
    "arr[0]=yes\n",
    "arr[1]=no\n",
    "\n",
    "arr"
   ]
  },
  {
   "cell_type": "code",
   "execution_count": 149,
   "metadata": {},
   "outputs": [
    {
     "data": {
      "text/plain": [
       "[array([0.645, 0.642, 0.633, 1.92 ]),\n",
       " array([0.355, 0.358, 0.367, 1.08 ]),\n",
       " array([1, 1, 1, 3])]"
      ]
     },
     "execution_count": 149,
     "metadata": {},
     "output_type": "execute_result"
    }
   ],
   "source": [
    "x1=np.sum(arr[0])\n",
    "x2=np.sum(arr[1])\n",
    "arr[0]= np.append(arr[0], x1)\n",
    "arr[1]=np.append(arr[1], x2)\n",
    "arr.append(np.array([1,1,1,3]))\n",
    "arr"
   ]
  },
  {
   "cell_type": "code",
   "execution_count": 150,
   "metadata": {},
   "outputs": [
    {
     "name": "stdout",
     "output_type": "stream",
     "text": [
      "[[0.64 0.64 0.64 1.92]\n",
      " [0.36 0.36 0.36 1.08]\n",
      " [1.   1.   1.   3.  ]]\n"
     ]
    }
   ],
   "source": [
    "import numpy as np\n",
    "\n",
    "e_array = np.zeros((3, 3)) \n",
    "data_array = np.array(arr)  \n",
    "\n",
    "for i in range(3):\n",
    "    for j in range(3):\n",
    "        e_array[i, j] = (data_array[i, -1] * data_array[-1, j]) / data_array[-1, -1]\n",
    "\n",
    "# Calculate row sums and append them to each respective row\n",
    "row_sums = np.sum(e_array, axis=1)\n",
    "e_array = np.column_stack((e_array, row_sums))\n",
    "\n",
    "print(e_array)\n"
   ]
  },
  {
   "cell_type": "code",
   "execution_count": 155,
   "metadata": {},
   "outputs": [
    {
     "data": {
      "text/plain": [
       "0.0003385416666666672"
      ]
     },
     "execution_count": 155,
     "metadata": {},
     "output_type": "execute_result"
    }
   ],
   "source": [
    "test_value=np.sum(((data_array[:,:])-(e_array[:,:]))**2/(e_array))\n",
    "test_value"
   ]
  },
  {
   "cell_type": "code",
   "execution_count": null,
   "metadata": {},
   "outputs": [],
   "source": []
  }
 ],
 "metadata": {
  "kernelspec": {
   "display_name": "base",
   "language": "python",
   "name": "python3"
  },
  "language_info": {
   "codemirror_mode": {
    "name": "ipython",
    "version": 3
   },
   "file_extension": ".py",
   "mimetype": "text/x-python",
   "name": "python",
   "nbconvert_exporter": "python",
   "pygments_lexer": "ipython3",
   "version": "3.10.9"
  }
 },
 "nbformat": 4,
 "nbformat_minor": 2
}
